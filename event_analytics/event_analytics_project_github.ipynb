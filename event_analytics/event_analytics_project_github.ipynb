{
 "cells": [
  {
   "cell_type": "markdown",
   "id": "8506e069",
   "metadata": {},
   "source": [
    "# Событийная аналитика"
   ]
  },
  {
   "cell_type": "markdown",
   "id": "5f27628d",
   "metadata": {},
   "source": [
    "В данном проекте необходимо разобраться, как ведут себя пользователи мобильного приложения стартапа, который продаёт продукты питания.\n",
    "\n",
    "**Задачи исследования:**\n",
    "- изучить воронку продаж\n",
    "- определить путь пользователя до покупки\n",
    "- определить, сколько пользователей доходит до покупки\n",
    "- определить, на каких шагах застревают пользователи и в каких количествах.\n",
    "- исследовать результаты A/A/B-эксперимента. \n",
    "\n",
    "**Суть эксперимента**\n",
    "\n",
    "Дизайнеры приложения пришли с идеей замены шрифтов во всём приложении. Но менеджеры не хотят рисковать, так как подобные изменения могли бы привести к снижению выручки. Было принято решение провести A/A/B-тестирование. Пользователей поделили на 3 группы: 2 контрольные со старыми шрифтами и одну экспериментальную — с новыми.\n",
    "\n",
    "\n",
    "По результатам теста необходимо **выяснить, повлияло ли изменение шрифта на поведение пользователей и, как следствие, на конверсию шагов воронки.**"
   ]
  },
  {
   "cell_type": "markdown",
   "id": "aa3e6839",
   "metadata": {},
   "source": [
    "## Общая информация о данных"
   ]
  },
  {
   "cell_type": "code",
   "execution_count": 1,
   "id": "a6c209bd",
   "metadata": {},
   "outputs": [],
   "source": [
    "# импорт библиотек\n",
    "import pandas as pd\n",
    "import scipy.stats as st\n",
    "import datetime as dt\n",
    "import numpy as np\n",
    "import math as mth\n",
    "import matplotlib.pyplot as plt\n",
    "from pandas.plotting import register_matplotlib_converters\n",
    "import warnings\n",
    "# конвертеры, которые позволяют использовать типы pandas в matplotlib  \n",
    "register_matplotlib_converters()"
   ]
  },
  {
   "cell_type": "code",
   "execution_count": 2,
   "id": "6f44de84",
   "metadata": {},
   "outputs": [
    {
     "data": {
      "text/html": [
       "<div>\n",
       "<style scoped>\n",
       "    .dataframe tbody tr th:only-of-type {\n",
       "        vertical-align: middle;\n",
       "    }\n",
       "\n",
       "    .dataframe tbody tr th {\n",
       "        vertical-align: top;\n",
       "    }\n",
       "\n",
       "    .dataframe thead th {\n",
       "        text-align: right;\n",
       "    }\n",
       "</style>\n",
       "<table border=\"1\" class=\"dataframe\">\n",
       "  <thead>\n",
       "    <tr style=\"text-align: right;\">\n",
       "      <th></th>\n",
       "      <th>EventName</th>\n",
       "      <th>DeviceIDHash</th>\n",
       "      <th>EventTimestamp</th>\n",
       "      <th>ExpId</th>\n",
       "    </tr>\n",
       "  </thead>\n",
       "  <tbody>\n",
       "    <tr>\n",
       "      <th>0</th>\n",
       "      <td>MainScreenAppear</td>\n",
       "      <td>4575588528974610257</td>\n",
       "      <td>1564029816</td>\n",
       "      <td>246</td>\n",
       "    </tr>\n",
       "    <tr>\n",
       "      <th>1</th>\n",
       "      <td>MainScreenAppear</td>\n",
       "      <td>7416695313311560658</td>\n",
       "      <td>1564053102</td>\n",
       "      <td>246</td>\n",
       "    </tr>\n",
       "    <tr>\n",
       "      <th>2</th>\n",
       "      <td>PaymentScreenSuccessful</td>\n",
       "      <td>3518123091307005509</td>\n",
       "      <td>1564054127</td>\n",
       "      <td>248</td>\n",
       "    </tr>\n",
       "    <tr>\n",
       "      <th>3</th>\n",
       "      <td>CartScreenAppear</td>\n",
       "      <td>3518123091307005509</td>\n",
       "      <td>1564054127</td>\n",
       "      <td>248</td>\n",
       "    </tr>\n",
       "    <tr>\n",
       "      <th>4</th>\n",
       "      <td>PaymentScreenSuccessful</td>\n",
       "      <td>6217807653094995999</td>\n",
       "      <td>1564055322</td>\n",
       "      <td>248</td>\n",
       "    </tr>\n",
       "  </tbody>\n",
       "</table>\n",
       "</div>"
      ],
      "text/plain": [
       "                 EventName         DeviceIDHash  EventTimestamp  ExpId\n",
       "0         MainScreenAppear  4575588528974610257      1564029816    246\n",
       "1         MainScreenAppear  7416695313311560658      1564053102    246\n",
       "2  PaymentScreenSuccessful  3518123091307005509      1564054127    248\n",
       "3         CartScreenAppear  3518123091307005509      1564054127    248\n",
       "4  PaymentScreenSuccessful  6217807653094995999      1564055322    248"
      ]
     },
     "execution_count": 2,
     "metadata": {},
     "output_type": "execute_result"
    }
   ],
   "source": [
    "try:\n",
    "    logs = pd.read_csv('logs_exp.csv', sep='\\t')\n",
    "except:\n",
    "    logs = pd.read_csv('/datasets/logs_exp.csv', sep='\\t')\n",
    "    \n",
    "# вывод первых строк для ознакомления\n",
    "logs.head()"
   ]
  },
  {
   "cell_type": "markdown",
   "id": "591440c9",
   "metadata": {},
   "source": [
    "Каждая запись в логе — это действие пользователя, или событие. \n",
    "\n",
    "- `EventName` — название события\n",
    "- `DeviceIDHash` — уникальный идентификатор пользователя\n",
    "- `EventTimestamp` — время события\n",
    "- `ExpId` — номер эксперимента: 246 и 247 — контрольные группы, а 248 — экспериментальная."
   ]
  },
  {
   "cell_type": "markdown",
   "id": "a3726317",
   "metadata": {},
   "source": [
    "## Подготовка данных"
   ]
  },
  {
   "cell_type": "markdown",
   "id": "db7c24cf",
   "metadata": {},
   "source": [
    "### Названия столбцов"
   ]
  },
  {
   "cell_type": "markdown",
   "id": "29d78d70",
   "metadata": {},
   "source": [
    "Приведём названия столбцов к более привычному виду:"
   ]
  },
  {
   "cell_type": "code",
   "execution_count": 3,
   "id": "ec2a3cde",
   "metadata": {},
   "outputs": [],
   "source": [
    "logs.columns = ['event_name', 'user_id', 'event_timestamp', 'group']"
   ]
  },
  {
   "cell_type": "markdown",
   "id": "749d6c64",
   "metadata": {},
   "source": [
    "### Пропуски"
   ]
  },
  {
   "cell_type": "markdown",
   "id": "cc9a9ab0",
   "metadata": {},
   "source": [
    "Проверим наличие пропусков:"
   ]
  },
  {
   "cell_type": "code",
   "execution_count": 4,
   "id": "d382f281",
   "metadata": {},
   "outputs": [
    {
     "name": "stdout",
     "output_type": "stream",
     "text": [
      "<class 'pandas.core.frame.DataFrame'>\n",
      "RangeIndex: 244126 entries, 0 to 244125\n",
      "Data columns (total 4 columns):\n",
      " #   Column           Non-Null Count   Dtype \n",
      "---  ------           --------------   ----- \n",
      " 0   event_name       244126 non-null  object\n",
      " 1   user_id          244126 non-null  int64 \n",
      " 2   event_timestamp  244126 non-null  int64 \n",
      " 3   group            244126 non-null  int64 \n",
      "dtypes: int64(3), object(1)\n",
      "memory usage: 7.5+ MB\n"
     ]
    }
   ],
   "source": [
    "#общая информация\n",
    "logs.info()"
   ]
  },
  {
   "cell_type": "code",
   "execution_count": 5,
   "id": "494a6107",
   "metadata": {},
   "outputs": [
    {
     "data": {
      "text/plain": [
       "event_name         0\n",
       "user_id            0\n",
       "event_timestamp    0\n",
       "group              0\n",
       "dtype: int64"
      ]
     },
     "execution_count": 5,
     "metadata": {},
     "output_type": "execute_result"
    }
   ],
   "source": [
    "# количество пропусков\n",
    "logs.isna().sum()"
   ]
  },
  {
   "cell_type": "markdown",
   "id": "52f93728",
   "metadata": {},
   "source": [
    "Пропуски отсутствуют."
   ]
  },
  {
   "cell_type": "markdown",
   "id": "308174c9",
   "metadata": {},
   "source": [
    "### Дата и время"
   ]
  },
  {
   "cell_type": "markdown",
   "id": "df896773",
   "metadata": {},
   "source": [
    "Данные столбца `event_timestamp` приведены в формате unix-time. Переведём данные в формат datetime:"
   ]
  },
  {
   "cell_type": "code",
   "execution_count": 6,
   "id": "96f3a737",
   "metadata": {},
   "outputs": [
    {
     "data": {
      "text/html": [
       "<div>\n",
       "<style scoped>\n",
       "    .dataframe tbody tr th:only-of-type {\n",
       "        vertical-align: middle;\n",
       "    }\n",
       "\n",
       "    .dataframe tbody tr th {\n",
       "        vertical-align: top;\n",
       "    }\n",
       "\n",
       "    .dataframe thead th {\n",
       "        text-align: right;\n",
       "    }\n",
       "</style>\n",
       "<table border=\"1\" class=\"dataframe\">\n",
       "  <thead>\n",
       "    <tr style=\"text-align: right;\">\n",
       "      <th></th>\n",
       "      <th>event_name</th>\n",
       "      <th>user_id</th>\n",
       "      <th>event_timestamp</th>\n",
       "      <th>group</th>\n",
       "      <th>event_datetime</th>\n",
       "    </tr>\n",
       "  </thead>\n",
       "  <tbody>\n",
       "    <tr>\n",
       "      <th>0</th>\n",
       "      <td>MainScreenAppear</td>\n",
       "      <td>4575588528974610257</td>\n",
       "      <td>1564029816</td>\n",
       "      <td>246</td>\n",
       "      <td>2019-07-25 04:43:36</td>\n",
       "    </tr>\n",
       "    <tr>\n",
       "      <th>1</th>\n",
       "      <td>MainScreenAppear</td>\n",
       "      <td>7416695313311560658</td>\n",
       "      <td>1564053102</td>\n",
       "      <td>246</td>\n",
       "      <td>2019-07-25 11:11:42</td>\n",
       "    </tr>\n",
       "    <tr>\n",
       "      <th>2</th>\n",
       "      <td>PaymentScreenSuccessful</td>\n",
       "      <td>3518123091307005509</td>\n",
       "      <td>1564054127</td>\n",
       "      <td>248</td>\n",
       "      <td>2019-07-25 11:28:47</td>\n",
       "    </tr>\n",
       "    <tr>\n",
       "      <th>3</th>\n",
       "      <td>CartScreenAppear</td>\n",
       "      <td>3518123091307005509</td>\n",
       "      <td>1564054127</td>\n",
       "      <td>248</td>\n",
       "      <td>2019-07-25 11:28:47</td>\n",
       "    </tr>\n",
       "    <tr>\n",
       "      <th>4</th>\n",
       "      <td>PaymentScreenSuccessful</td>\n",
       "      <td>6217807653094995999</td>\n",
       "      <td>1564055322</td>\n",
       "      <td>248</td>\n",
       "      <td>2019-07-25 11:48:42</td>\n",
       "    </tr>\n",
       "  </tbody>\n",
       "</table>\n",
       "</div>"
      ],
      "text/plain": [
       "                event_name              user_id  event_timestamp  group  \\\n",
       "0         MainScreenAppear  4575588528974610257       1564029816    246   \n",
       "1         MainScreenAppear  7416695313311560658       1564053102    246   \n",
       "2  PaymentScreenSuccessful  3518123091307005509       1564054127    248   \n",
       "3         CartScreenAppear  3518123091307005509       1564054127    248   \n",
       "4  PaymentScreenSuccessful  6217807653094995999       1564055322    248   \n",
       "\n",
       "       event_datetime  \n",
       "0 2019-07-25 04:43:36  \n",
       "1 2019-07-25 11:11:42  \n",
       "2 2019-07-25 11:28:47  \n",
       "3 2019-07-25 11:28:47  \n",
       "4 2019-07-25 11:48:42  "
      ]
     },
     "execution_count": 6,
     "metadata": {},
     "output_type": "execute_result"
    }
   ],
   "source": [
    "logs['event_datetime'] = pd.to_datetime(logs['event_timestamp'], unit='s')\n",
    "# проверка\n",
    "logs.head()"
   ]
  },
  {
   "cell_type": "markdown",
   "id": "23f9ac71",
   "metadata": {},
   "source": [
    "Получили столбец с датой и временем, добавим отдельный столбец с датой:"
   ]
  },
  {
   "cell_type": "code",
   "execution_count": 7,
   "id": "885bf619",
   "metadata": {
    "scrolled": true
   },
   "outputs": [
    {
     "data": {
      "text/html": [
       "<div>\n",
       "<style scoped>\n",
       "    .dataframe tbody tr th:only-of-type {\n",
       "        vertical-align: middle;\n",
       "    }\n",
       "\n",
       "    .dataframe tbody tr th {\n",
       "        vertical-align: top;\n",
       "    }\n",
       "\n",
       "    .dataframe thead th {\n",
       "        text-align: right;\n",
       "    }\n",
       "</style>\n",
       "<table border=\"1\" class=\"dataframe\">\n",
       "  <thead>\n",
       "    <tr style=\"text-align: right;\">\n",
       "      <th></th>\n",
       "      <th>event_name</th>\n",
       "      <th>user_id</th>\n",
       "      <th>event_timestamp</th>\n",
       "      <th>group</th>\n",
       "      <th>event_datetime</th>\n",
       "      <th>event_date</th>\n",
       "    </tr>\n",
       "  </thead>\n",
       "  <tbody>\n",
       "    <tr>\n",
       "      <th>0</th>\n",
       "      <td>MainScreenAppear</td>\n",
       "      <td>4575588528974610257</td>\n",
       "      <td>1564029816</td>\n",
       "      <td>246</td>\n",
       "      <td>2019-07-25 04:43:36</td>\n",
       "      <td>2019-07-25</td>\n",
       "    </tr>\n",
       "    <tr>\n",
       "      <th>1</th>\n",
       "      <td>MainScreenAppear</td>\n",
       "      <td>7416695313311560658</td>\n",
       "      <td>1564053102</td>\n",
       "      <td>246</td>\n",
       "      <td>2019-07-25 11:11:42</td>\n",
       "      <td>2019-07-25</td>\n",
       "    </tr>\n",
       "    <tr>\n",
       "      <th>2</th>\n",
       "      <td>PaymentScreenSuccessful</td>\n",
       "      <td>3518123091307005509</td>\n",
       "      <td>1564054127</td>\n",
       "      <td>248</td>\n",
       "      <td>2019-07-25 11:28:47</td>\n",
       "      <td>2019-07-25</td>\n",
       "    </tr>\n",
       "    <tr>\n",
       "      <th>3</th>\n",
       "      <td>CartScreenAppear</td>\n",
       "      <td>3518123091307005509</td>\n",
       "      <td>1564054127</td>\n",
       "      <td>248</td>\n",
       "      <td>2019-07-25 11:28:47</td>\n",
       "      <td>2019-07-25</td>\n",
       "    </tr>\n",
       "    <tr>\n",
       "      <th>4</th>\n",
       "      <td>PaymentScreenSuccessful</td>\n",
       "      <td>6217807653094995999</td>\n",
       "      <td>1564055322</td>\n",
       "      <td>248</td>\n",
       "      <td>2019-07-25 11:48:42</td>\n",
       "      <td>2019-07-25</td>\n",
       "    </tr>\n",
       "  </tbody>\n",
       "</table>\n",
       "</div>"
      ],
      "text/plain": [
       "                event_name              user_id  event_timestamp  group  \\\n",
       "0         MainScreenAppear  4575588528974610257       1564029816    246   \n",
       "1         MainScreenAppear  7416695313311560658       1564053102    246   \n",
       "2  PaymentScreenSuccessful  3518123091307005509       1564054127    248   \n",
       "3         CartScreenAppear  3518123091307005509       1564054127    248   \n",
       "4  PaymentScreenSuccessful  6217807653094995999       1564055322    248   \n",
       "\n",
       "       event_datetime  event_date  \n",
       "0 2019-07-25 04:43:36  2019-07-25  \n",
       "1 2019-07-25 11:11:42  2019-07-25  \n",
       "2 2019-07-25 11:28:47  2019-07-25  \n",
       "3 2019-07-25 11:28:47  2019-07-25  \n",
       "4 2019-07-25 11:48:42  2019-07-25  "
      ]
     },
     "execution_count": 7,
     "metadata": {},
     "output_type": "execute_result"
    }
   ],
   "source": [
    "logs['event_date'] = logs['event_datetime'].dt.date\n",
    "# проверка\n",
    "logs.head()"
   ]
  },
  {
   "cell_type": "markdown",
   "id": "a96c1e75",
   "metadata": {},
   "source": [
    "### Дубликаты"
   ]
  },
  {
   "cell_type": "markdown",
   "id": "d9d45589",
   "metadata": {},
   "source": [
    "Проверим наличие явных дубликатов:"
   ]
  },
  {
   "cell_type": "code",
   "execution_count": 8,
   "id": "97cae04a",
   "metadata": {},
   "outputs": [
    {
     "data": {
      "text/plain": [
       "413"
      ]
     },
     "execution_count": 8,
     "metadata": {},
     "output_type": "execute_result"
    }
   ],
   "source": [
    "logs.duplicated().sum()"
   ]
  },
  {
   "cell_type": "code",
   "execution_count": 9,
   "id": "ca20754d",
   "metadata": {},
   "outputs": [
    {
     "name": "stdout",
     "output_type": "stream",
     "text": [
      "Процент дубликатов в датафрейме: 0.17%\n"
     ]
    }
   ],
   "source": [
    "print('Процент дубликатов в датафрейме: {0:.2f}%'.format(logs.duplicated().sum() / logs.shape[0] * 100))"
   ]
  },
  {
   "cell_type": "markdown",
   "id": "5e0633d5",
   "metadata": {},
   "source": [
    "Удалим 0.17% данных из датафрейма:"
   ]
  },
  {
   "cell_type": "code",
   "execution_count": 10,
   "id": "f4b424ae",
   "metadata": {},
   "outputs": [
    {
     "data": {
      "text/plain": [
       "0"
      ]
     },
     "execution_count": 10,
     "metadata": {},
     "output_type": "execute_result"
    }
   ],
   "source": [
    "logs = logs.drop_duplicates()\n",
    "# проверка\n",
    "logs.duplicated().sum()"
   ]
  },
  {
   "cell_type": "markdown",
   "id": "b3b40e47",
   "metadata": {},
   "source": [
    "## Изучение и проверка данных"
   ]
  },
  {
   "cell_type": "markdown",
   "id": "3ae8ac0d",
   "metadata": {},
   "source": [
    "### Количество событий, пользователей, среднее количество событий на пользователя"
   ]
  },
  {
   "cell_type": "markdown",
   "id": "100ee1ee",
   "metadata": {},
   "source": [
    "Посчитаем количество событий и пользователей в логе, а также среднее количество событий на пользвателя:"
   ]
  },
  {
   "cell_type": "code",
   "execution_count": 11,
   "id": "ad8e157a",
   "metadata": {},
   "outputs": [
    {
     "name": "stdout",
     "output_type": "stream",
     "text": [
      "Количество событий в логе: 243713\n",
      "Количество пользователей в логе: 7551\n",
      "Среднее арифметическое количество событий на пользователя: 32\n",
      "Медианное количество событий на пользователя: 20\n"
     ]
    }
   ],
   "source": [
    "print('Количество событий в логе: {}'.format(logs.shape[0]))\n",
    "print('Количество пользователей в логе: {}'.format(logs['user_id'].nunique()))\n",
    "print('Среднее арифметическое количество событий на пользователя: {}'.format(\n",
    "    round(logs.groupby('user_id').agg({'event_name': 'count'}).mean()[0])\n",
    "))\n",
    "print('Медианное количество событий на пользователя: {}'.format(\n",
    "    round(logs.groupby('user_id').agg({'event_name': 'count'}).median()[0])\n",
    "))"
   ]
  },
  {
   "cell_type": "markdown",
   "id": "f9c07acf",
   "metadata": {},
   "source": [
    "### Период событий, потери событий и пользователей после чистки"
   ]
  },
  {
   "cell_type": "markdown",
   "id": "7d582696",
   "metadata": {},
   "source": [
    "Узнаем, данные за какой период мы имеем:"
   ]
  },
  {
   "cell_type": "code",
   "execution_count": 12,
   "id": "c28dd7cf",
   "metadata": {},
   "outputs": [
    {
     "name": "stdout",
     "output_type": "stream",
     "text": [
      "Минимальная дата: 2019-07-25\n",
      "Максимальная дата: 2019-08-07\n"
     ]
    }
   ],
   "source": [
    "print('Минимальная дата: {}'.format(logs['event_date'].min()))\n",
    "print('Максимальная дата: {}'.format(logs['event_date'].max()))"
   ]
  },
  {
   "cell_type": "markdown",
   "id": "cc4dcb80",
   "metadata": {},
   "source": [
    "Мы имеем данные за двухнедельный период с 25 июля по 7 августа 2019 года.\n",
    "\n",
    "Построим гистограмму по дате и времени:"
   ]
  },
  {
   "cell_type": "code",
   "execution_count": 13,
   "id": "82655eae",
   "metadata": {},
   "outputs": [
    {
     "data": {
      "image/png": "[encoded data removed]",
      "text/plain": [
       "<Figure size 900x500 with 1 Axes>"
      ]
     },
     "metadata": {},
     "output_type": "display_data"
    }
   ],
   "source": [
    "logs['event_datetime'].hist(bins=150, figsize=(9, 5))\n",
    "plt.xticks(rotation=45)\n",
    "plt.title('Распределение событий по дате и времени');"
   ]
  },
  {
   "cell_type": "markdown",
   "id": "123daf50",
   "metadata": {},
   "source": [
    "Наблюдается неравномерное распределение данных по дате и времени - данных за июль очень мало по сравнению с августом. Технически в логи новых дней по некоторым пользователям могут «доезжать» события из прошлого  — это может «перекашивать данные».\n",
    "\n",
    "Примем, что с 1 августа данные полные. Таким образом, мы обладаем данными за период с 1 по 7 августа 2019 года.\n",
    "\n",
    "Узнаем количество событий и пользователей из периода с неполными данными."
   ]
  },
  {
   "cell_type": "code",
   "execution_count": 14,
   "id": "acf3bc8f",
   "metadata": {},
   "outputs": [
    {
     "name": "stdout",
     "output_type": "stream",
     "text": [
      "Количество событий из периода с неполными данными: 2826\n",
      "Процент неполных данных: 1.17%\n",
      "Количество пользователей с неполными данными: 1451\n",
      "Процент пользователей с неполными данными: 19.26%\n"
     ]
    }
   ],
   "source": [
    "print('Количество событий из периода с неполными данными: {}'.format(\n",
    "    logs.query('event_date < datetime(2019, 8, 1).date()').shape[0]))\n",
    "print('Процент неполных данных: {0:.2f}%'.format(\n",
    "    logs.query('event_date < datetime(2019, 8, 1).date()').shape[0] / \n",
    "    logs.query('event_date >= datetime(2019, 8, 1).date()').shape[0] * 100\n",
    "))\n",
    "print('Количество пользователей с неполными данными: {}'.format(\n",
    "    logs.query('event_date < datetime(2019, 8, 1).date()')['user_id'].nunique()))\n",
    "print('Процент пользователей с неполными данными: {0:.2f}%'.format(\n",
    "    logs.query('event_date < datetime(2019, 8, 1).date()')['user_id'].nunique() / \n",
    "    logs.query('event_date >= datetime(2019, 8, 1).date()')['user_id'].nunique() * 100\n",
    "))"
   ]
  },
  {
   "cell_type": "code",
   "execution_count": 15,
   "id": "caff1b53",
   "metadata": {},
   "outputs": [
    {
     "name": "stdout",
     "output_type": "stream",
     "text": [
      "Количество пользователей, входящих только в период до 1 августа: 17\n",
      "Количество пользователей, входящих в периоды и до 1 августа, и после: 1434\n",
      "Процент пользователей, входящих только в период до 1 августа: 0.23%\n"
     ]
    }
   ],
   "source": [
    "# список пользователей с полными данными\n",
    "full_data_users = logs.query('event_date >= datetime(2019, 8, 1).date()')['user_id'].unique().tolist()\n",
    "\n",
    "# количество пользователей, входящих только в период до 1 августа\n",
    "print('Количество пользователей, входящих только в период до 1 августа: {}'.format(\n",
    "    logs.query('event_date < datetime(2019, 8, 1).date() and user_id not in @full_data_users')['user_id'].nunique())\n",
    "       )\n",
    "\n",
    "# количество пользователей, входящих в периоды и до 1 августа, и после\n",
    "print('Количество пользователей, входящих в периоды и до 1 августа, и после: {}'.format(\n",
    "    logs.query('event_date < datetime(2019, 8, 1).date() and user_id in @full_data_users')['user_id'].nunique())\n",
    "       )\n",
    "\n",
    "# процент пользователей, входящих только в период до 1 августа\n",
    "print('Процент пользователей, входящих только в период до 1 августа: {0:.2f}%'.format(\n",
    "    logs.query('event_date < datetime(2019, 8, 1).date() and user_id not in @full_data_users')['user_id'].nunique() /\n",
    "    logs['user_id'].nunique() * 100)\n",
    "       )"
   ]
  },
  {
   "cell_type": "markdown",
   "id": "f1afa314",
   "metadata": {},
   "source": [
    "При удалении событий из периода с неполными данными теряется 1.17% строк. В них содержатся данные 1451 уникального пользователя - это 19.26% всех пользователей. Но полностью теряются только 17 пользователей - 0.23% от всех пользователей, остальные 1434 пользователя из периода с неполными данными остаются в периоде с 1 по 7 августа.\n",
    "\n",
    "Удалим 2826 строк (1.17%) с неполными старыми данными:"
   ]
  },
  {
   "cell_type": "code",
   "execution_count": 16,
   "id": "b0770b93",
   "metadata": {},
   "outputs": [],
   "source": [
    "logs = logs.query('event_date >= datetime(2019, 8, 1).date()')"
   ]
  },
  {
   "cell_type": "markdown",
   "id": "b1fcba57",
   "metadata": {},
   "source": [
    "### Пользователи групп"
   ]
  },
  {
   "cell_type": "markdown",
   "id": "c788236d",
   "metadata": {},
   "source": [
    "Проверим, остались ли в нашем датафрейме пользователи из всех трёх групп:"
   ]
  },
  {
   "cell_type": "code",
   "execution_count": 17,
   "id": "726b0209",
   "metadata": {},
   "outputs": [
    {
     "data": {
      "text/html": [
       "<div>\n",
       "<style scoped>\n",
       "    .dataframe tbody tr th:only-of-type {\n",
       "        vertical-align: middle;\n",
       "    }\n",
       "\n",
       "    .dataframe tbody tr th {\n",
       "        vertical-align: top;\n",
       "    }\n",
       "\n",
       "    .dataframe thead tr th {\n",
       "        text-align: left;\n",
       "    }\n",
       "\n",
       "    .dataframe thead tr:last-of-type th {\n",
       "        text-align: right;\n",
       "    }\n",
       "</style>\n",
       "<table border=\"1\" class=\"dataframe\">\n",
       "  <thead>\n",
       "    <tr>\n",
       "      <th></th>\n",
       "      <th colspan=\"2\" halign=\"left\">user_id</th>\n",
       "    </tr>\n",
       "    <tr>\n",
       "      <th></th>\n",
       "      <th>count</th>\n",
       "      <th>nunique</th>\n",
       "    </tr>\n",
       "    <tr>\n",
       "      <th>group</th>\n",
       "      <th></th>\n",
       "      <th></th>\n",
       "    </tr>\n",
       "  </thead>\n",
       "  <tbody>\n",
       "    <tr>\n",
       "      <th>246</th>\n",
       "      <td>79302</td>\n",
       "      <td>2484</td>\n",
       "    </tr>\n",
       "    <tr>\n",
       "      <th>247</th>\n",
       "      <td>77022</td>\n",
       "      <td>2513</td>\n",
       "    </tr>\n",
       "    <tr>\n",
       "      <th>248</th>\n",
       "      <td>84563</td>\n",
       "      <td>2537</td>\n",
       "    </tr>\n",
       "  </tbody>\n",
       "</table>\n",
       "</div>"
      ],
      "text/plain": [
       "      user_id        \n",
       "        count nunique\n",
       "group                \n",
       "246     79302    2484\n",
       "247     77022    2513\n",
       "248     84563    2537"
      ]
     },
     "execution_count": 17,
     "metadata": {},
     "output_type": "execute_result"
    }
   ],
   "source": [
    "logs.groupby('group').agg({'user_id': ['count', 'nunique']})"
   ]
  },
  {
   "cell_type": "markdown",
   "id": "bb1f0a8c",
   "metadata": {},
   "source": [
    "Во всех трёх группах присутствуют пользователи.\n",
    "\n",
    "Проверим, имеются ли пользователи, состоящие одновременно в разных группах:"
   ]
  },
  {
   "cell_type": "code",
   "execution_count": 18,
   "id": "db212bc0",
   "metadata": {},
   "outputs": [
    {
     "data": {
      "text/html": [
       "<div>\n",
       "<style scoped>\n",
       "    .dataframe tbody tr th:only-of-type {\n",
       "        vertical-align: middle;\n",
       "    }\n",
       "\n",
       "    .dataframe tbody tr th {\n",
       "        vertical-align: top;\n",
       "    }\n",
       "\n",
       "    .dataframe thead th {\n",
       "        text-align: right;\n",
       "    }\n",
       "</style>\n",
       "<table border=\"1\" class=\"dataframe\">\n",
       "  <thead>\n",
       "    <tr style=\"text-align: right;\">\n",
       "      <th></th>\n",
       "      <th>group</th>\n",
       "    </tr>\n",
       "    <tr>\n",
       "      <th>user_id</th>\n",
       "      <th></th>\n",
       "    </tr>\n",
       "  </thead>\n",
       "  <tbody>\n",
       "  </tbody>\n",
       "</table>\n",
       "</div>"
      ],
      "text/plain": [
       "Empty DataFrame\n",
       "Columns: [group]\n",
       "Index: []"
      ]
     },
     "execution_count": 18,
     "metadata": {},
     "output_type": "execute_result"
    }
   ],
   "source": [
    "logs.groupby('user_id').agg({'group': 'nunique'}).query('group > 1')"
   ]
  },
  {
   "cell_type": "markdown",
   "id": "7eedda72",
   "metadata": {},
   "source": [
    "Таких пользователей не имеется.\n",
    "\n",
    "**Вывод:**\n",
    "\n",
    "Провели предобработку и проверку данных:\n",
    "- исключили явные дубликаты\n",
    "- привели столбец даты и времени к нужному формату\n",
    "- отсеяли события с неполными данными - остался период с 1-ого августа по 7-ое августа 2019 года\n",
    "- провели проверку на наличие пользователей в группах."
   ]
  },
  {
   "cell_type": "markdown",
   "id": "2da9ba6a",
   "metadata": {},
   "source": [
    "## Воронка событий"
   ]
  },
  {
   "cell_type": "markdown",
   "id": "d637e8c2",
   "metadata": {},
   "source": [
    "### Частота событий"
   ]
  },
  {
   "cell_type": "markdown",
   "id": "b31b47fa",
   "metadata": {},
   "source": [
    "Узнаем, какие события есть в логах и как часто они встречаются."
   ]
  },
  {
   "cell_type": "code",
   "execution_count": 19,
   "id": "436ecba2",
   "metadata": {
    "scrolled": true
   },
   "outputs": [
    {
     "data": {
      "text/html": [
       "<div>\n",
       "<style scoped>\n",
       "    .dataframe tbody tr th:only-of-type {\n",
       "        vertical-align: middle;\n",
       "    }\n",
       "\n",
       "    .dataframe tbody tr th {\n",
       "        vertical-align: top;\n",
       "    }\n",
       "\n",
       "    .dataframe thead th {\n",
       "        text-align: right;\n",
       "    }\n",
       "</style>\n",
       "<table border=\"1\" class=\"dataframe\">\n",
       "  <thead>\n",
       "    <tr style=\"text-align: right;\">\n",
       "      <th></th>\n",
       "      <th>user_id</th>\n",
       "    </tr>\n",
       "    <tr>\n",
       "      <th>event_name</th>\n",
       "      <th></th>\n",
       "    </tr>\n",
       "  </thead>\n",
       "  <tbody>\n",
       "    <tr>\n",
       "      <th>MainScreenAppear</th>\n",
       "      <td>117328</td>\n",
       "    </tr>\n",
       "    <tr>\n",
       "      <th>OffersScreenAppear</th>\n",
       "      <td>46333</td>\n",
       "    </tr>\n",
       "    <tr>\n",
       "      <th>CartScreenAppear</th>\n",
       "      <td>42303</td>\n",
       "    </tr>\n",
       "    <tr>\n",
       "      <th>PaymentScreenSuccessful</th>\n",
       "      <td>33918</td>\n",
       "    </tr>\n",
       "    <tr>\n",
       "      <th>Tutorial</th>\n",
       "      <td>1005</td>\n",
       "    </tr>\n",
       "  </tbody>\n",
       "</table>\n",
       "</div>"
      ],
      "text/plain": [
       "                         user_id\n",
       "event_name                      \n",
       "MainScreenAppear          117328\n",
       "OffersScreenAppear         46333\n",
       "CartScreenAppear           42303\n",
       "PaymentScreenSuccessful    33918\n",
       "Tutorial                    1005"
      ]
     },
     "execution_count": 19,
     "metadata": {},
     "output_type": "execute_result"
    }
   ],
   "source": [
    "logs.groupby('event_name').agg({'user_id': 'count'}).sort_values('user_id', ascending=False)"
   ]
  },
  {
   "cell_type": "code",
   "execution_count": 20,
   "id": "01f1d52c",
   "metadata": {},
   "outputs": [
    {
     "data": {
      "image/png": "[encoded data removed]",
      "text/plain": [
       "<Figure size 640x480 with 1 Axes>"
      ]
     },
     "metadata": {},
     "output_type": "display_data"
    }
   ],
   "source": [
    "logs['event_name'].value_counts().plot(kind='bar', grid=True)\n",
    "plt.xticks(rotation=45)\n",
    "plt.title('Распределение событий по частоте');"
   ]
  },
  {
   "cell_type": "markdown",
   "id": "68792873",
   "metadata": {},
   "source": [
    "В логах встречаются следующие события (в порядке убывания частоты):\n",
    "- отображение главного экрана - встречается чаще всего\n",
    "- отображение экрана каталога\n",
    "- отображение корзины\n",
    "- экран успешной оплаты\n",
    "- руководство - встречается реже всего, небольшое количество пользователей читают руководство.\n",
    "\n",
    "На первый взгляд экраны каталога, корзины и успешной оплаты встречаются примерно с одной частотой, нет очень больших разрывов, таких, как между главным экраном и экраном предложений."
   ]
  },
  {
   "cell_type": "markdown",
   "id": "e7c7a244",
   "metadata": {},
   "source": [
    "### Количество пользователей, совершивших событие"
   ]
  },
  {
   "cell_type": "markdown",
   "id": "912c389f",
   "metadata": {},
   "source": [
    "Узнаем, сколько пользователей совершали каждое из этих событий, а также посчитаем процент пользователей от их общего количества, которые хоть раз совершали событие."
   ]
  },
  {
   "cell_type": "code",
   "execution_count": 21,
   "id": "5761b53c",
   "metadata": {},
   "outputs": [
    {
     "data": {
      "text/html": [
       "<div>\n",
       "<style scoped>\n",
       "    .dataframe tbody tr th:only-of-type {\n",
       "        vertical-align: middle;\n",
       "    }\n",
       "\n",
       "    .dataframe tbody tr th {\n",
       "        vertical-align: top;\n",
       "    }\n",
       "\n",
       "    .dataframe thead th {\n",
       "        text-align: right;\n",
       "    }\n",
       "</style>\n",
       "<table border=\"1\" class=\"dataframe\">\n",
       "  <thead>\n",
       "    <tr style=\"text-align: right;\">\n",
       "      <th></th>\n",
       "      <th>users_total</th>\n",
       "      <th>perc</th>\n",
       "    </tr>\n",
       "    <tr>\n",
       "      <th>event_name</th>\n",
       "      <th></th>\n",
       "      <th></th>\n",
       "    </tr>\n",
       "  </thead>\n",
       "  <tbody>\n",
       "    <tr>\n",
       "      <th>MainScreenAppear</th>\n",
       "      <td>7419</td>\n",
       "      <td>98.47</td>\n",
       "    </tr>\n",
       "    <tr>\n",
       "      <th>OffersScreenAppear</th>\n",
       "      <td>4593</td>\n",
       "      <td>60.96</td>\n",
       "    </tr>\n",
       "    <tr>\n",
       "      <th>CartScreenAppear</th>\n",
       "      <td>3734</td>\n",
       "      <td>49.56</td>\n",
       "    </tr>\n",
       "    <tr>\n",
       "      <th>PaymentScreenSuccessful</th>\n",
       "      <td>3539</td>\n",
       "      <td>46.97</td>\n",
       "    </tr>\n",
       "    <tr>\n",
       "      <th>Tutorial</th>\n",
       "      <td>840</td>\n",
       "      <td>11.15</td>\n",
       "    </tr>\n",
       "  </tbody>\n",
       "</table>\n",
       "</div>"
      ],
      "text/plain": [
       "                         users_total   perc\n",
       "event_name                                 \n",
       "MainScreenAppear                7419  98.47\n",
       "OffersScreenAppear              4593  60.96\n",
       "CartScreenAppear                3734  49.56\n",
       "PaymentScreenSuccessful         3539  46.97\n",
       "Tutorial                         840  11.15"
      ]
     },
     "execution_count": 21,
     "metadata": {},
     "output_type": "execute_result"
    }
   ],
   "source": [
    "events_users = logs.groupby('event_name').agg({'user_id': 'nunique'}).sort_values('user_id', ascending=False)\n",
    "events_users.columns = ['users_total']\n",
    "events_users['perc'] = round(events_users['users_total'] / logs['user_id'].nunique() * 100, 2)\n",
    "events_users"
   ]
  },
  {
   "cell_type": "markdown",
   "id": "5d73cb97",
   "metadata": {},
   "source": [
    "Можно сделать вывод, что события происходят в следующем порядке:\n",
    "```\n",
    "1) отображение главного экрана\n",
    "2) отображение экрана каталога\n",
    "3) отображение экрана корзины\n",
    "4) отображение экрана успешной оплаты.\n",
    "```\n",
    "Отображение экрана руководства опционально - пользователь может перейти на этот экран в любое время, для совершения покупки не обязательно его просматривать, поэтому не будем учитывать его в расчёте воронки событий."
   ]
  },
  {
   "cell_type": "code",
   "execution_count": 22,
   "id": "56b10e70",
   "metadata": {},
   "outputs": [
    {
     "data": {
      "text/html": [
       "<div>\n",
       "<style scoped>\n",
       "    .dataframe tbody tr th:only-of-type {\n",
       "        vertical-align: middle;\n",
       "    }\n",
       "\n",
       "    .dataframe tbody tr th {\n",
       "        vertical-align: top;\n",
       "    }\n",
       "\n",
       "    .dataframe thead th {\n",
       "        text-align: right;\n",
       "    }\n",
       "</style>\n",
       "<table border=\"1\" class=\"dataframe\">\n",
       "  <thead>\n",
       "    <tr style=\"text-align: right;\">\n",
       "      <th></th>\n",
       "      <th>users_total</th>\n",
       "      <th>perc</th>\n",
       "    </tr>\n",
       "    <tr>\n",
       "      <th>event_name</th>\n",
       "      <th></th>\n",
       "      <th></th>\n",
       "    </tr>\n",
       "  </thead>\n",
       "  <tbody>\n",
       "    <tr>\n",
       "      <th>MainScreenAppear</th>\n",
       "      <td>7419</td>\n",
       "      <td>98.53</td>\n",
       "    </tr>\n",
       "    <tr>\n",
       "      <th>OffersScreenAppear</th>\n",
       "      <td>4593</td>\n",
       "      <td>61.00</td>\n",
       "    </tr>\n",
       "    <tr>\n",
       "      <th>CartScreenAppear</th>\n",
       "      <td>3734</td>\n",
       "      <td>49.59</td>\n",
       "    </tr>\n",
       "    <tr>\n",
       "      <th>PaymentScreenSuccessful</th>\n",
       "      <td>3539</td>\n",
       "      <td>47.00</td>\n",
       "    </tr>\n",
       "  </tbody>\n",
       "</table>\n",
       "</div>"
      ],
      "text/plain": [
       "                         users_total   perc\n",
       "event_name                                 \n",
       "MainScreenAppear                7419  98.53\n",
       "OffersScreenAppear              4593  61.00\n",
       "CartScreenAppear                3734  49.59\n",
       "PaymentScreenSuccessful         3539  47.00"
      ]
     },
     "execution_count": 22,
     "metadata": {},
     "output_type": "execute_result"
    }
   ],
   "source": [
    "# расчёт воронки\n",
    "logs_funnel = (\n",
    "    logs\n",
    "    .query('event_name != \"Tutorial\"')\n",
    "    .groupby('event_name')\n",
    "    .agg({'user_id': 'nunique'})\n",
    "    .sort_values('user_id', ascending=False)\n",
    ")\n",
    "logs_funnel.columns = ['users_total']\n",
    "logs_funnel['perc'] = round(\n",
    "    logs_funnel['users_total'] / logs.query('event_name != \"Tutorial\"')['user_id'].nunique() * 100, 2\n",
    ")\n",
    "logs_funnel"
   ]
  },
  {
   "cell_type": "markdown",
   "id": "1db37ee0",
   "metadata": {},
   "source": [
    "Можно заметить, что не все пользователи попадают на главный экран. Возможно, начало сессий этих пользователей обрезалось на этапе удаления периода с неполными данными."
   ]
  },
  {
   "cell_type": "markdown",
   "id": "05bbca1f",
   "metadata": {},
   "source": [
    "### Доли пользователей, перешедших на следующий шаг воронки"
   ]
  },
  {
   "cell_type": "markdown",
   "id": "a76961f4",
   "metadata": {},
   "source": [
    "По воронке событий посчитаем, какая доля пользователей проходит на следующий шаг воронки (от числа пользователей на предыдущем). Для расчёта нам понрадобится метод shift(), который при параметрах по умолчанию возвращает значение предыдущей строки - в нашем случае вернётся количество пользователей на предыдущем шаге воронки."
   ]
  },
  {
   "cell_type": "code",
   "execution_count": 23,
   "id": "48a23aef",
   "metadata": {},
   "outputs": [
    {
     "data": {
      "text/html": [
       "<div>\n",
       "<style scoped>\n",
       "    .dataframe tbody tr th:only-of-type {\n",
       "        vertical-align: middle;\n",
       "    }\n",
       "\n",
       "    .dataframe tbody tr th {\n",
       "        vertical-align: top;\n",
       "    }\n",
       "\n",
       "    .dataframe thead th {\n",
       "        text-align: right;\n",
       "    }\n",
       "</style>\n",
       "<table border=\"1\" class=\"dataframe\">\n",
       "  <thead>\n",
       "    <tr style=\"text-align: right;\">\n",
       "      <th></th>\n",
       "      <th>users_total</th>\n",
       "      <th>perc</th>\n",
       "      <th>conversion</th>\n",
       "      <th>users_loss</th>\n",
       "    </tr>\n",
       "    <tr>\n",
       "      <th>event_name</th>\n",
       "      <th></th>\n",
       "      <th></th>\n",
       "      <th></th>\n",
       "      <th></th>\n",
       "    </tr>\n",
       "  </thead>\n",
       "  <tbody>\n",
       "    <tr>\n",
       "      <th>MainScreenAppear</th>\n",
       "      <td>7419</td>\n",
       "      <td>98.53</td>\n",
       "      <td>100.00</td>\n",
       "      <td>0.00</td>\n",
       "    </tr>\n",
       "    <tr>\n",
       "      <th>OffersScreenAppear</th>\n",
       "      <td>4593</td>\n",
       "      <td>61.00</td>\n",
       "      <td>61.91</td>\n",
       "      <td>38.09</td>\n",
       "    </tr>\n",
       "    <tr>\n",
       "      <th>CartScreenAppear</th>\n",
       "      <td>3734</td>\n",
       "      <td>49.59</td>\n",
       "      <td>81.30</td>\n",
       "      <td>18.70</td>\n",
       "    </tr>\n",
       "    <tr>\n",
       "      <th>PaymentScreenSuccessful</th>\n",
       "      <td>3539</td>\n",
       "      <td>47.00</td>\n",
       "      <td>94.78</td>\n",
       "      <td>5.22</td>\n",
       "    </tr>\n",
       "  </tbody>\n",
       "</table>\n",
       "</div>"
      ],
      "text/plain": [
       "                         users_total   perc  conversion  users_loss\n",
       "event_name                                                         \n",
       "MainScreenAppear                7419  98.53      100.00        0.00\n",
       "OffersScreenAppear              4593  61.00       61.91       38.09\n",
       "CartScreenAppear                3734  49.59       81.30       18.70\n",
       "PaymentScreenSuccessful         3539  47.00       94.78        5.22"
      ]
     },
     "execution_count": 23,
     "metadata": {},
     "output_type": "execute_result"
    }
   ],
   "source": [
    "logs_funnel['conversion'] = round(logs_funnel['users_total'] / logs_funnel['users_total'].shift() * 100, 2)\n",
    "# заполним образовавшийся пропуск в первом шаге значением 100%\n",
    "logs_funnel = logs_funnel.fillna(100)\n",
    "# для наглядности добавим столбец с процентом потерь пользователей при переходе от одного шага к следующему\n",
    "logs_funnel['users_loss'] = 100 - logs_funnel['conversion']\n",
    "logs_funnel"
   ]
  },
  {
   "cell_type": "markdown",
   "id": "11b6d185",
   "metadata": {},
   "source": [
    "Больше всего пользователей теряется при переходе с главного экрана в каталог - 38.09%. Возможно, есть проблема с удобством перехода в каталог.\n",
    "\n",
    "Рассчитаем процент пользователей, дошедших с главного экрана до оплаты:"
   ]
  },
  {
   "cell_type": "code",
   "execution_count": 24,
   "id": "680cc8f7",
   "metadata": {},
   "outputs": [
    {
     "name": "stdout",
     "output_type": "stream",
     "text": [
      "Процент пользователей, дошедших от главного экрана до оплаты: 47.70%\n"
     ]
    }
   ],
   "source": [
    "print('Процент пользователей, дошедших от главного экрана до оплаты: {0:.2f}%'.format(\n",
    "    logs_funnel['users_total'][-1] / logs_funnel['users_total'][0] * 100\n",
    ")\n",
    "     )"
   ]
  },
  {
   "cell_type": "markdown",
   "id": "6993c176",
   "metadata": {},
   "source": [
    "47.7% пользователей после главного экрана совершили покупку - это довольно высокий показатель."
   ]
  },
  {
   "cell_type": "markdown",
   "id": "604e7fdc",
   "metadata": {},
   "source": [
    "## Изучение результатов эксперимента"
   ]
  },
  {
   "cell_type": "markdown",
   "id": "809a09b1",
   "metadata": {},
   "source": [
    "### Количество пользователей в группах"
   ]
  },
  {
   "cell_type": "markdown",
   "id": "fd2d57a5",
   "metadata": {},
   "source": [
    "Посчитаем количество пользователей в каждой группе:"
   ]
  },
  {
   "cell_type": "code",
   "execution_count": 25,
   "id": "79e99bad",
   "metadata": {},
   "outputs": [
    {
     "data": {
      "text/html": [
       "<div>\n",
       "<style scoped>\n",
       "    .dataframe tbody tr th:only-of-type {\n",
       "        vertical-align: middle;\n",
       "    }\n",
       "\n",
       "    .dataframe tbody tr th {\n",
       "        vertical-align: top;\n",
       "    }\n",
       "\n",
       "    .dataframe thead th {\n",
       "        text-align: right;\n",
       "    }\n",
       "</style>\n",
       "<table border=\"1\" class=\"dataframe\">\n",
       "  <thead>\n",
       "    <tr style=\"text-align: right;\">\n",
       "      <th>group</th>\n",
       "      <th>246</th>\n",
       "      <th>247</th>\n",
       "      <th>248</th>\n",
       "      <th>246_247</th>\n",
       "    </tr>\n",
       "  </thead>\n",
       "  <tbody>\n",
       "    <tr>\n",
       "      <th>users_total</th>\n",
       "      <td>2483</td>\n",
       "      <td>2512</td>\n",
       "      <td>2535</td>\n",
       "      <td>4995</td>\n",
       "    </tr>\n",
       "  </tbody>\n",
       "</table>\n",
       "</div>"
      ],
      "text/plain": [
       "group         246   247   248  246_247\n",
       "users_total  2483  2512  2535     4995"
      ]
     },
     "execution_count": 25,
     "metadata": {},
     "output_type": "execute_result"
    }
   ],
   "source": [
    "group_users_total = (\n",
    "    logs\n",
    "    .query('event_name != \"Tutorial\"')\n",
    "    .pivot_table(index='group', values='user_id', aggfunc='nunique')\n",
    ")\n",
    "group_users_total.columns = ['users_total']\n",
    "# транспонируем таблицу, чтобы строки стали столбцами и наоборот\n",
    "group_users_total = group_users_total.T\n",
    "# объединяем две контрольные группы\n",
    "group_users_total['246_247'] = group_users_total[246] + group_users_total[247]\n",
    "group_users_total"
   ]
  },
  {
   "cell_type": "markdown",
   "id": "68b735f7",
   "metadata": {},
   "source": [
    "На первый взгляд в экспериментальных группах примерно одинаковое количество пользователей.\n",
    "\n",
    "Создадим сводную таблицу с количеством уникальных пользователей в каждой группе по каждому событию, а также посчитаем долю пользователей, совершивших эти события."
   ]
  },
  {
   "cell_type": "code",
   "execution_count": 26,
   "id": "737487ec",
   "metadata": {},
   "outputs": [
    {
     "data": {
      "text/html": [
       "<div>\n",
       "<style scoped>\n",
       "    .dataframe tbody tr th:only-of-type {\n",
       "        vertical-align: middle;\n",
       "    }\n",
       "\n",
       "    .dataframe tbody tr th {\n",
       "        vertical-align: top;\n",
       "    }\n",
       "\n",
       "    .dataframe thead th {\n",
       "        text-align: right;\n",
       "    }\n",
       "</style>\n",
       "<table border=\"1\" class=\"dataframe\">\n",
       "  <thead>\n",
       "    <tr style=\"text-align: right;\">\n",
       "      <th>group</th>\n",
       "      <th>event_name</th>\n",
       "      <th>246</th>\n",
       "      <th>247</th>\n",
       "      <th>248</th>\n",
       "      <th>246_247</th>\n",
       "      <th>246_rate</th>\n",
       "      <th>247_rate</th>\n",
       "      <th>248_rate</th>\n",
       "      <th>246_247_rate</th>\n",
       "    </tr>\n",
       "  </thead>\n",
       "  <tbody>\n",
       "    <tr>\n",
       "      <th>0</th>\n",
       "      <td>MainScreenAppear</td>\n",
       "      <td>2450</td>\n",
       "      <td>2476</td>\n",
       "      <td>2493</td>\n",
       "      <td>4926</td>\n",
       "      <td>98.67</td>\n",
       "      <td>98.57</td>\n",
       "      <td>98.34</td>\n",
       "      <td>98.62</td>\n",
       "    </tr>\n",
       "    <tr>\n",
       "      <th>1</th>\n",
       "      <td>OffersScreenAppear</td>\n",
       "      <td>1542</td>\n",
       "      <td>1520</td>\n",
       "      <td>1531</td>\n",
       "      <td>3062</td>\n",
       "      <td>62.10</td>\n",
       "      <td>60.51</td>\n",
       "      <td>60.39</td>\n",
       "      <td>61.30</td>\n",
       "    </tr>\n",
       "    <tr>\n",
       "      <th>2</th>\n",
       "      <td>CartScreenAppear</td>\n",
       "      <td>1266</td>\n",
       "      <td>1238</td>\n",
       "      <td>1230</td>\n",
       "      <td>2504</td>\n",
       "      <td>50.99</td>\n",
       "      <td>49.28</td>\n",
       "      <td>48.52</td>\n",
       "      <td>50.13</td>\n",
       "    </tr>\n",
       "    <tr>\n",
       "      <th>3</th>\n",
       "      <td>PaymentScreenSuccessful</td>\n",
       "      <td>1200</td>\n",
       "      <td>1158</td>\n",
       "      <td>1181</td>\n",
       "      <td>2358</td>\n",
       "      <td>48.33</td>\n",
       "      <td>46.10</td>\n",
       "      <td>46.59</td>\n",
       "      <td>47.21</td>\n",
       "    </tr>\n",
       "  </tbody>\n",
       "</table>\n",
       "</div>"
      ],
      "text/plain": [
       "group               event_name   246   247   248  246_247  246_rate  247_rate  \\\n",
       "0             MainScreenAppear  2450  2476  2493     4926     98.67     98.57   \n",
       "1           OffersScreenAppear  1542  1520  1531     3062     62.10     60.51   \n",
       "2             CartScreenAppear  1266  1238  1230     2504     50.99     49.28   \n",
       "3      PaymentScreenSuccessful  1200  1158  1181     2358     48.33     46.10   \n",
       "\n",
       "group  248_rate  246_247_rate  \n",
       "0         98.34         98.62  \n",
       "1         60.39         61.30  \n",
       "2         48.52         50.13  \n",
       "3         46.59         47.21  "
      ]
     },
     "execution_count": 26,
     "metadata": {},
     "output_type": "execute_result"
    }
   ],
   "source": [
    "events_pivot = (\n",
    "    logs\n",
    "    .query('event_name != \"Tutorial\"')\n",
    "    .pivot_table(index='event_name', columns='group', values='user_id', aggfunc='nunique')\n",
    "    .sort_values(by=246, ascending=False)\n",
    "    .reset_index()\n",
    ")\n",
    "events_pivot['246_247'] = events_pivot[246] + events_pivot[247]\n",
    "# считаем доли пользователей, совершивших события\n",
    "events_pivot['246_rate'] = round(events_pivot[246] / group_users_total.loc['users_total'][246] * 100, 2)\n",
    "events_pivot['247_rate'] = round(events_pivot[247] / group_users_total.loc['users_total'][247] * 100, 2)\n",
    "events_pivot['248_rate'] = round(events_pivot[248] / group_users_total.loc['users_total'][248] * 100, 2)\n",
    "events_pivot['246_247_rate'] = round(events_pivot['246_247'] / group_users_total.loc['users_total']['246_247'] * 100, 2)\n",
    "events_pivot"
   ]
  },
  {
   "cell_type": "markdown",
   "id": "6205dc9d",
   "metadata": {},
   "source": [
    "Судя по сводной с небольшим опережением идёт контрольная группа 246 - доли пользователей, совершивших события в этой группе, несколько выше долей групп 247 и 248."
   ]
  },
  {
   "cell_type": "markdown",
   "id": "11251276",
   "metadata": {},
   "source": [
    "### Проверка контрольных групп 246 и 247"
   ]
  },
  {
   "cell_type": "markdown",
   "id": "76c89f97",
   "metadata": {},
   "source": [
    "Есть 2 контрольные группы для А/А-эксперимента, чтобы проверить корректность всех механизмов и расчётов. \n",
    "\n",
    "Если две контрольные группы окажутся равны, мы можем быть уверены в точности проведенного тестирования. Если же между значениями групп 246 и 247 будут существенные различия, это поможет обнаружить факторы, которые привели к искажению результатов.\n",
    "\n",
    "Посчитаем разницу в количестве пользователей контрольных групп 246 и 247:"
   ]
  },
  {
   "cell_type": "code",
   "execution_count": 27,
   "id": "77ecbefe",
   "metadata": {},
   "outputs": [
    {
     "name": "stdout",
     "output_type": "stream",
     "text": [
      "Разница в количестве пользователей групп 246 и 247: 1.15%\n"
     ]
    }
   ],
   "source": [
    "print(\n",
    "    'Разница в количестве пользователей групп 246 и 247: {}%'.format(\n",
    "        round((1 - logs.query('group == 246')['user_id'].nunique() /\n",
    "               logs.query('group == 247')['user_id'].nunique()) * 100, 2)\n",
    "    )\n",
    ")"
   ]
  },
  {
   "cell_type": "markdown",
   "id": "4043bbac",
   "metadata": {},
   "source": [
    "Разница в количестве пользователей двух контрольных групп составляет 1.15%. В идеале разница более 1% - существенное различие. За неимением лучших данных сделаем такое допущение и будем считать, что число участников контрольных групп примерно равно.\n",
    "\n",
    "Самое популярное событие - отображение главного экрана - первый этап воронки. Проведём z-тест для контрольных групп 246 и 247 по этому событию и узнаем, есть ли статистически значимая разница между группами.\n",
    "\n",
    "Обозначим нулевую и альтернативную гипотезы и критический уровень статистической значимости:\n",
    "```\n",
    "H_0: Доля пользователей группы 246, перешедших на главный экран = доля пользователей группы 247, перешедших на главный экран\n",
    "H_a: Доля пользователей группы 246, перешедших на главный экран ≠ доля пользователей группы 247, перешедших на главный экран\n",
    "alpha = 0.05\n",
    "```"
   ]
  },
  {
   "cell_type": "code",
   "execution_count": 28,
   "id": "35328d73",
   "metadata": {},
   "outputs": [
    {
     "name": "stdout",
     "output_type": "stream",
     "text": [
      "p-значение: 0.75267\n",
      "Не получилось отвергнуть нулевую гипотезу, нет оснований считать доли разными\n"
     ]
    }
   ],
   "source": [
    "# критический уровень статистической значимости\n",
    "alpha = 0.05\n",
    "# успехи - количество пользователей групп 246 и 247, зашедшие на главный экран\n",
    "successes = np.array(\n",
    "    [\n",
    "        events_pivot.query('event_name == \"MainScreenAppear\"')[246],\n",
    "        events_pivot.query('event_name == \"MainScreenAppear\"')[247]\n",
    "    ]\n",
    ")\n",
    "# общее количество пользователей групп 246 и 247\n",
    "trials = np.array(\n",
    "    [\n",
    "        group_users_total[246],\n",
    "        group_users_total[247]\n",
    "    ]\n",
    ")\n",
    "\n",
    "# пропорция успехов в группе 246:\n",
    "p1 = successes[0]/trials[0]\n",
    "\n",
    "# пропорция успехов в группе 247:\n",
    "p2 = successes[1]/trials[1]\n",
    "\n",
    "# пропорция успехов в комбинированном датасете:\n",
    "p_combined = (successes[0] + successes[1]) / (trials[0] + trials[1])\n",
    "\n",
    "# разница пропорций в группах 246 и 247\n",
    "difference = p1 - p2\n",
    "\n",
    "# статистика в стандартных отклонениях стандартного нормального распределения\n",
    "z_value = difference / mth.sqrt(p_combined * (1 - p_combined) * (1/trials[0] + 1/trials[1]))\n",
    "\n",
    "# задаём стандартное нормальное распределение (среднее 0, стандартное отклонение 1)\n",
    "distr = st.norm(0, 1)\n",
    "\n",
    "# рассчитываем p-value\n",
    "p_value = (1 - distr.cdf(abs(z_value))) * 2\n",
    "\n",
    "print('p-значение: {0:.5f}'.format(p_value[0]))\n",
    "\n",
    "if p_value < alpha:\n",
    "    print('Отвергаем нулевую гипотезу: между долями есть значимая разница')\n",
    "else:\n",
    "    print('Не получилось отвергнуть нулевую гипотезу, нет оснований считать доли разными')"
   ]
  },
  {
   "cell_type": "markdown",
   "id": "5c0387ff",
   "metadata": {},
   "source": [
    "Разница между долями пользователей в контрольных группах, перешедших на главный экран, статистически не значима - гипотезу о равенстве долей не отвергаем, выборки корректны."
   ]
  },
  {
   "cell_type": "markdown",
   "id": "82c34da6",
   "metadata": {},
   "source": [
    "### Проведение z-теста для всех событий контрольных групп"
   ]
  },
  {
   "cell_type": "markdown",
   "id": "b773780b",
   "metadata": {},
   "source": [
    "Напишем функцию для проведения z-теста для каждой пары групп по каждому событию.\n",
    "\n",
    "Так как в нашем исследовании проводится множественный тест (несколько сравнений, проводимый на одних и тех же данных), нам необходимо снизить вероятность возникновения ошибки первого рода (ложнопозитивного результата). Для этого скорректируем критический уровень статистической значимости по методу Шидака и обозначим это в функции.\n",
    "\n",
    "Для поправки нам нужно знать количество проводимых проверок. Для четырёх пар групп\n",
    "```\n",
    "246 - 247\n",
    "246 - 248\n",
    "247 - 248\n",
    "246_247 - 248\n",
    "```\n",
    "проводится по 4 проверки для каждого события\n",
    "```\n",
    "главный экран\n",
    "каталог\n",
    "корзина\n",
    "успешная покупка\n",
    "```\n",
    "Соответственно, в общей сложности проводится 16 проверок."
   ]
  },
  {
   "cell_type": "code",
   "execution_count": 29,
   "id": "7c0d493f",
   "metadata": {},
   "outputs": [
    {
     "data": {
      "text/html": [
       "<div>\n",
       "<style scoped>\n",
       "    .dataframe tbody tr th:only-of-type {\n",
       "        vertical-align: middle;\n",
       "    }\n",
       "\n",
       "    .dataframe tbody tr th {\n",
       "        vertical-align: top;\n",
       "    }\n",
       "\n",
       "    .dataframe thead th {\n",
       "        text-align: right;\n",
       "    }\n",
       "</style>\n",
       "<table border=\"1\" class=\"dataframe\">\n",
       "  <thead>\n",
       "    <tr style=\"text-align: right;\">\n",
       "      <th>group</th>\n",
       "      <th>event_name</th>\n",
       "      <th>246</th>\n",
       "      <th>247</th>\n",
       "      <th>248</th>\n",
       "      <th>246_247</th>\n",
       "      <th>246_rate</th>\n",
       "      <th>247_rate</th>\n",
       "      <th>248_rate</th>\n",
       "      <th>246_247_rate</th>\n",
       "    </tr>\n",
       "  </thead>\n",
       "  <tbody>\n",
       "    <tr>\n",
       "      <th>0</th>\n",
       "      <td>MainScreenAppear</td>\n",
       "      <td>2450</td>\n",
       "      <td>2476</td>\n",
       "      <td>2493</td>\n",
       "      <td>4926</td>\n",
       "      <td>98.67</td>\n",
       "      <td>98.57</td>\n",
       "      <td>98.34</td>\n",
       "      <td>98.62</td>\n",
       "    </tr>\n",
       "    <tr>\n",
       "      <th>1</th>\n",
       "      <td>OffersScreenAppear</td>\n",
       "      <td>1542</td>\n",
       "      <td>1520</td>\n",
       "      <td>1531</td>\n",
       "      <td>3062</td>\n",
       "      <td>62.10</td>\n",
       "      <td>60.51</td>\n",
       "      <td>60.39</td>\n",
       "      <td>61.30</td>\n",
       "    </tr>\n",
       "    <tr>\n",
       "      <th>2</th>\n",
       "      <td>CartScreenAppear</td>\n",
       "      <td>1266</td>\n",
       "      <td>1238</td>\n",
       "      <td>1230</td>\n",
       "      <td>2504</td>\n",
       "      <td>50.99</td>\n",
       "      <td>49.28</td>\n",
       "      <td>48.52</td>\n",
       "      <td>50.13</td>\n",
       "    </tr>\n",
       "    <tr>\n",
       "      <th>3</th>\n",
       "      <td>PaymentScreenSuccessful</td>\n",
       "      <td>1200</td>\n",
       "      <td>1158</td>\n",
       "      <td>1181</td>\n",
       "      <td>2358</td>\n",
       "      <td>48.33</td>\n",
       "      <td>46.10</td>\n",
       "      <td>46.59</td>\n",
       "      <td>47.21</td>\n",
       "    </tr>\n",
       "  </tbody>\n",
       "</table>\n",
       "</div>"
      ],
      "text/plain": [
       "group               event_name   246   247   248  246_247  246_rate  247_rate  \\\n",
       "0             MainScreenAppear  2450  2476  2493     4926     98.67     98.57   \n",
       "1           OffersScreenAppear  1542  1520  1531     3062     62.10     60.51   \n",
       "2             CartScreenAppear  1266  1238  1230     2504     50.99     49.28   \n",
       "3      PaymentScreenSuccessful  1200  1158  1181     2358     48.33     46.10   \n",
       "\n",
       "group  248_rate  246_247_rate  \n",
       "0         98.34         98.62  \n",
       "1         60.39         61.30  \n",
       "2         48.52         50.13  \n",
       "3         46.59         47.21  "
      ]
     },
     "execution_count": 29,
     "metadata": {},
     "output_type": "execute_result"
    }
   ],
   "source": [
    "events_pivot"
   ]
  },
  {
   "cell_type": "code",
   "execution_count": 30,
   "id": "54bb8ee0",
   "metadata": {},
   "outputs": [],
   "source": [
    "# функция для проведения z-теста для каждой пары групп по каждому событию\n",
    "def z_test(group_1, group_2, alpha):\n",
    "    # делаем поправку по методу Шидака\n",
    "    alpha = 1 - (1 - alpha)**(1/16)\n",
    "    # запускаем цикл по индексам всех событий воронки\n",
    "    for i in events_pivot.index:\n",
    "        # количество пользователей групп 1 и 2 в событии i\n",
    "        successes = np.array(\n",
    "            [\n",
    "                events_pivot[group_1][i],\n",
    "                events_pivot[group_2][i]\n",
    "            ]\n",
    "        )\n",
    "        # количество пользователей в группах 1 и 2\n",
    "        trials = np.array(\n",
    "            [\n",
    "                group_users_total[group_1],\n",
    "                group_users_total[group_2]\n",
    "            ]\n",
    "        )\n",
    "        # пропорция успехов в группах\n",
    "        p1 = successes[0]/trials[0]\n",
    "        p2 = successes[1]/trials[1]\n",
    "        # пропорция успехов в объединённых группах\n",
    "        p_combined = (successes[0] + successes[1]) / (trials[0] + trials[1])\n",
    "        # разница пропорций успехов групп\n",
    "        difference = p1 - p2\n",
    "        # статистика в стандартных отклонениях стандартного нормального распределения\n",
    "        z_value = difference / mth.sqrt(p_combined * (1 - p_combined) * (1/trials[0] + 1/trials[1]))\n",
    "        # задаем стандартное нормальное распределение (среднее 0, стандартное отклонение 1)\n",
    "        distr = st.norm(0, 1)\n",
    "        # рассчитываем p-value\n",
    "        p_value = (1 - distr.cdf(abs(z_value))) * 2\n",
    "        # вывод названия события и групп\n",
    "        print(events_pivot['event_name'][i], '|', group_1, '|', group_2)\n",
    "        \n",
    "        print('p-значение: {0:.5}'.format(p_value[0]))\n",
    "        \n",
    "        if p_value < alpha:\n",
    "            print('Отвергаем нулевую гипотезу: между долями есть значимая разница')\n",
    "            print('')\n",
    "        else:\n",
    "            print('Не получилось отвергнуть нулевую гипотезу, нет оснований считать доли разными')   \n",
    "            print('')"
   ]
  },
  {
   "cell_type": "markdown",
   "id": "6b0e6d8d",
   "metadata": {},
   "source": [
    "Проведём z-тест для двух контрольных групп по всем событиям воронки с учётом поправки:"
   ]
  },
  {
   "cell_type": "markdown",
   "id": "559051db",
   "metadata": {},
   "source": [
    "```\n",
    "H_0: Доля пользователей группы_1, совершивших событие = доля пользователей группы_2, совершивших событие\n",
    "H_a: Доля пользователей группы_1, совершивших событие ≠ доля пользователей группы_2, совершивших событие\n",
    "alpha = 0.05\n",
    "```"
   ]
  },
  {
   "cell_type": "code",
   "execution_count": 31,
   "id": "b521f5e6",
   "metadata": {},
   "outputs": [
    {
     "name": "stdout",
     "output_type": "stream",
     "text": [
      "MainScreenAppear | 246 | 247\n",
      "p-значение: 0.75267\n",
      "Не получилось отвергнуть нулевую гипотезу, нет оснований считать доли разными\n",
      "\n",
      "OffersScreenAppear | 246 | 247\n",
      "p-значение: 0.24786\n",
      "Не получилось отвергнуть нулевую гипотезу, нет оснований считать доли разными\n",
      "\n",
      "CartScreenAppear | 246 | 247\n",
      "p-значение: 0.22868\n",
      "Не получилось отвергнуть нулевую гипотезу, нет оснований считать доли разными\n",
      "\n",
      "PaymentScreenSuccessful | 246 | 247\n",
      "p-значение: 0.11447\n",
      "Не получилось отвергнуть нулевую гипотезу, нет оснований считать доли разными\n",
      "\n"
     ]
    }
   ],
   "source": [
    "z_test(246, 247, 0.05)"
   ]
  },
  {
   "cell_type": "markdown",
   "id": "dee4ee32",
   "metadata": {},
   "source": [
    "Для всех событий нет оснований считать доли пользователей контрольных групп разными. Это означает, что разбиение на группы работает корректно."
   ]
  },
  {
   "cell_type": "markdown",
   "id": "dd32e3ec",
   "metadata": {},
   "source": [
    "### Проведение z-теста для всех событий группы с новым шрифтом"
   ]
  },
  {
   "cell_type": "markdown",
   "id": "6e2dccf5",
   "metadata": {},
   "source": [
    "Проведём z-тест контрольной группы 246 и группы с новым шрифтом 248 по всем событиям воронки:"
   ]
  },
  {
   "cell_type": "code",
   "execution_count": 32,
   "id": "1bc57f46",
   "metadata": {},
   "outputs": [
    {
     "name": "stdout",
     "output_type": "stream",
     "text": [
      "MainScreenAppear | 246 | 248\n",
      "p-значение: 0.33871\n",
      "Не получилось отвергнуть нулевую гипотезу, нет оснований считать доли разными\n",
      "\n",
      "OffersScreenAppear | 246 | 248\n",
      "p-значение: 0.21442\n",
      "Не получилось отвергнуть нулевую гипотезу, нет оснований считать доли разными\n",
      "\n",
      "CartScreenAppear | 246 | 248\n",
      "p-значение: 0.080674\n",
      "Не получилось отвергнуть нулевую гипотезу, нет оснований считать доли разными\n",
      "\n",
      "PaymentScreenSuccessful | 246 | 248\n",
      "p-значение: 0.21693\n",
      "Не получилось отвергнуть нулевую гипотезу, нет оснований считать доли разными\n",
      "\n"
     ]
    }
   ],
   "source": [
    "z_test(246, 248, 0.05)"
   ]
  },
  {
   "cell_type": "markdown",
   "id": "d0305e0a",
   "metadata": {},
   "source": [
    "Статистически значимых различий между долями нет.\n",
    "\n",
    "Аналогично проверим группы 247 и 248:"
   ]
  },
  {
   "cell_type": "code",
   "execution_count": 33,
   "id": "02110777",
   "metadata": {
    "scrolled": true
   },
   "outputs": [
    {
     "name": "stdout",
     "output_type": "stream",
     "text": [
      "MainScreenAppear | 247 | 248\n",
      "p-значение: 0.5195\n",
      "Не получилось отвергнуть нулевую гипотезу, нет оснований считать доли разными\n",
      "\n",
      "OffersScreenAppear | 247 | 248\n",
      "p-значение: 0.93338\n",
      "Не получилось отвергнуть нулевую гипотезу, нет оснований считать доли разными\n",
      "\n",
      "CartScreenAppear | 247 | 248\n",
      "p-значение: 0.58783\n",
      "Не получилось отвергнуть нулевую гипотезу, нет оснований считать доли разными\n",
      "\n",
      "PaymentScreenSuccessful | 247 | 248\n",
      "p-значение: 0.72757\n",
      "Не получилось отвергнуть нулевую гипотезу, нет оснований считать доли разными\n",
      "\n"
     ]
    }
   ],
   "source": [
    "z_test(247, 248, 0.05)"
   ]
  },
  {
   "cell_type": "markdown",
   "id": "7598964a",
   "metadata": {},
   "source": [
    "Здесь так же нет статистически значимой разницы между долями групп.\n",
    "\n",
    "Проведём z-тест объединённой контрольной группы 246_247 и группы с новым шрифтом 248:"
   ]
  },
  {
   "cell_type": "code",
   "execution_count": 34,
   "id": "1a4c5c7c",
   "metadata": {},
   "outputs": [
    {
     "name": "stdout",
     "output_type": "stream",
     "text": [
      "MainScreenAppear | 246_247 | 248\n",
      "p-значение: 0.34867\n",
      "Не получилось отвергнуть нулевую гипотезу, нет оснований считать доли разными\n",
      "\n",
      "OffersScreenAppear | 246_247 | 248\n",
      "p-значение: 0.44583\n",
      "Не получилось отвергнуть нулевую гипотезу, нет оснований считать доли разными\n",
      "\n",
      "CartScreenAppear | 246_247 | 248\n",
      "p-значение: 0.18684\n",
      "Не получилось отвергнуть нулевую гипотезу, нет оснований считать доли разными\n",
      "\n",
      "PaymentScreenSuccessful | 246_247 | 248\n",
      "p-значение: 0.61079\n",
      "Не получилось отвергнуть нулевую гипотезу, нет оснований считать доли разными\n",
      "\n"
     ]
    }
   ],
   "source": [
    "z_test('246_247', 248, 0.05)"
   ]
  },
  {
   "cell_type": "markdown",
   "id": "cc9c28bf",
   "metadata": {},
   "source": [
    "Для каждой пары групп по каждому событию нет статистически значимой разницы в долях пользователей групп, совершивших событие. Это говорит о том, что изменение шрифта никоим образом не повлияло на поведение пользователей и воронка событий не изменилась. Эксперимент можно считать удачным, и шрифт можно спокойно заменять. Но и позитивных изменений в воронке замена шрифта не произвела - все показатели остались на прежнем уровне."
   ]
  },
  {
   "cell_type": "markdown",
   "id": "0d81ff37",
   "metadata": {},
   "source": [
    "### Уровень значимости"
   ]
  },
  {
   "cell_type": "markdown",
   "id": "045d2b97",
   "metadata": {},
   "source": [
    "Для проведения z-тестов был выбран критический уровень статистической значимости, равный 0.05. Если бы был выбран уровень значимости 0.1, то вероятность получить ложный результат была бы равна 10% - это довольно высокий риск. Считаю выбранный мной уровень значимости 0.05 приемлемым для данного исследования.\n",
    "\n",
    "Попробуем провести z-тест для каждой пары групп и для всех событий с заданным уровнем значимости 0.1."
   ]
  },
  {
   "cell_type": "code",
   "execution_count": 35,
   "id": "e9b42af2",
   "metadata": {},
   "outputs": [
    {
     "name": "stdout",
     "output_type": "stream",
     "text": [
      "MainScreenAppear | 246 | 247\n",
      "p-значение: 0.75267\n",
      "Не получилось отвергнуть нулевую гипотезу, нет оснований считать доли разными\n",
      "\n",
      "OffersScreenAppear | 246 | 247\n",
      "p-значение: 0.24786\n",
      "Не получилось отвергнуть нулевую гипотезу, нет оснований считать доли разными\n",
      "\n",
      "CartScreenAppear | 246 | 247\n",
      "p-значение: 0.22868\n",
      "Не получилось отвергнуть нулевую гипотезу, нет оснований считать доли разными\n",
      "\n",
      "PaymentScreenSuccessful | 246 | 247\n",
      "p-значение: 0.11447\n",
      "Не получилось отвергнуть нулевую гипотезу, нет оснований считать доли разными\n",
      "\n",
      "MainScreenAppear | 246 | 248\n",
      "p-значение: 0.33871\n",
      "Не получилось отвергнуть нулевую гипотезу, нет оснований считать доли разными\n",
      "\n",
      "OffersScreenAppear | 246 | 248\n",
      "p-значение: 0.21442\n",
      "Не получилось отвергнуть нулевую гипотезу, нет оснований считать доли разными\n",
      "\n",
      "CartScreenAppear | 246 | 248\n",
      "p-значение: 0.080674\n",
      "Не получилось отвергнуть нулевую гипотезу, нет оснований считать доли разными\n",
      "\n",
      "PaymentScreenSuccessful | 246 | 248\n",
      "p-значение: 0.21693\n",
      "Не получилось отвергнуть нулевую гипотезу, нет оснований считать доли разными\n",
      "\n",
      "MainScreenAppear | 247 | 248\n",
      "p-значение: 0.5195\n",
      "Не получилось отвергнуть нулевую гипотезу, нет оснований считать доли разными\n",
      "\n",
      "OffersScreenAppear | 247 | 248\n",
      "p-значение: 0.93338\n",
      "Не получилось отвергнуть нулевую гипотезу, нет оснований считать доли разными\n",
      "\n",
      "CartScreenAppear | 247 | 248\n",
      "p-значение: 0.58783\n",
      "Не получилось отвергнуть нулевую гипотезу, нет оснований считать доли разными\n",
      "\n",
      "PaymentScreenSuccessful | 247 | 248\n",
      "p-значение: 0.72757\n",
      "Не получилось отвергнуть нулевую гипотезу, нет оснований считать доли разными\n",
      "\n",
      "MainScreenAppear | 246_247 | 248\n",
      "p-значение: 0.34867\n",
      "Не получилось отвергнуть нулевую гипотезу, нет оснований считать доли разными\n",
      "\n",
      "OffersScreenAppear | 246_247 | 248\n",
      "p-значение: 0.44583\n",
      "Не получилось отвергнуть нулевую гипотезу, нет оснований считать доли разными\n",
      "\n",
      "CartScreenAppear | 246_247 | 248\n",
      "p-значение: 0.18684\n",
      "Не получилось отвергнуть нулевую гипотезу, нет оснований считать доли разными\n",
      "\n",
      "PaymentScreenSuccessful | 246_247 | 248\n",
      "p-значение: 0.61079\n",
      "Не получилось отвергнуть нулевую гипотезу, нет оснований считать доли разными\n",
      "\n"
     ]
    }
   ],
   "source": [
    "z_test(246, 247, 0.1)\n",
    "z_test(246, 248, 0.1)\n",
    "z_test(247, 248, 0.1)\n",
    "z_test('246_247', 248, 0.1)"
   ]
  },
  {
   "cell_type": "markdown",
   "id": "5e371528",
   "metadata": {},
   "source": [
    "С более высоким уровнем значимости всё так же нет статистически значимой разницы между долями групп по всем событиям."
   ]
  },
  {
   "cell_type": "markdown",
   "id": "9b219042",
   "metadata": {},
   "source": [
    "## Вывод"
   ]
  },
  {
   "cell_type": "markdown",
   "id": "526f912a",
   "metadata": {},
   "source": [
    "В ходе исследования была изучена воронка продаж. До покупки пользователь проходит следующие шаги:\n",
    "\n",
    "- главный экран\n",
    "- каталог продуктов\n",
    "- просмотр корзины\n",
    "- успешная оплата."
   ]
  },
  {
   "cell_type": "code",
   "execution_count": 36,
   "id": "57ba46c6",
   "metadata": {},
   "outputs": [
    {
     "data": {
      "text/html": [
       "<div>\n",
       "<style scoped>\n",
       "    .dataframe tbody tr th:only-of-type {\n",
       "        vertical-align: middle;\n",
       "    }\n",
       "\n",
       "    .dataframe tbody tr th {\n",
       "        vertical-align: top;\n",
       "    }\n",
       "\n",
       "    .dataframe thead th {\n",
       "        text-align: right;\n",
       "    }\n",
       "</style>\n",
       "<table border=\"1\" class=\"dataframe\">\n",
       "  <thead>\n",
       "    <tr style=\"text-align: right;\">\n",
       "      <th></th>\n",
       "      <th>users_total</th>\n",
       "      <th>perc</th>\n",
       "      <th>conversion</th>\n",
       "      <th>users_loss</th>\n",
       "    </tr>\n",
       "    <tr>\n",
       "      <th>event_name</th>\n",
       "      <th></th>\n",
       "      <th></th>\n",
       "      <th></th>\n",
       "      <th></th>\n",
       "    </tr>\n",
       "  </thead>\n",
       "  <tbody>\n",
       "    <tr>\n",
       "      <th>MainScreenAppear</th>\n",
       "      <td>7419</td>\n",
       "      <td>98.53</td>\n",
       "      <td>100.00</td>\n",
       "      <td>0.00</td>\n",
       "    </tr>\n",
       "    <tr>\n",
       "      <th>OffersScreenAppear</th>\n",
       "      <td>4593</td>\n",
       "      <td>61.00</td>\n",
       "      <td>61.91</td>\n",
       "      <td>38.09</td>\n",
       "    </tr>\n",
       "    <tr>\n",
       "      <th>CartScreenAppear</th>\n",
       "      <td>3734</td>\n",
       "      <td>49.59</td>\n",
       "      <td>81.30</td>\n",
       "      <td>18.70</td>\n",
       "    </tr>\n",
       "    <tr>\n",
       "      <th>PaymentScreenSuccessful</th>\n",
       "      <td>3539</td>\n",
       "      <td>47.00</td>\n",
       "      <td>94.78</td>\n",
       "      <td>5.22</td>\n",
       "    </tr>\n",
       "  </tbody>\n",
       "</table>\n",
       "</div>"
      ],
      "text/plain": [
       "                         users_total   perc  conversion  users_loss\n",
       "event_name                                                         \n",
       "MainScreenAppear                7419  98.53      100.00        0.00\n",
       "OffersScreenAppear              4593  61.00       61.91       38.09\n",
       "CartScreenAppear                3734  49.59       81.30       18.70\n",
       "PaymentScreenSuccessful         3539  47.00       94.78        5.22"
      ]
     },
     "execution_count": 36,
     "metadata": {},
     "output_type": "execute_result"
    }
   ],
   "source": [
    "logs_funnel"
   ]
  },
  {
   "cell_type": "markdown",
   "id": "3a350100",
   "metadata": {},
   "source": [
    "Самым проблемным шагом воронки является переход с главного экрана в каталог - теряется 38% пользователей. Этот пункт следует изучить более подробно, возможно, пользователи сталкиваются с какой-то проблемой.\n",
    "\n",
    "47.7% пользователей после главного экрана совершили покупку - это довольно высокий показатель.\n",
    "\n",
    "Анализ результатов A/A/B-теста показал, что для каждой пары групп по каждому событию нет статистически значимой разницы в долях пользователей групп, совершивших событие. Это говорит о том, что изменение шрифта никоим образом не повлияло на поведение пользователей и воронка событий не изменилась. Эксперимент можно считать удачным, и шрифт можно спокойно заменять. Но и позитивных изменений в воронке замена шрифта не произвела - все показатели остались на прежнем уровне."
   ]
  }
 ],
 "metadata": {
  "ExecuteTimeLog": [
   {
    "duration": 1058,
    "start_time": "2023-02-04T15:48:11.238Z"
   },
   {
    "duration": 582,
    "start_time": "2023-02-04T15:48:12.298Z"
   },
   {
    "duration": 3,
    "start_time": "2023-02-04T15:48:12.881Z"
   },
   {
    "duration": 26,
    "start_time": "2023-02-04T15:48:12.885Z"
   },
   {
    "duration": 15,
    "start_time": "2023-02-04T15:48:12.913Z"
   },
   {
    "duration": 15,
    "start_time": "2023-02-04T15:48:12.930Z"
   },
   {
    "duration": 91,
    "start_time": "2023-02-04T15:48:12.947Z"
   },
   {
    "duration": 112,
    "start_time": "2023-02-04T15:48:13.040Z"
   },
   {
    "duration": 95,
    "start_time": "2023-02-04T15:48:13.153Z"
   },
   {
    "duration": 203,
    "start_time": "2023-02-04T15:48:13.250Z"
   },
   {
    "duration": 50,
    "start_time": "2023-02-04T15:48:13.454Z"
   },
   {
    "duration": 37,
    "start_time": "2023-02-04T15:48:13.506Z"
   },
   {
    "duration": 455,
    "start_time": "2023-02-04T15:48:13.545Z"
   },
   {
    "duration": 102,
    "start_time": "2023-02-04T15:48:14.005Z"
   },
   {
    "duration": 74,
    "start_time": "2023-02-04T15:48:14.109Z"
   },
   {
    "duration": 34,
    "start_time": "2023-02-04T15:48:14.184Z"
   },
   {
    "duration": 44,
    "start_time": "2023-02-04T15:48:14.220Z"
   },
   {
    "duration": 50,
    "start_time": "2023-02-04T15:48:14.266Z"
   },
   {
    "duration": 25,
    "start_time": "2023-02-04T15:48:14.317Z"
   },
   {
    "duration": 162,
    "start_time": "2023-02-04T15:48:14.344Z"
   },
   {
    "duration": 58,
    "start_time": "2023-02-04T15:48:14.508Z"
   },
   {
    "duration": 129,
    "start_time": "2023-02-04T15:48:14.568Z"
   },
   {
    "duration": 16,
    "start_time": "2023-02-04T15:48:14.703Z"
   },
   {
    "duration": 22,
    "start_time": "2023-02-04T15:48:14.721Z"
   },
   {
    "duration": 91,
    "start_time": "2023-02-04T15:48:14.745Z"
   },
   {
    "duration": 116,
    "start_time": "2023-02-04T15:48:14.838Z"
   },
   {
    "duration": 22,
    "start_time": "2023-02-04T15:48:14.956Z"
   },
   {
    "duration": 31,
    "start_time": "2023-02-04T15:48:14.981Z"
   },
   {
    "duration": 44,
    "start_time": "2023-02-04T15:48:15.014Z"
   },
   {
    "duration": 32,
    "start_time": "2023-02-04T15:48:15.060Z"
   },
   {
    "duration": 23,
    "start_time": "2023-02-04T15:48:15.094Z"
   },
   {
    "duration": 17,
    "start_time": "2023-02-04T15:48:15.119Z"
   },
   {
    "duration": 39,
    "start_time": "2023-02-04T15:48:15.138Z"
   },
   {
    "duration": 43,
    "start_time": "2023-02-04T15:48:15.179Z"
   },
   {
    "duration": 9,
    "start_time": "2023-02-04T15:48:15.223Z"
   },
   {
    "duration": 1038,
    "start_time": "2023-02-04T15:58:58.039Z"
   },
   {
    "duration": 234,
    "start_time": "2023-02-04T15:58:59.079Z"
   },
   {
    "duration": 2,
    "start_time": "2023-02-04T15:58:59.315Z"
   },
   {
    "duration": 23,
    "start_time": "2023-02-04T15:58:59.319Z"
   },
   {
    "duration": 14,
    "start_time": "2023-02-04T15:58:59.344Z"
   },
   {
    "duration": 16,
    "start_time": "2023-02-04T15:58:59.359Z"
   },
   {
    "duration": 94,
    "start_time": "2023-02-04T15:58:59.377Z"
   },
   {
    "duration": 104,
    "start_time": "2023-02-04T15:58:59.472Z"
   },
   {
    "duration": 87,
    "start_time": "2023-02-04T15:58:59.577Z"
   },
   {
    "duration": 191,
    "start_time": "2023-02-04T15:58:59.666Z"
   },
   {
    "duration": 39,
    "start_time": "2023-02-04T15:58:59.858Z"
   },
   {
    "duration": 28,
    "start_time": "2023-02-04T15:58:59.904Z"
   },
   {
    "duration": 446,
    "start_time": "2023-02-04T15:58:59.933Z"
   },
   {
    "duration": 105,
    "start_time": "2023-02-04T15:59:00.382Z"
   },
   {
    "duration": 86,
    "start_time": "2023-02-04T15:59:00.488Z"
   },
   {
    "duration": 31,
    "start_time": "2023-02-04T15:59:00.576Z"
   },
   {
    "duration": 47,
    "start_time": "2023-02-04T15:59:00.608Z"
   },
   {
    "duration": 57,
    "start_time": "2023-02-04T15:59:00.657Z"
   },
   {
    "duration": 25,
    "start_time": "2023-02-04T15:59:00.716Z"
   },
   {
    "duration": 163,
    "start_time": "2023-02-04T15:59:00.743Z"
   },
   {
    "duration": 58,
    "start_time": "2023-02-04T15:59:00.908Z"
   },
   {
    "duration": 115,
    "start_time": "2023-02-04T15:59:00.968Z"
   },
   {
    "duration": 19,
    "start_time": "2023-02-04T15:59:01.085Z"
   },
   {
    "duration": 35,
    "start_time": "2023-02-04T15:59:01.106Z"
   },
   {
    "duration": 105,
    "start_time": "2023-02-04T15:59:01.143Z"
   },
   {
    "duration": 104,
    "start_time": "2023-02-04T15:59:01.250Z"
   },
   {
    "duration": 21,
    "start_time": "2023-02-04T15:59:01.356Z"
   },
   {
    "duration": 25,
    "start_time": "2023-02-04T15:59:01.379Z"
   },
   {
    "duration": 21,
    "start_time": "2023-02-04T15:59:01.406Z"
   },
   {
    "duration": 19,
    "start_time": "2023-02-04T15:59:01.429Z"
   },
   {
    "duration": 16,
    "start_time": "2023-02-04T15:59:01.449Z"
   },
   {
    "duration": 10,
    "start_time": "2023-02-04T15:59:01.467Z"
   },
   {
    "duration": 29,
    "start_time": "2023-02-04T15:59:01.478Z"
   },
   {
    "duration": 53,
    "start_time": "2023-02-04T15:59:01.508Z"
   },
   {
    "duration": 8,
    "start_time": "2023-02-04T15:59:01.563Z"
   },
   {
    "duration": 1063,
    "start_time": "2023-02-04T16:26:02.322Z"
   },
   {
    "duration": 196,
    "start_time": "2023-02-04T16:26:03.387Z"
   },
   {
    "duration": 3,
    "start_time": "2023-02-04T16:26:03.584Z"
   },
   {
    "duration": 26,
    "start_time": "2023-02-04T16:26:03.589Z"
   },
   {
    "duration": 14,
    "start_time": "2023-02-04T16:26:03.617Z"
   },
   {
    "duration": 15,
    "start_time": "2023-02-04T16:26:03.632Z"
   },
   {
    "duration": 91,
    "start_time": "2023-02-04T16:26:03.648Z"
   },
   {
    "duration": 103,
    "start_time": "2023-02-04T16:26:03.740Z"
   },
   {
    "duration": 87,
    "start_time": "2023-02-04T16:26:03.845Z"
   },
   {
    "duration": 188,
    "start_time": "2023-02-04T16:26:03.935Z"
   },
   {
    "duration": 41,
    "start_time": "2023-02-04T16:26:04.125Z"
   },
   {
    "duration": 44,
    "start_time": "2023-02-04T16:26:04.168Z"
   },
   {
    "duration": 436,
    "start_time": "2023-02-04T16:26:04.214Z"
   },
   {
    "duration": 105,
    "start_time": "2023-02-04T16:26:04.652Z"
   },
   {
    "duration": 83,
    "start_time": "2023-02-04T16:26:04.758Z"
   },
   {
    "duration": 21,
    "start_time": "2023-02-04T16:26:04.843Z"
   },
   {
    "duration": 58,
    "start_time": "2023-02-04T16:26:04.865Z"
   },
   {
    "duration": 39,
    "start_time": "2023-02-04T16:26:04.925Z"
   },
   {
    "duration": 39,
    "start_time": "2023-02-04T16:26:04.966Z"
   },
   {
    "duration": 172,
    "start_time": "2023-02-04T16:26:05.006Z"
   },
   {
    "duration": 65,
    "start_time": "2023-02-04T16:26:05.180Z"
   },
   {
    "duration": 125,
    "start_time": "2023-02-04T16:26:05.247Z"
   },
   {
    "duration": 12,
    "start_time": "2023-02-04T16:26:05.373Z"
   },
   {
    "duration": 18,
    "start_time": "2023-02-04T16:26:05.387Z"
   },
   {
    "duration": 70,
    "start_time": "2023-02-04T16:26:05.406Z"
   },
   {
    "duration": 118,
    "start_time": "2023-02-04T16:26:05.478Z"
   },
   {
    "duration": 27,
    "start_time": "2023-02-04T16:26:05.598Z"
   },
   {
    "duration": 13,
    "start_time": "2023-02-04T16:26:05.628Z"
   },
   {
    "duration": 6,
    "start_time": "2023-02-04T16:26:05.643Z"
   },
   {
    "duration": 19,
    "start_time": "2023-02-04T16:26:05.651Z"
   },
   {
    "duration": 37,
    "start_time": "2023-02-04T16:26:05.672Z"
   },
   {
    "duration": 11,
    "start_time": "2023-02-04T16:26:05.711Z"
   },
   {
    "duration": 12,
    "start_time": "2023-02-04T16:26:05.724Z"
   },
   {
    "duration": 67,
    "start_time": "2023-02-04T16:26:05.737Z"
   },
   {
    "duration": 8,
    "start_time": "2023-02-04T16:26:05.806Z"
   },
   {
    "duration": 1067,
    "start_time": "2023-02-04T16:26:32.426Z"
   },
   {
    "duration": 256,
    "start_time": "2023-02-04T16:26:33.494Z"
   },
   {
    "duration": 3,
    "start_time": "2023-02-04T16:26:33.751Z"
   },
   {
    "duration": 24,
    "start_time": "2023-02-04T16:26:33.756Z"
   },
   {
    "duration": 23,
    "start_time": "2023-02-04T16:26:33.782Z"
   },
   {
    "duration": 15,
    "start_time": "2023-02-04T16:26:33.806Z"
   },
   {
    "duration": 90,
    "start_time": "2023-02-04T16:26:33.822Z"
   },
   {
    "duration": 107,
    "start_time": "2023-02-04T16:26:33.914Z"
   },
   {
    "duration": 97,
    "start_time": "2023-02-04T16:26:34.023Z"
   },
   {
    "duration": 192,
    "start_time": "2023-02-04T16:26:34.123Z"
   },
   {
    "duration": 40,
    "start_time": "2023-02-04T16:26:34.317Z"
   },
   {
    "duration": 45,
    "start_time": "2023-02-04T16:26:34.359Z"
   },
   {
    "duration": 432,
    "start_time": "2023-02-04T16:26:34.405Z"
   },
   {
    "duration": 100,
    "start_time": "2023-02-04T16:26:34.839Z"
   },
   {
    "duration": 88,
    "start_time": "2023-02-04T16:26:34.942Z"
   },
   {
    "duration": 21,
    "start_time": "2023-02-04T16:26:35.031Z"
   },
   {
    "duration": 66,
    "start_time": "2023-02-04T16:26:35.054Z"
   },
   {
    "duration": 40,
    "start_time": "2023-02-04T16:26:35.122Z"
   },
   {
    "duration": 40,
    "start_time": "2023-02-04T16:26:35.163Z"
   },
   {
    "duration": 161,
    "start_time": "2023-02-04T16:26:35.205Z"
   },
   {
    "duration": 80,
    "start_time": "2023-02-04T16:26:35.368Z"
   },
   {
    "duration": 104,
    "start_time": "2023-02-04T16:26:35.450Z"
   },
   {
    "duration": 12,
    "start_time": "2023-02-04T16:26:35.556Z"
   },
   {
    "duration": 7,
    "start_time": "2023-02-04T16:26:35.570Z"
   },
   {
    "duration": 86,
    "start_time": "2023-02-04T16:26:35.578Z"
   },
   {
    "duration": 104,
    "start_time": "2023-02-04T16:26:35.665Z"
   },
   {
    "duration": 19,
    "start_time": "2023-02-04T16:26:35.771Z"
   },
   {
    "duration": 22,
    "start_time": "2023-02-04T16:26:35.793Z"
   },
   {
    "duration": 9,
    "start_time": "2023-02-04T16:26:35.816Z"
   },
   {
    "duration": 16,
    "start_time": "2023-02-04T16:26:35.827Z"
   },
   {
    "duration": 12,
    "start_time": "2023-02-04T16:26:35.845Z"
   },
   {
    "duration": 14,
    "start_time": "2023-02-04T16:26:35.859Z"
   },
   {
    "duration": 38,
    "start_time": "2023-02-04T16:26:35.875Z"
   },
   {
    "duration": 33,
    "start_time": "2023-02-04T16:26:35.915Z"
   },
   {
    "duration": 8,
    "start_time": "2023-02-04T16:26:35.949Z"
   },
   {
    "duration": 1197,
    "start_time": "2023-02-05T05:15:48.893Z"
   },
   {
    "duration": 583,
    "start_time": "2023-02-05T05:15:50.093Z"
   },
   {
    "duration": 4,
    "start_time": "2023-02-05T05:15:50.678Z"
   },
   {
    "duration": 24,
    "start_time": "2023-02-05T05:15:50.684Z"
   },
   {
    "duration": 15,
    "start_time": "2023-02-05T05:15:50.710Z"
   },
   {
    "duration": 17,
    "start_time": "2023-02-05T05:15:50.726Z"
   },
   {
    "duration": 93,
    "start_time": "2023-02-05T05:15:50.745Z"
   },
   {
    "duration": 116,
    "start_time": "2023-02-05T05:15:50.839Z"
   },
   {
    "duration": 96,
    "start_time": "2023-02-05T05:15:50.957Z"
   },
   {
    "duration": 207,
    "start_time": "2023-02-05T05:15:51.056Z"
   },
   {
    "duration": 41,
    "start_time": "2023-02-05T05:15:51.265Z"
   },
   {
    "duration": 40,
    "start_time": "2023-02-05T05:15:51.308Z"
   },
   {
    "duration": 468,
    "start_time": "2023-02-05T05:15:51.349Z"
   },
   {
    "duration": 105,
    "start_time": "2023-02-05T05:15:51.820Z"
   },
   {
    "duration": 78,
    "start_time": "2023-02-05T05:15:51.927Z"
   },
   {
    "duration": 23,
    "start_time": "2023-02-05T05:15:52.020Z"
   },
   {
    "duration": 52,
    "start_time": "2023-02-05T05:15:52.044Z"
   },
   {
    "duration": 59,
    "start_time": "2023-02-05T05:15:52.097Z"
   },
   {
    "duration": 25,
    "start_time": "2023-02-05T05:15:52.157Z"
   },
   {
    "duration": 189,
    "start_time": "2023-02-05T05:15:52.184Z"
   },
   {
    "duration": 70,
    "start_time": "2023-02-05T05:15:52.375Z"
   },
   {
    "duration": 108,
    "start_time": "2023-02-05T05:15:52.447Z"
   },
   {
    "duration": 11,
    "start_time": "2023-02-05T05:15:52.557Z"
   },
   {
    "duration": 6,
    "start_time": "2023-02-05T05:15:52.570Z"
   },
   {
    "duration": 86,
    "start_time": "2023-02-05T05:15:52.578Z"
   },
   {
    "duration": 128,
    "start_time": "2023-02-05T05:15:52.666Z"
   },
   {
    "duration": 34,
    "start_time": "2023-02-05T05:15:52.796Z"
   },
   {
    "duration": 14,
    "start_time": "2023-02-05T05:15:52.833Z"
   },
   {
    "duration": 11,
    "start_time": "2023-02-05T05:15:52.849Z"
   },
   {
    "duration": 19,
    "start_time": "2023-02-05T05:15:52.861Z"
   },
   {
    "duration": 44,
    "start_time": "2023-02-05T05:15:52.881Z"
   },
   {
    "duration": 12,
    "start_time": "2023-02-05T05:15:52.926Z"
   },
   {
    "duration": 15,
    "start_time": "2023-02-05T05:15:52.940Z"
   },
   {
    "duration": 70,
    "start_time": "2023-02-05T05:15:52.958Z"
   },
   {
    "duration": 8,
    "start_time": "2023-02-05T05:15:53.030Z"
   },
   {
    "duration": 1185,
    "start_time": "2023-02-05T05:17:39.985Z"
   },
   {
    "duration": 212,
    "start_time": "2023-02-05T05:17:41.173Z"
   },
   {
    "duration": 4,
    "start_time": "2023-02-05T05:17:41.386Z"
   },
   {
    "duration": 37,
    "start_time": "2023-02-05T05:17:41.392Z"
   },
   {
    "duration": 18,
    "start_time": "2023-02-05T05:17:41.431Z"
   },
   {
    "duration": 19,
    "start_time": "2023-02-05T05:17:41.451Z"
   },
   {
    "duration": 102,
    "start_time": "2023-02-05T05:17:41.471Z"
   },
   {
    "duration": 124,
    "start_time": "2023-02-05T05:17:41.575Z"
   },
   {
    "duration": 101,
    "start_time": "2023-02-05T05:17:41.701Z"
   },
   {
    "duration": 212,
    "start_time": "2023-02-05T05:17:41.804Z"
   },
   {
    "duration": 45,
    "start_time": "2023-02-05T05:17:42.021Z"
   },
   {
    "duration": 32,
    "start_time": "2023-02-05T05:17:42.068Z"
   },
   {
    "duration": 521,
    "start_time": "2023-02-05T05:17:42.101Z"
   },
   {
    "duration": 114,
    "start_time": "2023-02-05T05:17:42.626Z"
   },
   {
    "duration": 99,
    "start_time": "2023-02-05T05:17:42.743Z"
   },
   {
    "duration": 24,
    "start_time": "2023-02-05T05:17:42.844Z"
   },
   {
    "duration": 69,
    "start_time": "2023-02-05T05:17:42.870Z"
   },
   {
    "duration": 45,
    "start_time": "2023-02-05T05:17:42.940Z"
   },
   {
    "duration": 45,
    "start_time": "2023-02-05T05:17:42.987Z"
   },
   {
    "duration": 172,
    "start_time": "2023-02-05T05:17:43.034Z"
   },
   {
    "duration": 69,
    "start_time": "2023-02-05T05:17:43.208Z"
   },
   {
    "duration": 123,
    "start_time": "2023-02-05T05:17:43.279Z"
   },
   {
    "duration": 16,
    "start_time": "2023-02-05T05:17:43.404Z"
   },
   {
    "duration": 20,
    "start_time": "2023-02-05T05:17:43.422Z"
   },
   {
    "duration": 91,
    "start_time": "2023-02-05T05:17:43.444Z"
   },
   {
    "duration": 129,
    "start_time": "2023-02-05T05:17:43.537Z"
   },
   {
    "duration": 23,
    "start_time": "2023-02-05T05:17:43.668Z"
   },
   {
    "duration": 32,
    "start_time": "2023-02-05T05:17:43.693Z"
   },
   {
    "duration": 12,
    "start_time": "2023-02-05T05:17:43.727Z"
   },
   {
    "duration": 19,
    "start_time": "2023-02-05T05:17:43.740Z"
   },
   {
    "duration": 13,
    "start_time": "2023-02-05T05:17:43.761Z"
   },
   {
    "duration": 13,
    "start_time": "2023-02-05T05:17:43.776Z"
   },
   {
    "duration": 39,
    "start_time": "2023-02-05T05:17:43.791Z"
   },
   {
    "duration": 43,
    "start_time": "2023-02-05T05:17:43.832Z"
   },
   {
    "duration": 9,
    "start_time": "2023-02-05T05:17:43.878Z"
   },
   {
    "duration": 44,
    "start_time": "2023-04-02T07:24:23.046Z"
   },
   {
    "duration": 1214,
    "start_time": "2023-04-02T07:24:27.761Z"
   },
   {
    "duration": 588,
    "start_time": "2023-04-02T07:24:28.977Z"
   },
   {
    "duration": 3,
    "start_time": "2023-04-02T07:24:29.567Z"
   },
   {
    "duration": 30,
    "start_time": "2023-04-02T07:24:29.571Z"
   },
   {
    "duration": 14,
    "start_time": "2023-04-02T07:24:29.602Z"
   },
   {
    "duration": 15,
    "start_time": "2023-04-02T07:24:29.617Z"
   },
   {
    "duration": 71,
    "start_time": "2023-04-02T07:24:29.635Z"
   },
   {
    "duration": 102,
    "start_time": "2023-04-02T07:24:29.708Z"
   },
   {
    "duration": 85,
    "start_time": "2023-04-02T07:24:29.811Z"
   },
   {
    "duration": 213,
    "start_time": "2023-04-02T07:24:29.899Z"
   },
   {
    "duration": 47,
    "start_time": "2023-04-02T07:24:30.113Z"
   },
   {
    "duration": 27,
    "start_time": "2023-04-02T07:24:30.162Z"
   },
   {
    "duration": 423,
    "start_time": "2023-04-02T07:24:30.190Z"
   },
   {
    "duration": 97,
    "start_time": "2023-04-02T07:24:30.615Z"
   },
   {
    "duration": 84,
    "start_time": "2023-04-02T07:24:30.714Z"
   },
   {
    "duration": 20,
    "start_time": "2023-04-02T07:24:30.800Z"
   },
   {
    "duration": 55,
    "start_time": "2023-04-02T07:24:30.821Z"
   },
   {
    "duration": 38,
    "start_time": "2023-04-02T07:24:30.877Z"
   },
   {
    "duration": 43,
    "start_time": "2023-04-02T07:24:30.916Z"
   },
   {
    "duration": 189,
    "start_time": "2023-04-02T07:24:30.961Z"
   },
   {
    "duration": 57,
    "start_time": "2023-04-02T07:24:31.152Z"
   },
   {
    "duration": 115,
    "start_time": "2023-04-02T07:24:31.210Z"
   },
   {
    "duration": 15,
    "start_time": "2023-04-02T07:24:31.327Z"
   },
   {
    "duration": 16,
    "start_time": "2023-04-02T07:24:31.344Z"
   },
   {
    "duration": 92,
    "start_time": "2023-04-02T07:24:31.362Z"
   },
   {
    "duration": 114,
    "start_time": "2023-04-02T07:24:31.456Z"
   },
   {
    "duration": 21,
    "start_time": "2023-04-02T07:24:31.572Z"
   },
   {
    "duration": 14,
    "start_time": "2023-04-02T07:24:31.596Z"
   },
   {
    "duration": 28,
    "start_time": "2023-04-02T07:24:31.612Z"
   },
   {
    "duration": 25,
    "start_time": "2023-04-02T07:24:31.642Z"
   },
   {
    "duration": 35,
    "start_time": "2023-04-02T07:24:31.669Z"
   },
   {
    "duration": 27,
    "start_time": "2023-04-02T07:24:31.705Z"
   },
   {
    "duration": 9,
    "start_time": "2023-04-02T07:24:31.734Z"
   },
   {
    "duration": 15,
    "start_time": "2023-04-02T07:24:31.745Z"
   },
   {
    "duration": 33,
    "start_time": "2023-04-02T07:24:31.761Z"
   },
   {
    "duration": 8,
    "start_time": "2023-04-02T07:24:31.795Z"
   }
  ],
  "kernelspec": {
   "display_name": "Python 3 (ipykernel)",
   "language": "python",
   "name": "python3"
  },
  "language_info": {
   "codemirror_mode": {
    "name": "ipython",
    "version": 3
   },
   "file_extension": ".py",
   "mimetype": "text/x-python",
   "name": "python",
   "nbconvert_exporter": "python",
   "pygments_lexer": "ipython3",
   "version": "3.9.13"
  },
  "toc": {
   "base_numbering": 1,
   "nav_menu": {},
   "number_sections": true,
   "sideBar": false,
   "skip_h1_title": true,
   "title_cell": "Table of Contents",
   "title_sidebar": "Contents",
   "toc_cell": false,
   "toc_position": {
    "height": "747px",
    "left": "24px",
    "top": "111.133px",
    "width": "293px"
   },
   "toc_section_display": true,
   "toc_window_display": true
  }
 },
 "nbformat": 4,
 "nbformat_minor": 5
}
