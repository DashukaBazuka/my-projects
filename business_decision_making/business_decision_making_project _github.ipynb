{
 "cells": [
  {
   "cell_type": "markdown",
   "id": "b3dc33e7",
   "metadata": {},
   "source": [
    "# Принятие решений в бизнесе"
   ]
  },
  {
   "cell_type": "markdown",
   "id": "58ab60f1",
   "metadata": {},
   "source": [
    "Отдел маркетинга крупного интернет-магазина совместно с аналитиком подготовили список гипотез для увеличения выручки.\n",
    "\n",
    "Цели исследования:\n",
    "- приоритизировать гипотезы\n",
    "- запустить A/B-тест\n",
    "- проанализировать результаты A/B-теста. "
   ]
  },
  {
   "cell_type": "markdown",
   "id": "a746c5c5",
   "metadata": {},
   "source": [
    "## Описание данных"
   ]
  },
  {
   "cell_type": "markdown",
   "id": "6e9b476b",
   "metadata": {},
   "source": [
    "Файл `/datasets/hypothesis.csv`:\n",
    "\n",
    "- `Hypothesis` — краткое описание гипотезы\n",
    "- `Reach` — охват пользователей по 10-балльной шкале\n",
    "- `Impact` — влияние на пользователей по 10-балльной шкале\n",
    "- `Confidence` — уверенность в гипотезе по 10-балльной шкале\n",
    "- `Efforts` — затраты ресурсов на проверку гипотезы по 10-балльной шкале. Чем больше значение Efforts, тем дороже проверка гипотезы.\n",
    "\n",
    "Файл `/datasets/orders.csv`:\n",
    "\n",
    "- `transactionId` — идентификатор заказа\n",
    "- `visitorId` — идентификатор пользователя, совершившего заказ\n",
    "- `date` — дата, когда был совершён заказ\n",
    "- `revenue` — выручка заказа\n",
    "- `group` — группа A/B-теста, в которую попал заказ.\n",
    "\n",
    "Файл `/datasets/visitors.csv`:\n",
    "\n",
    "- `date` — дата\n",
    "- `group` — группа A/B-теста\n",
    "- `visitors` — количество пользователей в указанную дату в указанной группе A/B-теста."
   ]
  },
  {
   "cell_type": "markdown",
   "id": "d075113d",
   "metadata": {},
   "source": [
    "## Предобработка данных"
   ]
  },
  {
   "cell_type": "code",
   "execution_count": 1,
   "id": "072b2f70",
   "metadata": {},
   "outputs": [],
   "source": [
    "# импорт библиотек\n",
    "import pandas as pd\n",
    "import scipy.stats as stats\n",
    "import datetime as dt\n",
    "import numpy as np\n",
    "import matplotlib.pyplot as plt\n",
    "from pandas.plotting import register_matplotlib_converters\n",
    "import warnings\n",
    "# конвертеры, которые позволяют использовать типы pandas в matplotlib  \n",
    "register_matplotlib_converters()"
   ]
  },
  {
   "cell_type": "code",
   "execution_count": 2,
   "id": "2e760e94",
   "metadata": {},
   "outputs": [
    {
     "data": {
      "text/html": [
       "<div>\n",
       "<style scoped>\n",
       "    .dataframe tbody tr th:only-of-type {\n",
       "        vertical-align: middle;\n",
       "    }\n",
       "\n",
       "    .dataframe tbody tr th {\n",
       "        vertical-align: top;\n",
       "    }\n",
       "\n",
       "    .dataframe thead th {\n",
       "        text-align: right;\n",
       "    }\n",
       "</style>\n",
       "<table border=\"1\" class=\"dataframe\">\n",
       "  <thead>\n",
       "    <tr style=\"text-align: right;\">\n",
       "      <th></th>\n",
       "      <th>Hypothesis</th>\n",
       "      <th>Reach</th>\n",
       "      <th>Impact</th>\n",
       "      <th>Confidence</th>\n",
       "      <th>Efforts</th>\n",
       "    </tr>\n",
       "  </thead>\n",
       "  <tbody>\n",
       "    <tr>\n",
       "      <th>0</th>\n",
       "      <td>Добавить два новых канала привлечения трафика,...</td>\n",
       "      <td>3</td>\n",
       "      <td>10</td>\n",
       "      <td>8</td>\n",
       "      <td>6</td>\n",
       "    </tr>\n",
       "    <tr>\n",
       "      <th>1</th>\n",
       "      <td>Запустить собственную службу доставки, что сок...</td>\n",
       "      <td>2</td>\n",
       "      <td>5</td>\n",
       "      <td>4</td>\n",
       "      <td>10</td>\n",
       "    </tr>\n",
       "    <tr>\n",
       "      <th>2</th>\n",
       "      <td>Добавить блоки рекомендаций товаров на сайт ин...</td>\n",
       "      <td>8</td>\n",
       "      <td>3</td>\n",
       "      <td>7</td>\n",
       "      <td>3</td>\n",
       "    </tr>\n",
       "    <tr>\n",
       "      <th>3</th>\n",
       "      <td>Изменить структура категорий, что увеличит кон...</td>\n",
       "      <td>8</td>\n",
       "      <td>3</td>\n",
       "      <td>3</td>\n",
       "      <td>8</td>\n",
       "    </tr>\n",
       "    <tr>\n",
       "      <th>4</th>\n",
       "      <td>Изменить цвет фона главной страницы, чтобы уве...</td>\n",
       "      <td>3</td>\n",
       "      <td>1</td>\n",
       "      <td>1</td>\n",
       "      <td>1</td>\n",
       "    </tr>\n",
       "  </tbody>\n",
       "</table>\n",
       "</div>"
      ],
      "text/plain": [
       "                                          Hypothesis  Reach  Impact  \\\n",
       "0  Добавить два новых канала привлечения трафика,...      3      10   \n",
       "1  Запустить собственную службу доставки, что сок...      2       5   \n",
       "2  Добавить блоки рекомендаций товаров на сайт ин...      8       3   \n",
       "3  Изменить структура категорий, что увеличит кон...      8       3   \n",
       "4  Изменить цвет фона главной страницы, чтобы уве...      3       1   \n",
       "\n",
       "   Confidence  Efforts  \n",
       "0           8        6  \n",
       "1           4       10  \n",
       "2           7        3  \n",
       "3           3        8  \n",
       "4           1        1  "
      ]
     },
     "metadata": {},
     "output_type": "display_data"
    },
    {
     "data": {
      "text/html": [
       "<div>\n",
       "<style scoped>\n",
       "    .dataframe tbody tr th:only-of-type {\n",
       "        vertical-align: middle;\n",
       "    }\n",
       "\n",
       "    .dataframe tbody tr th {\n",
       "        vertical-align: top;\n",
       "    }\n",
       "\n",
       "    .dataframe thead th {\n",
       "        text-align: right;\n",
       "    }\n",
       "</style>\n",
       "<table border=\"1\" class=\"dataframe\">\n",
       "  <thead>\n",
       "    <tr style=\"text-align: right;\">\n",
       "      <th></th>\n",
       "      <th>transactionId</th>\n",
       "      <th>visitorId</th>\n",
       "      <th>date</th>\n",
       "      <th>revenue</th>\n",
       "      <th>group</th>\n",
       "    </tr>\n",
       "  </thead>\n",
       "  <tbody>\n",
       "    <tr>\n",
       "      <th>0</th>\n",
       "      <td>3667963787</td>\n",
       "      <td>3312258926</td>\n",
       "      <td>2019-08-15</td>\n",
       "      <td>1650</td>\n",
       "      <td>B</td>\n",
       "    </tr>\n",
       "    <tr>\n",
       "      <th>1</th>\n",
       "      <td>2804400009</td>\n",
       "      <td>3642806036</td>\n",
       "      <td>2019-08-15</td>\n",
       "      <td>730</td>\n",
       "      <td>B</td>\n",
       "    </tr>\n",
       "    <tr>\n",
       "      <th>2</th>\n",
       "      <td>2961555356</td>\n",
       "      <td>4069496402</td>\n",
       "      <td>2019-08-15</td>\n",
       "      <td>400</td>\n",
       "      <td>A</td>\n",
       "    </tr>\n",
       "    <tr>\n",
       "      <th>3</th>\n",
       "      <td>3797467345</td>\n",
       "      <td>1196621759</td>\n",
       "      <td>2019-08-15</td>\n",
       "      <td>9759</td>\n",
       "      <td>B</td>\n",
       "    </tr>\n",
       "    <tr>\n",
       "      <th>4</th>\n",
       "      <td>2282983706</td>\n",
       "      <td>2322279887</td>\n",
       "      <td>2019-08-15</td>\n",
       "      <td>2308</td>\n",
       "      <td>B</td>\n",
       "    </tr>\n",
       "  </tbody>\n",
       "</table>\n",
       "</div>"
      ],
      "text/plain": [
       "   transactionId   visitorId        date  revenue group\n",
       "0     3667963787  3312258926  2019-08-15     1650     B\n",
       "1     2804400009  3642806036  2019-08-15      730     B\n",
       "2     2961555356  4069496402  2019-08-15      400     A\n",
       "3     3797467345  1196621759  2019-08-15     9759     B\n",
       "4     2282983706  2322279887  2019-08-15     2308     B"
      ]
     },
     "metadata": {},
     "output_type": "display_data"
    },
    {
     "data": {
      "text/html": [
       "<div>\n",
       "<style scoped>\n",
       "    .dataframe tbody tr th:only-of-type {\n",
       "        vertical-align: middle;\n",
       "    }\n",
       "\n",
       "    .dataframe tbody tr th {\n",
       "        vertical-align: top;\n",
       "    }\n",
       "\n",
       "    .dataframe thead th {\n",
       "        text-align: right;\n",
       "    }\n",
       "</style>\n",
       "<table border=\"1\" class=\"dataframe\">\n",
       "  <thead>\n",
       "    <tr style=\"text-align: right;\">\n",
       "      <th></th>\n",
       "      <th>date</th>\n",
       "      <th>group</th>\n",
       "      <th>visitors</th>\n",
       "    </tr>\n",
       "  </thead>\n",
       "  <tbody>\n",
       "    <tr>\n",
       "      <th>0</th>\n",
       "      <td>2019-08-01</td>\n",
       "      <td>A</td>\n",
       "      <td>719</td>\n",
       "    </tr>\n",
       "    <tr>\n",
       "      <th>1</th>\n",
       "      <td>2019-08-02</td>\n",
       "      <td>A</td>\n",
       "      <td>619</td>\n",
       "    </tr>\n",
       "    <tr>\n",
       "      <th>2</th>\n",
       "      <td>2019-08-03</td>\n",
       "      <td>A</td>\n",
       "      <td>507</td>\n",
       "    </tr>\n",
       "    <tr>\n",
       "      <th>3</th>\n",
       "      <td>2019-08-04</td>\n",
       "      <td>A</td>\n",
       "      <td>717</td>\n",
       "    </tr>\n",
       "    <tr>\n",
       "      <th>4</th>\n",
       "      <td>2019-08-05</td>\n",
       "      <td>A</td>\n",
       "      <td>756</td>\n",
       "    </tr>\n",
       "  </tbody>\n",
       "</table>\n",
       "</div>"
      ],
      "text/plain": [
       "         date group  visitors\n",
       "0  2019-08-01     A       719\n",
       "1  2019-08-02     A       619\n",
       "2  2019-08-03     A       507\n",
       "3  2019-08-04     A       717\n",
       "4  2019-08-05     A       756"
      ]
     },
     "metadata": {},
     "output_type": "display_data"
    }
   ],
   "source": [
    "try:\n",
    "    hypothesis = pd.read_csv('hypothesis.csv')\n",
    "    orders = pd.read_csv('orders.csv')\n",
    "    visitors = pd.read_csv('visitors.csv')\n",
    "except:\n",
    "    hypothesis = pd.read_csv('/datasets/hypothesis.csv')\n",
    "    orders = pd.read_csv('/datasets/orders.csv')\n",
    "    visitors = pd.read_csv('/datasets/visitors.csv')\n",
    "# вывод первых строк для ознакомления\n",
    "display(hypothesis.head())\n",
    "display(orders.head())\n",
    "display(visitors.head())"
   ]
  },
  {
   "cell_type": "code",
   "execution_count": 3,
   "id": "9318a2b5",
   "metadata": {},
   "outputs": [],
   "source": [
    "# приведём названия столбцов датафреймов к стандартному виду\n",
    "hypothesis.columns = hypothesis.columns.str.lower()\n",
    "orders.columns = ['transaction_id', 'visitor_id', 'date', 'revenue', 'group']"
   ]
  },
  {
   "cell_type": "markdown",
   "id": "c2485157",
   "metadata": {},
   "source": [
    "Выведем общую информацию о датафреймах:"
   ]
  },
  {
   "cell_type": "code",
   "execution_count": 4,
   "id": "49dedd31",
   "metadata": {},
   "outputs": [
    {
     "name": "stdout",
     "output_type": "stream",
     "text": [
      "<class 'pandas.core.frame.DataFrame'>\n",
      "RangeIndex: 9 entries, 0 to 8\n",
      "Data columns (total 5 columns):\n",
      " #   Column      Non-Null Count  Dtype \n",
      "---  ------      --------------  ----- \n",
      " 0   hypothesis  9 non-null      object\n",
      " 1   reach       9 non-null      int64 \n",
      " 2   impact      9 non-null      int64 \n",
      " 3   confidence  9 non-null      int64 \n",
      " 4   efforts     9 non-null      int64 \n",
      "dtypes: int64(4), object(1)\n",
      "memory usage: 488.0+ bytes\n"
     ]
    }
   ],
   "source": [
    "hypothesis.info()"
   ]
  },
  {
   "cell_type": "code",
   "execution_count": 5,
   "id": "6e435192",
   "metadata": {},
   "outputs": [
    {
     "name": "stdout",
     "output_type": "stream",
     "text": [
      "<class 'pandas.core.frame.DataFrame'>\n",
      "RangeIndex: 1197 entries, 0 to 1196\n",
      "Data columns (total 5 columns):\n",
      " #   Column          Non-Null Count  Dtype \n",
      "---  ------          --------------  ----- \n",
      " 0   transaction_id  1197 non-null   int64 \n",
      " 1   visitor_id      1197 non-null   int64 \n",
      " 2   date            1197 non-null   object\n",
      " 3   revenue         1197 non-null   int64 \n",
      " 4   group           1197 non-null   object\n",
      "dtypes: int64(3), object(2)\n",
      "memory usage: 46.9+ KB\n"
     ]
    }
   ],
   "source": [
    "orders.info()"
   ]
  },
  {
   "cell_type": "code",
   "execution_count": 6,
   "id": "0186f035",
   "metadata": {
    "scrolled": true
   },
   "outputs": [
    {
     "name": "stdout",
     "output_type": "stream",
     "text": [
      "<class 'pandas.core.frame.DataFrame'>\n",
      "RangeIndex: 62 entries, 0 to 61\n",
      "Data columns (total 3 columns):\n",
      " #   Column    Non-Null Count  Dtype \n",
      "---  ------    --------------  ----- \n",
      " 0   date      62 non-null     object\n",
      " 1   group     62 non-null     object\n",
      " 2   visitors  62 non-null     int64 \n",
      "dtypes: int64(1), object(2)\n",
      "memory usage: 1.6+ KB\n"
     ]
    }
   ],
   "source": [
    "visitors.info()"
   ]
  },
  {
   "cell_type": "markdown",
   "id": "8f66cb06",
   "metadata": {},
   "source": [
    "Пропуски отсутствуют. Необходимо привести тип данных столбцов `date` в датафреймах `orders` и `visitors` к формату `datetime`."
   ]
  },
  {
   "cell_type": "code",
   "execution_count": 7,
   "id": "4c2adc4f",
   "metadata": {},
   "outputs": [],
   "source": [
    "orders['date'] = orders['date'].map(lambda x: dt.datetime.strptime(x, '%Y-%m-%d'))\n",
    "visitors['date'] = visitors['date'].map(lambda x: dt.datetime.strptime(x, '%Y-%m-%d'))"
   ]
  },
  {
   "cell_type": "markdown",
   "id": "e05172b3",
   "metadata": {},
   "source": [
    "Проверим датафреймы на наличие дубликатов:"
   ]
  },
  {
   "cell_type": "code",
   "execution_count": 8,
   "id": "9009f0b3",
   "metadata": {},
   "outputs": [
    {
     "data": {
      "text/plain": [
       "0"
      ]
     },
     "execution_count": 8,
     "metadata": {},
     "output_type": "execute_result"
    }
   ],
   "source": [
    "hypothesis.duplicated().sum()"
   ]
  },
  {
   "cell_type": "code",
   "execution_count": 9,
   "id": "a7ee9078",
   "metadata": {},
   "outputs": [
    {
     "data": {
      "text/plain": [
       "0"
      ]
     },
     "execution_count": 9,
     "metadata": {},
     "output_type": "execute_result"
    }
   ],
   "source": [
    "orders.duplicated().sum()"
   ]
  },
  {
   "cell_type": "code",
   "execution_count": 10,
   "id": "3fc2c478",
   "metadata": {},
   "outputs": [
    {
     "data": {
      "text/plain": [
       "0"
      ]
     },
     "execution_count": 10,
     "metadata": {},
     "output_type": "execute_result"
    }
   ],
   "source": [
    "visitors.duplicated().sum()"
   ]
  },
  {
   "cell_type": "markdown",
   "id": "5bd86b9c",
   "metadata": {},
   "source": [
    "Явные дубликаты отсутствуют.\n",
    "\n",
    "Проверим количество тестируемых групп."
   ]
  },
  {
   "cell_type": "code",
   "execution_count": 11,
   "id": "1fde612d",
   "metadata": {},
   "outputs": [
    {
     "data": {
      "text/plain": [
       "array(['B', 'A'], dtype=object)"
      ]
     },
     "execution_count": 11,
     "metadata": {},
     "output_type": "execute_result"
    }
   ],
   "source": [
    "orders['group'].unique()"
   ]
  },
  {
   "cell_type": "code",
   "execution_count": 12,
   "id": "cc93a37d",
   "metadata": {},
   "outputs": [
    {
     "data": {
      "text/plain": [
       "array(['A', 'B'], dtype=object)"
      ]
     },
     "execution_count": 12,
     "metadata": {},
     "output_type": "execute_result"
    }
   ],
   "source": [
    "visitors['group'].unique()"
   ]
  },
  {
   "cell_type": "markdown",
   "id": "7f64178b",
   "metadata": {},
   "source": [
    "Как и заявлено, тестировались две группы A и B.\n",
    "\n",
    "Узнаем, в какой период проводилось тестирование."
   ]
  },
  {
   "cell_type": "code",
   "execution_count": 13,
   "id": "8148dfa9",
   "metadata": {
    "scrolled": true
   },
   "outputs": [
    {
     "data": {
      "text/plain": [
       "Timestamp('2019-08-01 00:00:00')"
      ]
     },
     "execution_count": 13,
     "metadata": {},
     "output_type": "execute_result"
    }
   ],
   "source": [
    "orders['date'].min()"
   ]
  },
  {
   "cell_type": "code",
   "execution_count": 14,
   "id": "ee47d0c4",
   "metadata": {},
   "outputs": [
    {
     "data": {
      "text/plain": [
       "Timestamp('2019-08-31 00:00:00')"
      ]
     },
     "execution_count": 14,
     "metadata": {},
     "output_type": "execute_result"
    }
   ],
   "source": [
    "orders['date'].max()"
   ]
  },
  {
   "cell_type": "code",
   "execution_count": 15,
   "id": "65dbc0a0",
   "metadata": {},
   "outputs": [
    {
     "data": {
      "text/plain": [
       "Timestamp('2019-08-01 00:00:00')"
      ]
     },
     "execution_count": 15,
     "metadata": {},
     "output_type": "execute_result"
    }
   ],
   "source": [
    "visitors['date'].min()"
   ]
  },
  {
   "cell_type": "code",
   "execution_count": 16,
   "id": "c90890d4",
   "metadata": {},
   "outputs": [
    {
     "data": {
      "text/plain": [
       "Timestamp('2019-08-31 00:00:00')"
      ]
     },
     "execution_count": 16,
     "metadata": {},
     "output_type": "execute_result"
    }
   ],
   "source": [
    "visitors['date'].max()"
   ]
  },
  {
   "cell_type": "markdown",
   "id": "c1df54ff",
   "metadata": {},
   "source": [
    "Тестирование проводилось в период с 1-ого по 31-ое августа 2019 года.\n",
    "\n",
    "Проверим, не попали ли одни и те же пользователи в обе группы."
   ]
  },
  {
   "cell_type": "code",
   "execution_count": 17,
   "id": "846d4da3",
   "metadata": {},
   "outputs": [
    {
     "data": {
      "text/plain": [
       "group    58\n",
       "dtype: int64"
      ]
     },
     "execution_count": 17,
     "metadata": {},
     "output_type": "execute_result"
    }
   ],
   "source": [
    "# для каждого пользователя посчитаем количество уникальных групп\n",
    "# пользователей с двумя группами занесём в отдельную переменную\n",
    "visitorsAB = orders.groupby('visitor_id').agg({'group': 'nunique'}).query('group == 2')\n",
    "visitorsAB.count()"
   ]
  },
  {
   "cell_type": "markdown",
   "id": "8c9a1d04",
   "metadata": {},
   "source": [
    "Имеются 58 пользователей, которые попали в обе группы. Узнаем, какой процент от общего числа пользователей они составляют."
   ]
  },
  {
   "cell_type": "code",
   "execution_count": 18,
   "id": "dacca756",
   "metadata": {
    "scrolled": true
   },
   "outputs": [
    {
     "data": {
      "text/plain": [
       "5.625606207565471"
      ]
     },
     "execution_count": 18,
     "metadata": {},
     "output_type": "execute_result"
    }
   ],
   "source": [
    "visitorsAB.shape[0] / orders['visitor_id'].nunique() * 100"
   ]
  },
  {
   "cell_type": "markdown",
   "id": "e2f5eb51",
   "metadata": {},
   "source": [
    "Оставим эти 5.6% дублированных пользователей, так как мы можем исключить их только из таблицы `orders`, а в таблице `visitors` нет данных о том, какие пользователи посещали интренет-магазин в определённые даты.\n",
    "\n",
    "Проверим данные о стоимости заказов и ежедневных посетителях по группам по критерию Шапиро-Уилка. За нулевую гипотезу примем, что данные нормальны.\n"
   ]
  },
  {
   "cell_type": "code",
   "execution_count": 19,
   "id": "6e60f497",
   "metadata": {},
   "outputs": [
    {
     "data": {
      "text/plain": [
       "'p-значение: 0.0000000000000000000000000000000001739724'"
      ]
     },
     "metadata": {},
     "output_type": "display_data"
    },
    {
     "data": {
      "text/plain": [
       "'Отвергаем нулевую гипотезу: распределение не нормально'"
      ]
     },
     "metadata": {},
     "output_type": "display_data"
    }
   ],
   "source": [
    "# проверка данных о стоимости заказов в группе A на нормальность\n",
    "alpha = 0.05\n",
    "\n",
    "results = stats.shapiro(orders[orders['group'] == 'A']['revenue'])\n",
    "p_value = results[1]\n",
    "\n",
    "display('p-значение: {0:.40f}'.format(p_value))\n",
    "\n",
    "if p_value < alpha:\n",
    "    display('Отвергаем нулевую гипотезу: распределение не нормально')\n",
    "else:\n",
    "    display('Не получилось отвергнуть нулевую гипотезу, распределение нормально') "
   ]
  },
  {
   "cell_type": "code",
   "execution_count": 20,
   "id": "42143663",
   "metadata": {},
   "outputs": [
    {
     "data": {
      "text/plain": [
       "'p-значение: 0.0000000000000000000000000000000000000000'"
      ]
     },
     "metadata": {},
     "output_type": "display_data"
    },
    {
     "data": {
      "text/plain": [
       "'Отвергаем нулевую гипотезу: распределение не нормально'"
      ]
     },
     "metadata": {},
     "output_type": "display_data"
    }
   ],
   "source": [
    "# проверка данных о стоимости заказов в группе B на нормальность\n",
    "alpha = 0.05\n",
    "\n",
    "results = stats.shapiro(orders[orders['group'] == 'B']['revenue'])\n",
    "p_value = results[1]\n",
    "\n",
    "display('p-значение: {0:.40f}'.format(p_value))\n",
    "\n",
    "if p_value < alpha:\n",
    "    display('Отвергаем нулевую гипотезу: распределение не нормально')\n",
    "else:\n",
    "    display('Не получилось отвергнуть нулевую гипотезу, распределение нормально') "
   ]
  },
  {
   "cell_type": "code",
   "execution_count": 21,
   "id": "9abdee8e",
   "metadata": {},
   "outputs": [
    {
     "data": {
      "text/plain": [
       "'p-значение: 0.02920'"
      ]
     },
     "metadata": {},
     "output_type": "display_data"
    },
    {
     "data": {
      "text/plain": [
       "'Отвергаем нулевую гипотезу: распределение не нормально'"
      ]
     },
     "metadata": {},
     "output_type": "display_data"
    }
   ],
   "source": [
    "# проверка данных о ежедневном количестве посетителей в группе A на нормальность\n",
    "alpha = 0.05\n",
    "\n",
    "results = stats.shapiro(visitors[visitors['group'] == 'A']['visitors'])\n",
    "p_value = results[1]\n",
    "\n",
    "display('p-значение: {0:.5f}'.format(p_value))\n",
    "\n",
    "if p_value < alpha:\n",
    "    display('Отвергаем нулевую гипотезу: распределение не нормально')\n",
    "else:\n",
    "    display('Не получилось отвергнуть нулевую гипотезу, распределение нормально') "
   ]
  },
  {
   "cell_type": "code",
   "execution_count": 22,
   "id": "87acdf61",
   "metadata": {
    "scrolled": true
   },
   "outputs": [
    {
     "data": {
      "text/plain": [
       "'p-значение: 0.03645'"
      ]
     },
     "metadata": {},
     "output_type": "display_data"
    },
    {
     "data": {
      "text/plain": [
       "'Отвергаем нулевую гипотезу: распределение не нормально'"
      ]
     },
     "metadata": {},
     "output_type": "display_data"
    }
   ],
   "source": [
    "# проверка данных о ежедневном количестве посетителей в группе B на нормальность\n",
    "alpha = 0.05\n",
    "\n",
    "results = stats.shapiro(visitors[visitors['group'] == 'B']['visitors'])\n",
    "p_value = results[1]\n",
    "\n",
    "display('p-значение: {0:.5f}'.format(p_value))\n",
    "\n",
    "if p_value < alpha:\n",
    "    display('Отвергаем нулевую гипотезу: распределение не нормально')\n",
    "else:\n",
    "    display('Не получилось отвергнуть нулевую гипотезу, распределение нормально') "
   ]
  },
  {
   "cell_type": "markdown",
   "id": "95254405",
   "metadata": {},
   "source": [
    "Как и следовало ожидать, распределение реальных данных не нормально. Это говорит о наличии аномалий, которые будут рассмотрены позднее."
   ]
  },
  {
   "cell_type": "markdown",
   "id": "54120dea",
   "metadata": {},
   "source": [
    "## Приоритизация гипотез"
   ]
  },
  {
   "cell_type": "markdown",
   "id": "94d47e75",
   "metadata": {},
   "source": [
    "Применим фреймворк `ICE` для приоритизации гипотез. Отсортируем их по убыванию приоритета."
   ]
  },
  {
   "cell_type": "code",
   "execution_count": 23,
   "id": "a3b26ed2",
   "metadata": {},
   "outputs": [
    {
     "data": {
      "text/html": [
       "<div>\n",
       "<style scoped>\n",
       "    .dataframe tbody tr th:only-of-type {\n",
       "        vertical-align: middle;\n",
       "    }\n",
       "\n",
       "    .dataframe tbody tr th {\n",
       "        vertical-align: top;\n",
       "    }\n",
       "\n",
       "    .dataframe thead th {\n",
       "        text-align: right;\n",
       "    }\n",
       "</style>\n",
       "<table border=\"1\" class=\"dataframe\">\n",
       "  <thead>\n",
       "    <tr style=\"text-align: right;\">\n",
       "      <th></th>\n",
       "      <th>hypothesis</th>\n",
       "      <th>ICE</th>\n",
       "    </tr>\n",
       "  </thead>\n",
       "  <tbody>\n",
       "    <tr>\n",
       "      <th>8</th>\n",
       "      <td>Запустить акцию, дающую скидку на товар в день рождения</td>\n",
       "      <td>16.20</td>\n",
       "    </tr>\n",
       "    <tr>\n",
       "      <th>0</th>\n",
       "      <td>Добавить два новых канала привлечения трафика, что позволит привлекать на 30% больше пользователей</td>\n",
       "      <td>13.33</td>\n",
       "    </tr>\n",
       "    <tr>\n",
       "      <th>7</th>\n",
       "      <td>Добавить форму подписки на все основные страницы, чтобы собрать базу клиентов для email-рассылок</td>\n",
       "      <td>11.20</td>\n",
       "    </tr>\n",
       "    <tr>\n",
       "      <th>6</th>\n",
       "      <td>Показать на главной странице баннеры с актуальными акциями и распродажами, чтобы увеличить конверсию</td>\n",
       "      <td>8.00</td>\n",
       "    </tr>\n",
       "    <tr>\n",
       "      <th>2</th>\n",
       "      <td>Добавить блоки рекомендаций товаров на сайт интернет магазина, чтобы повысить конверсию и средний чек заказа</td>\n",
       "      <td>7.00</td>\n",
       "    </tr>\n",
       "    <tr>\n",
       "      <th>1</th>\n",
       "      <td>Запустить собственную службу доставки, что сократит срок доставки заказов</td>\n",
       "      <td>2.00</td>\n",
       "    </tr>\n",
       "    <tr>\n",
       "      <th>5</th>\n",
       "      <td>Добавить страницу отзывов клиентов о магазине, что позволит увеличить количество заказов</td>\n",
       "      <td>1.33</td>\n",
       "    </tr>\n",
       "    <tr>\n",
       "      <th>3</th>\n",
       "      <td>Изменить структура категорий, что увеличит конверсию, т.к. пользователи быстрее найдут нужный товар</td>\n",
       "      <td>1.12</td>\n",
       "    </tr>\n",
       "    <tr>\n",
       "      <th>4</th>\n",
       "      <td>Изменить цвет фона главной страницы, чтобы увеличить вовлеченность пользователей</td>\n",
       "      <td>1.00</td>\n",
       "    </tr>\n",
       "  </tbody>\n",
       "</table>\n",
       "</div>"
      ],
      "text/plain": [
       "                                                                                                     hypothesis  \\\n",
       "8                                                       Запустить акцию, дающую скидку на товар в день рождения   \n",
       "0            Добавить два новых канала привлечения трафика, что позволит привлекать на 30% больше пользователей   \n",
       "7              Добавить форму подписки на все основные страницы, чтобы собрать базу клиентов для email-рассылок   \n",
       "6          Показать на главной странице баннеры с актуальными акциями и распродажами, чтобы увеличить конверсию   \n",
       "2  Добавить блоки рекомендаций товаров на сайт интернет магазина, чтобы повысить конверсию и средний чек заказа   \n",
       "1                                     Запустить собственную службу доставки, что сократит срок доставки заказов   \n",
       "5                      Добавить страницу отзывов клиентов о магазине, что позволит увеличить количество заказов   \n",
       "3           Изменить структура категорий, что увеличит конверсию, т.к. пользователи быстрее найдут нужный товар   \n",
       "4                              Изменить цвет фона главной страницы, чтобы увеличить вовлеченность пользователей   \n",
       "\n",
       "     ICE  \n",
       "8  16.20  \n",
       "0  13.33  \n",
       "7  11.20  \n",
       "6   8.00  \n",
       "2   7.00  \n",
       "1   2.00  \n",
       "5   1.33  \n",
       "3   1.12  \n",
       "4   1.00  "
      ]
     },
     "execution_count": 23,
     "metadata": {},
     "output_type": "execute_result"
    }
   ],
   "source": [
    "# строка для полного отображения гипотез\n",
    "pd.options.display.max_colwidth = 120\n",
    "hypothesis['ICE'] = round(hypothesis['impact'] * hypothesis['confidence'] / hypothesis['efforts'], 2)\n",
    "hypothesis[['hypothesis', 'ICE']].sort_values('ICE', ascending=False)"
   ]
  },
  {
   "cell_type": "markdown",
   "id": "b10b0790",
   "metadata": {},
   "source": [
    "Явным лидером по приоритетам `ICE` становится гипотеза 8. Данная гипотеза предполагает, что скидка на товар в день рождения пользователя увеличит выручку магазина.\n",
    "\n",
    "Применим фреймворк `RICE` для приоритизации гипотез. Отсортируем их по убыванию приоритета."
   ]
  },
  {
   "cell_type": "code",
   "execution_count": 24,
   "id": "eb2a0620",
   "metadata": {},
   "outputs": [
    {
     "data": {
      "text/html": [
       "<div>\n",
       "<style scoped>\n",
       "    .dataframe tbody tr th:only-of-type {\n",
       "        vertical-align: middle;\n",
       "    }\n",
       "\n",
       "    .dataframe tbody tr th {\n",
       "        vertical-align: top;\n",
       "    }\n",
       "\n",
       "    .dataframe thead th {\n",
       "        text-align: right;\n",
       "    }\n",
       "</style>\n",
       "<table border=\"1\" class=\"dataframe\">\n",
       "  <thead>\n",
       "    <tr style=\"text-align: right;\">\n",
       "      <th></th>\n",
       "      <th>hypothesis</th>\n",
       "      <th>RICE</th>\n",
       "    </tr>\n",
       "  </thead>\n",
       "  <tbody>\n",
       "    <tr>\n",
       "      <th>7</th>\n",
       "      <td>Добавить форму подписки на все основные страницы, чтобы собрать базу клиентов для email-рассылок</td>\n",
       "      <td>112.0</td>\n",
       "    </tr>\n",
       "    <tr>\n",
       "      <th>2</th>\n",
       "      <td>Добавить блоки рекомендаций товаров на сайт интернет магазина, чтобы повысить конверсию и средний чек заказа</td>\n",
       "      <td>56.0</td>\n",
       "    </tr>\n",
       "    <tr>\n",
       "      <th>0</th>\n",
       "      <td>Добавить два новых канала привлечения трафика, что позволит привлекать на 30% больше пользователей</td>\n",
       "      <td>40.0</td>\n",
       "    </tr>\n",
       "    <tr>\n",
       "      <th>6</th>\n",
       "      <td>Показать на главной странице баннеры с актуальными акциями и распродажами, чтобы увеличить конверсию</td>\n",
       "      <td>40.0</td>\n",
       "    </tr>\n",
       "    <tr>\n",
       "      <th>8</th>\n",
       "      <td>Запустить акцию, дающую скидку на товар в день рождения</td>\n",
       "      <td>16.2</td>\n",
       "    </tr>\n",
       "    <tr>\n",
       "      <th>3</th>\n",
       "      <td>Изменить структура категорий, что увеличит конверсию, т.к. пользователи быстрее найдут нужный товар</td>\n",
       "      <td>9.0</td>\n",
       "    </tr>\n",
       "    <tr>\n",
       "      <th>1</th>\n",
       "      <td>Запустить собственную службу доставки, что сократит срок доставки заказов</td>\n",
       "      <td>4.0</td>\n",
       "    </tr>\n",
       "    <tr>\n",
       "      <th>5</th>\n",
       "      <td>Добавить страницу отзывов клиентов о магазине, что позволит увеличить количество заказов</td>\n",
       "      <td>4.0</td>\n",
       "    </tr>\n",
       "    <tr>\n",
       "      <th>4</th>\n",
       "      <td>Изменить цвет фона главной страницы, чтобы увеличить вовлеченность пользователей</td>\n",
       "      <td>3.0</td>\n",
       "    </tr>\n",
       "  </tbody>\n",
       "</table>\n",
       "</div>"
      ],
      "text/plain": [
       "                                                                                                     hypothesis  \\\n",
       "7              Добавить форму подписки на все основные страницы, чтобы собрать базу клиентов для email-рассылок   \n",
       "2  Добавить блоки рекомендаций товаров на сайт интернет магазина, чтобы повысить конверсию и средний чек заказа   \n",
       "0            Добавить два новых канала привлечения трафика, что позволит привлекать на 30% больше пользователей   \n",
       "6          Показать на главной странице баннеры с актуальными акциями и распродажами, чтобы увеличить конверсию   \n",
       "8                                                       Запустить акцию, дающую скидку на товар в день рождения   \n",
       "3           Изменить структура категорий, что увеличит конверсию, т.к. пользователи быстрее найдут нужный товар   \n",
       "1                                     Запустить собственную службу доставки, что сократит срок доставки заказов   \n",
       "5                      Добавить страницу отзывов клиентов о магазине, что позволит увеличить количество заказов   \n",
       "4                              Изменить цвет фона главной страницы, чтобы увеличить вовлеченность пользователей   \n",
       "\n",
       "    RICE  \n",
       "7  112.0  \n",
       "2   56.0  \n",
       "0   40.0  \n",
       "6   40.0  \n",
       "8   16.2  \n",
       "3    9.0  \n",
       "1    4.0  \n",
       "5    4.0  \n",
       "4    3.0  "
      ]
     },
     "execution_count": 24,
     "metadata": {},
     "output_type": "execute_result"
    }
   ],
   "source": [
    "hypothesis['RICE'] = hypothesis['reach'] * hypothesis['impact'] * hypothesis['confidence'] / hypothesis['efforts']\n",
    "hypothesis[['hypothesis', 'RICE']].sort_values('RICE', ascending=False)"
   ]
  },
  {
   "cell_type": "markdown",
   "id": "163f255c",
   "metadata": {},
   "source": [
    "Явным лидером по приоритетам `RICE` становится гипотезы 7. Данная гипотеза предполагает, что форма подписки на основные страницы позволит собрать базу клиентов для e-mail рассылок, в следствие чего увеличится количество заказов и выручка.\n",
    "\n",
    "На первое место вышла гипотеза 7, так как в методе `RICE` учитывается охват пользователей `reach`, которых затронут изменения. В данном случае у гипотезы 7 максимальный охват - 10 баллов, поэтому она наиболее важна, а изменения по гипотезе 8 затронут минимальное количество пользователей - 1 балл."
   ]
  },
  {
   "cell_type": "markdown",
   "id": "8410c817",
   "metadata": {},
   "source": [
    "## Анализ A/B-теста"
   ]
  },
  {
   "cell_type": "markdown",
   "id": "120d5226",
   "metadata": {},
   "source": [
    "Мы провели A/B-тест и получили результаты, которые описаны в датафреймах `orders` и `visitors`."
   ]
  },
  {
   "cell_type": "code",
   "execution_count": 25,
   "id": "e3ade019",
   "metadata": {},
   "outputs": [
    {
     "data": {
      "text/html": [
       "<div>\n",
       "<style scoped>\n",
       "    .dataframe tbody tr th:only-of-type {\n",
       "        vertical-align: middle;\n",
       "    }\n",
       "\n",
       "    .dataframe tbody tr th {\n",
       "        vertical-align: top;\n",
       "    }\n",
       "\n",
       "    .dataframe thead th {\n",
       "        text-align: right;\n",
       "    }\n",
       "</style>\n",
       "<table border=\"1\" class=\"dataframe\">\n",
       "  <thead>\n",
       "    <tr style=\"text-align: right;\">\n",
       "      <th></th>\n",
       "      <th>transaction_id</th>\n",
       "      <th>visitor_id</th>\n",
       "      <th>date</th>\n",
       "      <th>revenue</th>\n",
       "      <th>group</th>\n",
       "    </tr>\n",
       "  </thead>\n",
       "  <tbody>\n",
       "    <tr>\n",
       "      <th>0</th>\n",
       "      <td>3667963787</td>\n",
       "      <td>3312258926</td>\n",
       "      <td>2019-08-15</td>\n",
       "      <td>1650</td>\n",
       "      <td>B</td>\n",
       "    </tr>\n",
       "    <tr>\n",
       "      <th>1</th>\n",
       "      <td>2804400009</td>\n",
       "      <td>3642806036</td>\n",
       "      <td>2019-08-15</td>\n",
       "      <td>730</td>\n",
       "      <td>B</td>\n",
       "    </tr>\n",
       "    <tr>\n",
       "      <th>2</th>\n",
       "      <td>2961555356</td>\n",
       "      <td>4069496402</td>\n",
       "      <td>2019-08-15</td>\n",
       "      <td>400</td>\n",
       "      <td>A</td>\n",
       "    </tr>\n",
       "    <tr>\n",
       "      <th>3</th>\n",
       "      <td>3797467345</td>\n",
       "      <td>1196621759</td>\n",
       "      <td>2019-08-15</td>\n",
       "      <td>9759</td>\n",
       "      <td>B</td>\n",
       "    </tr>\n",
       "    <tr>\n",
       "      <th>4</th>\n",
       "      <td>2282983706</td>\n",
       "      <td>2322279887</td>\n",
       "      <td>2019-08-15</td>\n",
       "      <td>2308</td>\n",
       "      <td>B</td>\n",
       "    </tr>\n",
       "  </tbody>\n",
       "</table>\n",
       "</div>"
      ],
      "text/plain": [
       "   transaction_id  visitor_id       date  revenue group\n",
       "0      3667963787  3312258926 2019-08-15     1650     B\n",
       "1      2804400009  3642806036 2019-08-15      730     B\n",
       "2      2961555356  4069496402 2019-08-15      400     A\n",
       "3      3797467345  1196621759 2019-08-15     9759     B\n",
       "4      2282983706  2322279887 2019-08-15     2308     B"
      ]
     },
     "execution_count": 25,
     "metadata": {},
     "output_type": "execute_result"
    }
   ],
   "source": [
    "orders.head()"
   ]
  },
  {
   "cell_type": "code",
   "execution_count": 26,
   "id": "fa90b99f",
   "metadata": {
    "scrolled": true
   },
   "outputs": [
    {
     "data": {
      "text/html": [
       "<div>\n",
       "<style scoped>\n",
       "    .dataframe tbody tr th:only-of-type {\n",
       "        vertical-align: middle;\n",
       "    }\n",
       "\n",
       "    .dataframe tbody tr th {\n",
       "        vertical-align: top;\n",
       "    }\n",
       "\n",
       "    .dataframe thead th {\n",
       "        text-align: right;\n",
       "    }\n",
       "</style>\n",
       "<table border=\"1\" class=\"dataframe\">\n",
       "  <thead>\n",
       "    <tr style=\"text-align: right;\">\n",
       "      <th></th>\n",
       "      <th>date</th>\n",
       "      <th>group</th>\n",
       "      <th>visitors</th>\n",
       "    </tr>\n",
       "  </thead>\n",
       "  <tbody>\n",
       "    <tr>\n",
       "      <th>0</th>\n",
       "      <td>2019-08-01</td>\n",
       "      <td>A</td>\n",
       "      <td>719</td>\n",
       "    </tr>\n",
       "    <tr>\n",
       "      <th>1</th>\n",
       "      <td>2019-08-02</td>\n",
       "      <td>A</td>\n",
       "      <td>619</td>\n",
       "    </tr>\n",
       "    <tr>\n",
       "      <th>2</th>\n",
       "      <td>2019-08-03</td>\n",
       "      <td>A</td>\n",
       "      <td>507</td>\n",
       "    </tr>\n",
       "    <tr>\n",
       "      <th>3</th>\n",
       "      <td>2019-08-04</td>\n",
       "      <td>A</td>\n",
       "      <td>717</td>\n",
       "    </tr>\n",
       "    <tr>\n",
       "      <th>4</th>\n",
       "      <td>2019-08-05</td>\n",
       "      <td>A</td>\n",
       "      <td>756</td>\n",
       "    </tr>\n",
       "  </tbody>\n",
       "</table>\n",
       "</div>"
      ],
      "text/plain": [
       "        date group  visitors\n",
       "0 2019-08-01     A       719\n",
       "1 2019-08-02     A       619\n",
       "2 2019-08-03     A       507\n",
       "3 2019-08-04     A       717\n",
       "4 2019-08-05     A       756"
      ]
     },
     "execution_count": 26,
     "metadata": {},
     "output_type": "execute_result"
    }
   ],
   "source": [
    "visitors.head()"
   ]
  },
  {
   "cell_type": "markdown",
   "id": "2ac32e13",
   "metadata": {},
   "source": [
    "### Кумулятивная выручка по группам"
   ]
  },
  {
   "cell_type": "markdown",
   "id": "62745288",
   "metadata": {},
   "source": [
    "Построим график кумулятивной выручки по группам."
   ]
  },
  {
   "cell_type": "code",
   "execution_count": 27,
   "id": "62705b0c",
   "metadata": {
    "scrolled": false
   },
   "outputs": [
    {
     "data": {
      "image/png": "[encoded data removed]",
      "text/plain": [
       "<Figure size 1200x600 with 1 Axes>"
      ]
     },
     "metadata": {},
     "output_type": "display_data"
    }
   ],
   "source": [
    "# создадим датафрейм datesGroups с уникальными парами значений 'date' и 'group' таблицы orders\n",
    "# избавимся от дубликатов методом drop_duplicates()\n",
    "datesGroups = orders[['date', 'group']].drop_duplicates()\n",
    "\n",
    "# соберём агрегированные кумулятивные по дням данные о заказах \n",
    "ordersAggregated = datesGroups.apply(\n",
    "    lambda x: orders[\n",
    "        np.logical_and(\n",
    "            orders['date'] <= x['date'], orders['group'] == x['group']\n",
    "        )\n",
    "    ].agg(\n",
    "        {\n",
    "            'date': 'max',\n",
    "            'group': 'max',\n",
    "            'transaction_id': 'nunique',\n",
    "            'visitor_id': 'nunique',\n",
    "            'revenue': 'sum',\n",
    "        }\n",
    "    ),\n",
    "    axis=1\n",
    ").sort_values(by=['date', 'group'])\n",
    "\n",
    "# соберём агрегированные кумулятивные по дням данные о посетителях\n",
    "visitorsAggregated = datesGroups.apply(\n",
    "    lambda x: visitors[\n",
    "        np.logical_and(\n",
    "            visitors['date'] <= x['date'], visitors['group'] == x['group']\n",
    "        )\n",
    "    ].agg({'date': 'max', 'group': 'max', 'visitors': 'sum'}),\n",
    "    axis=1\n",
    ").sort_values(by=['date', 'group'])\n",
    "\n",
    "# объединим обе таблицы в одну с понятными названиями столбцов\n",
    "cumulativeData = ordersAggregated.merge(\n",
    "    visitorsAggregated, left_on=['date', 'group'], right_on=['date', 'group']\n",
    ")\n",
    "cumulativeData.columns = [\n",
    "    'date',\n",
    "    'group',\n",
    "    'orders',\n",
    "    'buyers',\n",
    "    'revenue',\n",
    "    'visitors'\n",
    "]\n",
    "\n",
    "# датафрейм с кумулятивным количеством заказов и кумулятивной выручкой по дням в группе А\n",
    "cumulativeRevenueA = cumulativeData[cumulativeData['group']=='A'][['date','revenue', 'orders']]\n",
    "\n",
    "# датафрейм с кумулятивным количеством заказов и кумулятивной выручкой по дням в группе B\n",
    "cumulativeRevenueB = cumulativeData[cumulativeData['group']=='B'][['date','revenue', 'orders']]\n",
    "\n",
    "plt.figure(figsize=(12, 6))\n",
    "# график выручки группы А\n",
    "plt.plot(cumulativeRevenueA['date'], cumulativeRevenueA['revenue'], label='A')\n",
    "\n",
    "# график выручки группы B\n",
    "plt.plot(cumulativeRevenueB['date'], cumulativeRevenueB['revenue'], label='B')\n",
    "plt.title('Кумулятивная выручка по группам')\n",
    "plt.xlabel('Дата')\n",
    "plt.ylabel('Сумма, рубли')\n",
    "plt.legend();"
   ]
  },
  {
   "cell_type": "markdown",
   "id": "7cf93fd3",
   "metadata": {},
   "source": [
    "**Вывод:**\n",
    "Кумулятивная выручка группы A плавно растёт на протяжении всего теста. Кумулятивная выручка группы B явно лидирует с 13 августа. 19 августа произошёл резкий рост - скорее всего в этот день были крупные заказы в группе B, далее идёт плавный рост."
   ]
  },
  {
   "cell_type": "markdown",
   "id": "08602d8b",
   "metadata": {},
   "source": [
    "### Кумулятивный средний чек по группам"
   ]
  },
  {
   "cell_type": "markdown",
   "id": "195aaebb",
   "metadata": {},
   "source": [
    "Построим график кумулятивного среднего чека по группам."
   ]
  },
  {
   "cell_type": "code",
   "execution_count": 28,
   "id": "915ed51e",
   "metadata": {
    "scrolled": false
   },
   "outputs": [
    {
     "data": {
      "image/png": "[encoded data removed]",
      "text/plain": [
       "<Figure size 1200x600 with 1 Axes>"
      ]
     },
     "metadata": {},
     "output_type": "display_data"
    }
   ],
   "source": [
    "# средний чек = кумулятивная выручка / кумулятивное число заказов\n",
    "plt.figure(figsize=(12, 6))\n",
    "plt.plot(cumulativeRevenueA['date'], cumulativeRevenueA['revenue']/cumulativeRevenueA['orders'], label='A')\n",
    "plt.plot(cumulativeRevenueB['date'], cumulativeRevenueB['revenue']/cumulativeRevenueB['orders'], label='B')\n",
    "plt.title('Кумулятивный средний чек по группам')\n",
    "plt.xlabel('Дата')\n",
    "plt.ylabel('Сумма, рубли')\n",
    "plt.legend();"
   ]
  },
  {
   "cell_type": "markdown",
   "id": "08ab815c",
   "metadata": {},
   "source": [
    "**Вывод:**\n",
    "Кумулятивный средний чек групп колеблется. В группе A после 13 августа размер среднего чека выровнялся. Виден явный всплеск 19 августа в группе B, после которого средний чек постепенно снижается. Имеется влияние аномальных значений."
   ]
  },
  {
   "cell_type": "markdown",
   "id": "6afa346a",
   "metadata": {},
   "source": [
    "### Относительное различие кумулятивного среднего чека"
   ]
  },
  {
   "cell_type": "markdown",
   "id": "cbe7ecce",
   "metadata": {},
   "source": [
    "Построим график относительного изменения кумулятивного среднего чека группы B к группе A."
   ]
  },
  {
   "cell_type": "code",
   "execution_count": 29,
   "id": "acbb234a",
   "metadata": {
    "scrolled": false
   },
   "outputs": [
    {
     "data": {
      "image/png": "[encoded data removed]",
      "text/plain": [
       "<Figure size 1200x600 with 1 Axes>"
      ]
     },
     "metadata": {},
     "output_type": "display_data"
    }
   ],
   "source": [
    "# собираем данные в одном датафрейме\n",
    "mergedCumulativeRevenue = cumulativeRevenueA.merge(\n",
    "    cumulativeRevenueB, \n",
    "    left_on='date', \n",
    "    right_on='date', \n",
    "    how='left',\n",
    "    suffixes=['A', 'B']\n",
    ")\n",
    "\n",
    "# cтроим отношение средних чеков\n",
    "plt.figure(figsize=(12, 6))\n",
    "plt.plot(\n",
    "    mergedCumulativeRevenue['date'], \n",
    "    (mergedCumulativeRevenue['revenueB']/mergedCumulativeRevenue['ordersB'])/\n",
    "    (mergedCumulativeRevenue['revenueA']/mergedCumulativeRevenue['ordersA'])-1\n",
    ")\n",
    "\n",
    "# добавляем горизонтальную ось y = 0\n",
    "plt.axhline(y=0, color='black', linestyle='--')\n",
    "plt.title('Относительное изменение кумулятивного среднего чека группы B к группе A')\n",
    "plt.xlabel('Дата')\n",
    "plt.ylabel('Изменение, доли');"
   ]
  },
  {
   "cell_type": "markdown",
   "id": "e8d31ed4",
   "metadata": {},
   "source": [
    "**Вывод:**\n",
    "В некоторые дни график относительного различия кумулятивного чека резко скачет - в эти дни явно были совершены аномальные заказы в группах."
   ]
  },
  {
   "cell_type": "markdown",
   "id": "5637afa2",
   "metadata": {},
   "source": [
    "###  Кумулятивное среднее количество заказов на посетителя по группам"
   ]
  },
  {
   "cell_type": "markdown",
   "id": "28d0de37",
   "metadata": {},
   "source": [
    "Построим график кумулятивного среднего количества заказов на посетителя по группам."
   ]
  },
  {
   "cell_type": "code",
   "execution_count": 30,
   "id": "99c584d2",
   "metadata": {},
   "outputs": [],
   "source": [
    "# найдём минимальную и максимальную дату для масштабирования графика\n",
    "first_date = cumulativeData['date'].min()\n",
    "last_date = cumulativeData['date'].max()"
   ]
  },
  {
   "cell_type": "code",
   "execution_count": 31,
   "id": "cac9f5b2",
   "metadata": {
    "scrolled": false
   },
   "outputs": [
    {
     "data": {
      "image/png": "[encoded data removed]",
      "text/plain": [
       "<Figure size 1200x600 with 1 Axes>"
      ]
     },
     "metadata": {},
     "output_type": "display_data"
    }
   ],
   "source": [
    "# считаем кумулятивное среднее количество заказов на посетителя по группам = число заказов / число посетителей\n",
    "cumulativeData['orders_mean'] = cumulativeData['orders']/cumulativeData['visitors']\n",
    "\n",
    "# выделяем данные по группе A\n",
    "cumulativeDataA = cumulativeData[cumulativeData['group']=='A']\n",
    "\n",
    "# выделяем данные по группе B\n",
    "cumulativeDataB = cumulativeData[cumulativeData['group']=='B']\n",
    "\n",
    "# строим графики\n",
    "plt.figure(figsize=(12, 6))\n",
    "plt.plot(cumulativeDataA['date'], cumulativeDataA['orders_mean'], label='A')\n",
    "plt.plot(cumulativeDataB['date'], cumulativeDataB['orders_mean'], label='B')\n",
    "plt.legend()\n",
    "plt.title('Кумулятивное среднее количество заказов на посетителя по группам')\n",
    "plt.xlabel('Дата')\n",
    "plt.ylabel('Среднее количество заказов на посетителя, доли')\n",
    "\n",
    "# задаем масштаб осей\n",
    "plt.axis([first_date, last_date, 0, 0.04]);"
   ]
  },
  {
   "cell_type": "markdown",
   "id": "628a7e30",
   "metadata": {},
   "source": [
    "**Вывод:**\n",
    "В начале теста наблюдается колебание средних количеств заказов на посетителя обеих групп. К конце теста средние выровнялись и группа B вырвалась вперёд."
   ]
  },
  {
   "cell_type": "markdown",
   "id": "f8c35193",
   "metadata": {},
   "source": [
    "### Относительное различие кумулятивного среднего количества заказов на посетителя"
   ]
  },
  {
   "cell_type": "markdown",
   "id": "334cadc2",
   "metadata": {},
   "source": [
    "Построим график относительного изменения кумулятивного среднего количества заказов на посетителя группы B к группе A."
   ]
  },
  {
   "cell_type": "code",
   "execution_count": 32,
   "id": "b8c624b0",
   "metadata": {
    "scrolled": false
   },
   "outputs": [
    {
     "data": {
      "image/png": "[encoded data removed]",
      "text/plain": [
       "<Figure size 1200x600 with 1 Axes>"
      ]
     },
     "metadata": {},
     "output_type": "display_data"
    }
   ],
   "source": [
    "# собираем данные в одном датафрейме\n",
    "mergedCumulativeOrdersMean = cumulativeDataA[['date','orders_mean']].merge(\n",
    "    cumulativeDataB[['date','orders_mean']], left_on='date', right_on='date', how='left', suffixes=['A', 'B']\n",
    ")\n",
    "\n",
    "# cтроим отношение кумулятивных средних количеств заказов на посетителя группы B к группе A\n",
    "plt.figure(figsize=(12, 6))\n",
    "plt.plot(\n",
    "    mergedCumulativeOrdersMean['date'], \n",
    "    mergedCumulativeOrdersMean['orders_meanB']/mergedCumulativeOrdersMean['orders_meanA']-1\n",
    ")\n",
    "plt.title('Относительное изменение кумулятивного среднего количества заказов на посетителя группы B к группе A')\n",
    "plt.xlabel('Дата')\n",
    "plt.ylabel('Относительное изменение, доли')\n",
    "# добавляем горизонтальные оси y = 0 и y = 0.14\n",
    "plt.axhline(y=0, color='black', linestyle='--')\n",
    "plt.axhline(y=0.14, color='grey', linestyle='--')\n",
    "# задаем масштаб осей\n",
    "plt.axis([first_date, last_date, -0.5, 0.5]);"
   ]
  },
  {
   "cell_type": "markdown",
   "id": "cc4c4c44",
   "metadata": {},
   "source": [
    "**Вывод:**\n",
    "Почти с начала проведения теста кумулятивное среднее количество заказов на посетителя группы B вырвалось вперёд и в середине относительный прирост достигал 20%. К концу теста прирост выровнялся на уровне примерно 14% и имеет тенденцию к росту."
   ]
  },
  {
   "cell_type": "markdown",
   "id": "87dfc429",
   "metadata": {},
   "source": [
    "### Точечный график количества заказов по пользователям"
   ]
  },
  {
   "cell_type": "markdown",
   "id": "97a883c7",
   "metadata": {},
   "source": [
    "Построим точечный график количества заказов по пользователям."
   ]
  },
  {
   "cell_type": "code",
   "execution_count": 33,
   "id": "b6abcfdf",
   "metadata": {},
   "outputs": [
    {
     "data": {
      "text/html": [
       "<div>\n",
       "<style scoped>\n",
       "    .dataframe tbody tr th:only-of-type {\n",
       "        vertical-align: middle;\n",
       "    }\n",
       "\n",
       "    .dataframe tbody tr th {\n",
       "        vertical-align: top;\n",
       "    }\n",
       "\n",
       "    .dataframe thead th {\n",
       "        text-align: right;\n",
       "    }\n",
       "</style>\n",
       "<table border=\"1\" class=\"dataframe\">\n",
       "  <thead>\n",
       "    <tr style=\"text-align: right;\">\n",
       "      <th></th>\n",
       "      <th>visitor_id</th>\n",
       "      <th>orders</th>\n",
       "    </tr>\n",
       "  </thead>\n",
       "  <tbody>\n",
       "    <tr>\n",
       "      <th>1023</th>\n",
       "      <td>4256040402</td>\n",
       "      <td>11</td>\n",
       "    </tr>\n",
       "    <tr>\n",
       "      <th>591</th>\n",
       "      <td>2458001652</td>\n",
       "      <td>11</td>\n",
       "    </tr>\n",
       "    <tr>\n",
       "      <th>569</th>\n",
       "      <td>2378935119</td>\n",
       "      <td>9</td>\n",
       "    </tr>\n",
       "    <tr>\n",
       "      <th>487</th>\n",
       "      <td>2038680547</td>\n",
       "      <td>8</td>\n",
       "    </tr>\n",
       "    <tr>\n",
       "      <th>44</th>\n",
       "      <td>199603092</td>\n",
       "      <td>5</td>\n",
       "    </tr>\n",
       "    <tr>\n",
       "      <th>744</th>\n",
       "      <td>3062433592</td>\n",
       "      <td>5</td>\n",
       "    </tr>\n",
       "    <tr>\n",
       "      <th>55</th>\n",
       "      <td>237748145</td>\n",
       "      <td>5</td>\n",
       "    </tr>\n",
       "    <tr>\n",
       "      <th>917</th>\n",
       "      <td>3803269165</td>\n",
       "      <td>5</td>\n",
       "    </tr>\n",
       "    <tr>\n",
       "      <th>299</th>\n",
       "      <td>1230306981</td>\n",
       "      <td>5</td>\n",
       "    </tr>\n",
       "    <tr>\n",
       "      <th>897</th>\n",
       "      <td>3717692402</td>\n",
       "      <td>5</td>\n",
       "    </tr>\n",
       "  </tbody>\n",
       "</table>\n",
       "</div>"
      ],
      "text/plain": [
       "      visitor_id  orders\n",
       "1023  4256040402      11\n",
       "591   2458001652      11\n",
       "569   2378935119       9\n",
       "487   2038680547       8\n",
       "44     199603092       5\n",
       "744   3062433592       5\n",
       "55     237748145       5\n",
       "917   3803269165       5\n",
       "299   1230306981       5\n",
       "897   3717692402       5"
      ]
     },
     "execution_count": 33,
     "metadata": {},
     "output_type": "execute_result"
    }
   ],
   "source": [
    "# находим число заказов по пользователям\n",
    "ordersByUsers = (\n",
    "    orders.groupby('visitor_id', as_index=False)\n",
    "    .agg({'transaction_id': 'nunique'})\n",
    ")\n",
    "ordersByUsers.columns = ['visitor_id', 'orders']\n",
    "\n",
    "ordersByUsers.sort_values(by='orders', ascending=False).head(10)"
   ]
  },
  {
   "cell_type": "code",
   "execution_count": 34,
   "id": "dd5c92ed",
   "metadata": {},
   "outputs": [
    {
     "data": {
      "image/png": "[encoded data removed]",
      "text/plain": [
       "<Figure size 640x480 with 1 Axes>"
      ]
     },
     "metadata": {},
     "output_type": "display_data"
    }
   ],
   "source": [
    "# серия из чисел от 0 до количества наблюдений в ordersByUsers\n",
    "x_values = pd.Series(range(0, len(ordersByUsers)))\n",
    "# строим точечный график количества заказов по пользователям\n",
    "plt.scatter(x_values, ordersByUsers['orders'])\n",
    "plt.title('Количество заказов по пользователям')\n",
    "plt.xlabel('Порядковый номер пользователя')\n",
    "plt.ylabel('Количество заказов');"
   ]
  },
  {
   "cell_type": "markdown",
   "id": "7f8f6434",
   "metadata": {},
   "source": [
    "**Вывод:**\n",
    "Наибольшее количество заказов на пользователя - 11 заказов.\n",
    "\n",
    "Присутствуют аномальные значения - больше двух заказов на пользователя выглядят выбросами на графике."
   ]
  },
  {
   "cell_type": "markdown",
   "id": "d454381a",
   "metadata": {},
   "source": [
    "### 95-й и 99-й перцентили количества заказов на пользователя"
   ]
  },
  {
   "cell_type": "markdown",
   "id": "c0078cf5",
   "metadata": {},
   "source": [
    "Посчитаем 95-й и 99-й перцентили количества заказов на пользователя."
   ]
  },
  {
   "cell_type": "code",
   "execution_count": 35,
   "id": "2777e04f",
   "metadata": {},
   "outputs": [
    {
     "data": {
      "text/plain": [
       "array([2., 4.])"
      ]
     },
     "execution_count": 35,
     "metadata": {},
     "output_type": "execute_result"
    }
   ],
   "source": [
    "np.percentile(ordersByUsers['orders'], [95, 99])"
   ]
  },
  {
   "cell_type": "markdown",
   "id": "16536799",
   "metadata": {},
   "source": [
    "Не более 5% пользователей совершили больше двух заказов, не более 1% - больше четырёх заказов.\n",
    "\n",
    "Обозначим 4 заказа на пользователя как границу определения аномальных пользователей."
   ]
  },
  {
   "cell_type": "code",
   "execution_count": 36,
   "id": "cb9f1f7e",
   "metadata": {},
   "outputs": [],
   "source": [
    "ordersByUsers_limit = np.percentile(ordersByUsers['orders'], [95, 99])[1]"
   ]
  },
  {
   "cell_type": "markdown",
   "id": "f1b7d335",
   "metadata": {},
   "source": [
    "### Точечный график стоимостей заказов"
   ]
  },
  {
   "cell_type": "markdown",
   "id": "4dfd1ef1",
   "metadata": {},
   "source": [
    "Построим точечный график стоимостей заказов."
   ]
  },
  {
   "cell_type": "code",
   "execution_count": 37,
   "id": "0ab8f91a",
   "metadata": {},
   "outputs": [
    {
     "data": {
      "text/html": [
       "<div>\n",
       "<style scoped>\n",
       "    .dataframe tbody tr th:only-of-type {\n",
       "        vertical-align: middle;\n",
       "    }\n",
       "\n",
       "    .dataframe tbody tr th {\n",
       "        vertical-align: top;\n",
       "    }\n",
       "\n",
       "    .dataframe thead th {\n",
       "        text-align: right;\n",
       "    }\n",
       "</style>\n",
       "<table border=\"1\" class=\"dataframe\">\n",
       "  <thead>\n",
       "    <tr style=\"text-align: right;\">\n",
       "      <th></th>\n",
       "      <th>transaction_id</th>\n",
       "      <th>visitor_id</th>\n",
       "      <th>date</th>\n",
       "      <th>revenue</th>\n",
       "      <th>group</th>\n",
       "    </tr>\n",
       "  </thead>\n",
       "  <tbody>\n",
       "    <tr>\n",
       "      <th>425</th>\n",
       "      <td>590470918</td>\n",
       "      <td>1920142716</td>\n",
       "      <td>2019-08-19</td>\n",
       "      <td>1294500</td>\n",
       "      <td>B</td>\n",
       "    </tr>\n",
       "    <tr>\n",
       "      <th>1196</th>\n",
       "      <td>3936777065</td>\n",
       "      <td>2108080724</td>\n",
       "      <td>2019-08-15</td>\n",
       "      <td>202740</td>\n",
       "      <td>B</td>\n",
       "    </tr>\n",
       "    <tr>\n",
       "      <th>858</th>\n",
       "      <td>192721366</td>\n",
       "      <td>1316129916</td>\n",
       "      <td>2019-08-27</td>\n",
       "      <td>93940</td>\n",
       "      <td>A</td>\n",
       "    </tr>\n",
       "    <tr>\n",
       "      <th>1136</th>\n",
       "      <td>666610489</td>\n",
       "      <td>1307669133</td>\n",
       "      <td>2019-08-13</td>\n",
       "      <td>92550</td>\n",
       "      <td>A</td>\n",
       "    </tr>\n",
       "    <tr>\n",
       "      <th>744</th>\n",
       "      <td>3668308183</td>\n",
       "      <td>888512513</td>\n",
       "      <td>2019-08-27</td>\n",
       "      <td>86620</td>\n",
       "      <td>B</td>\n",
       "    </tr>\n",
       "    <tr>\n",
       "      <th>682</th>\n",
       "      <td>1216533772</td>\n",
       "      <td>4266935830</td>\n",
       "      <td>2019-08-29</td>\n",
       "      <td>78990</td>\n",
       "      <td>B</td>\n",
       "    </tr>\n",
       "    <tr>\n",
       "      <th>662</th>\n",
       "      <td>1811671147</td>\n",
       "      <td>4266935830</td>\n",
       "      <td>2019-08-29</td>\n",
       "      <td>78990</td>\n",
       "      <td>A</td>\n",
       "    </tr>\n",
       "    <tr>\n",
       "      <th>743</th>\n",
       "      <td>3603576309</td>\n",
       "      <td>4133034833</td>\n",
       "      <td>2019-08-09</td>\n",
       "      <td>67990</td>\n",
       "      <td>A</td>\n",
       "    </tr>\n",
       "    <tr>\n",
       "      <th>1103</th>\n",
       "      <td>1348774318</td>\n",
       "      <td>1164614297</td>\n",
       "      <td>2019-08-12</td>\n",
       "      <td>66350</td>\n",
       "      <td>A</td>\n",
       "    </tr>\n",
       "    <tr>\n",
       "      <th>1099</th>\n",
       "      <td>316924019</td>\n",
       "      <td>148427295</td>\n",
       "      <td>2019-08-12</td>\n",
       "      <td>65710</td>\n",
       "      <td>A</td>\n",
       "    </tr>\n",
       "  </tbody>\n",
       "</table>\n",
       "</div>"
      ],
      "text/plain": [
       "      transaction_id  visitor_id       date  revenue group\n",
       "425        590470918  1920142716 2019-08-19  1294500     B\n",
       "1196      3936777065  2108080724 2019-08-15   202740     B\n",
       "858        192721366  1316129916 2019-08-27    93940     A\n",
       "1136       666610489  1307669133 2019-08-13    92550     A\n",
       "744       3668308183   888512513 2019-08-27    86620     B\n",
       "682       1216533772  4266935830 2019-08-29    78990     B\n",
       "662       1811671147  4266935830 2019-08-29    78990     A\n",
       "743       3603576309  4133034833 2019-08-09    67990     A\n",
       "1103      1348774318  1164614297 2019-08-12    66350     A\n",
       "1099       316924019   148427295 2019-08-12    65710     A"
      ]
     },
     "execution_count": 37,
     "metadata": {},
     "output_type": "execute_result"
    }
   ],
   "source": [
    "orders.sort_values(by='revenue', ascending=False).head(10)"
   ]
  },
  {
   "cell_type": "code",
   "execution_count": 38,
   "id": "4fae571b",
   "metadata": {},
   "outputs": [
    {
     "data": {
      "image/png": "[encoded data removed]",
      "text/plain": [
       "<Figure size 640x480 with 1 Axes>"
      ]
     },
     "metadata": {},
     "output_type": "display_data"
    }
   ],
   "source": [
    "# серия из чисел от 0 до количества наблюдений в orders['revenue']\n",
    "x_values = pd.Series(range(0, len(orders['revenue'])))\n",
    "# строим точечный график стоимостей заказов\n",
    "plt.scatter(x_values, orders['revenue'])\n",
    "plt.title('Стоимость заказа')\n",
    "plt.xlabel('Порядковый номер заказа')\n",
    "plt.ylabel('Стоимость, рубли');"
   ]
  },
  {
   "cell_type": "markdown",
   "id": "e383e172",
   "metadata": {},
   "source": [
    "На графике видно 2 выброса - заказы стоимостью 1294500 и 202740 рублей.\n",
    "\n",
    "Срежем эти заказы, чтобы лучше видеть распределение основной части данных."
   ]
  },
  {
   "cell_type": "code",
   "execution_count": 39,
   "id": "8171eb68",
   "metadata": {},
   "outputs": [
    {
     "data": {
      "image/png": "[encoded data removed]",
      "text/plain": [
       "<Figure size 640x480 with 1 Axes>"
      ]
     },
     "metadata": {},
     "output_type": "display_data"
    }
   ],
   "source": [
    "orders_new = orders.query('revenue < 200000')\n",
    "x_values_new = pd.Series(range(0, len(orders_new['revenue'])))\n",
    "plt.scatter(x_values_new, orders_new['revenue'])\n",
    "plt.title('Стоимость заказа')\n",
    "plt.xlabel('Порядковый номер заказа')\n",
    "plt.ylabel('Стоимость, рубли');"
   ]
  },
  {
   "cell_type": "markdown",
   "id": "bd9fb00c",
   "metadata": {},
   "source": [
    "**Вывод:** Основная часть заказов имеет стоимость до 20 тысяч рублей. Присутствуют особо крупные заказы стоимостью выше 40 тысяч."
   ]
  },
  {
   "cell_type": "markdown",
   "id": "959eb00a",
   "metadata": {},
   "source": [
    "### 95-й и 99-й перцентили стоимости заказов"
   ]
  },
  {
   "cell_type": "markdown",
   "id": "5016a7e3",
   "metadata": {},
   "source": [
    "Посчитаем 95-й и 99-й перцентили стоимости заказов."
   ]
  },
  {
   "cell_type": "code",
   "execution_count": 40,
   "id": "d140be51",
   "metadata": {},
   "outputs": [
    {
     "data": {
      "text/plain": [
       "array([28000. , 58233.2])"
      ]
     },
     "execution_count": 40,
     "metadata": {},
     "output_type": "execute_result"
    }
   ],
   "source": [
    "np.percentile(orders['revenue'], [95, 99])"
   ]
  },
  {
   "cell_type": "markdown",
   "id": "a7adeaf2",
   "metadata": {},
   "source": [
    "Не более 5% заказов имеют стоимость выше 28000 рублей, не более 1% - больше 58233.2 рубля.\n",
    "\n",
    "Обозначим стоимость заказа 28000 рублей как границу для определения аномальных заказов."
   ]
  },
  {
   "cell_type": "code",
   "execution_count": 41,
   "id": "8349f2e3",
   "metadata": {},
   "outputs": [],
   "source": [
    "revenue_limit = np.percentile(orders['revenue'], [95, 99])[0]"
   ]
  },
  {
   "cell_type": "markdown",
   "id": "d0b40fe6",
   "metadata": {},
   "source": [
    "### Статистическая значимость различий в среднем количестве заказов на посетителя  между группами по «сырым» данным"
   ]
  },
  {
   "cell_type": "markdown",
   "id": "1615539d",
   "metadata": {},
   "source": [
    "Посчитаем статистическую значимость различий в среднем количестве заказов на посетителя между группами по «сырым» данным.\n",
    "\n",
    "Сформулируем нулевую и альтернативную гипотезы:\n",
    "```\n",
    "H_0: Среднее количество заказов на посетителя в группе B по «сырым» данным = среднее количество заказов на посетителя в группе A по «сырым» данным\n",
    "H_a: Среднее количество заказов на посетителя в группе B по «сырым» данным ≠ среднее количество заказов на посетителя в группе A по «сырым» данным\n",
    "alpha = 0.05\n",
    "```"
   ]
  },
  {
   "cell_type": "code",
   "execution_count": 42,
   "id": "01c4427d",
   "metadata": {},
   "outputs": [
    {
     "data": {
      "text/plain": [
       "'p-value: 0.017'"
      ]
     },
     "metadata": {},
     "output_type": "display_data"
    },
    {
     "data": {
      "text/plain": [
       "'Относительное различие в среднем количестве заказов на посетителя между группами по «сырым» данным: 0.138'"
      ]
     },
     "metadata": {},
     "output_type": "display_data"
    }
   ],
   "source": [
    "# количество посетителей по дням для группы A\n",
    "visitorsADaily = visitors[visitors['group'] == 'A'][['date', 'visitors']]\n",
    "visitorsADaily.columns = ['date', 'visitorsPerDateA']\n",
    "\n",
    "# количество посетителей по дням для группы B\n",
    "visitorsBDaily = visitors[visitors['group'] == 'B'][['date', 'visitors']]\n",
    "visitorsBDaily.columns = ['date', 'visitorsPerDateB']\n",
    "\n",
    "# найдём число заказов для каждого клиента группы A с хотя бы одной покупкой\n",
    "ordersByUsersA = (\n",
    "    orders[orders['group'] == 'A']\n",
    "    .groupby('visitor_id', as_index=False)\n",
    "    .agg({'transaction_id': pd.Series.nunique})\n",
    ")\n",
    "ordersByUsersA.columns = ['visitor_id', 'orders']\n",
    "\n",
    "# найдём число заказов для каждого клиента группы B с хотя бы одной покупкой\n",
    "ordersByUsersB = (\n",
    "    orders[orders['group'] == 'B']\n",
    "    .groupby('visitor_id', as_index=False)\n",
    "    .agg({'transaction_id': pd.Series.nunique})\n",
    ")\n",
    "ordersByUsersB.columns = ['visitor_id', 'orders'] \n",
    "\n",
    "# в переменных sampleA и sampleB для групп A и B пользователям с заказами будет соответствовать число их заказов,\n",
    "# а пользователям без заказов — нули\n",
    "sampleA = pd.concat(\n",
    "    [ordersByUsersA['orders'], \n",
    "    pd.Series(0, index=np.arange(visitorsADaily['visitorsPerDateA'].sum() - len(ordersByUsersA['orders'])),\n",
    "    name='orders')],axis=0\n",
    ")\n",
    "\n",
    "sampleB = pd.concat(\n",
    "    [ordersByUsersB['orders'],\n",
    "    pd.Series(0, index=np.arange(visitorsBDaily['visitorsPerDateB'].sum() - len(ordersByUsersB['orders'])),\n",
    "    name='orders')],axis=0\n",
    ")\n",
    "\n",
    "# посчитаем статистическую значимость различия среднего количества заказов по тесту Манна-Уитни\n",
    "# выведем p-value\n",
    "display('p-value: {0:.3f}'.format(stats.mannwhitneyu(sampleA, sampleB)[1]))\n",
    "# выведем относительное различие в среднем между группами\n",
    "display(\n",
    "    'Относительное различие в среднем количестве заказов на посетителя между группами по «сырым» данным: {0:.3f}'\n",
    "    .format(sampleB.mean() / sampleA.mean() - 1)\n",
    ")"
   ]
  },
  {
   "cell_type": "markdown",
   "id": "7ad5fda6",
   "metadata": {},
   "source": [
    "**Вывод:**\n",
    "\n",
    "P-value меньше 0.05, поэтому нулевую гипотезу о том, что статистически значимых различий в среднем числе заказов между группами нет, отвергаем.\n",
    "Относительный прирост среднего числа заказов на посетителя группы B к группе A по сырым данным равен 13.8%."
   ]
  },
  {
   "cell_type": "markdown",
   "id": "32318057",
   "metadata": {},
   "source": [
    "### Статистическая значимость различий в среднем чеке заказа между группами по «сырым» данным"
   ]
  },
  {
   "cell_type": "markdown",
   "id": "187d82dd",
   "metadata": {},
   "source": [
    "Посчитаем статистическую значимость различий в среднем чеке заказа между группами по «сырым» данным.\n",
    "\n",
    "Сформулируем нулевую и альтернативную гипотезы:\n",
    "```\n",
    "H_0: Средний чек заказа в группе B по «сырым» данным = средний чек заказа в группе A по «сырым» данным\n",
    "H_a: Средний чек заказа в группе B по «сырым» данным ≠ средний чек заказа в группе A по «сырым» данным\n",
    "alpha = 0.05\n",
    "```"
   ]
  },
  {
   "cell_type": "code",
   "execution_count": 43,
   "id": "abdd6851",
   "metadata": {},
   "outputs": [
    {
     "data": {
      "text/plain": [
       "'p-value: 0.729'"
      ]
     },
     "metadata": {},
     "output_type": "display_data"
    },
    {
     "data": {
      "text/plain": [
       "'Относительное различие в среднем чеке заказа на посетителя между группами по «сырым» данным: 0.259'"
      ]
     },
     "metadata": {},
     "output_type": "display_data"
    }
   ],
   "source": [
    "display(\n",
    "    'p-value: {0:.3f}'.format(stats.mannwhitneyu(orders[orders['group']=='A']['revenue'], \n",
    "     orders[orders['group']=='B']['revenue'])[1])\n",
    ")\n",
    "\n",
    "display(\n",
    "    'Относительное различие в среднем чеке заказа на посетителя между группами по «сырым» данным: {0:.3f}'\n",
    "    .format(orders[orders['group']=='B']['revenue'].mean() / orders[orders['group']=='A']['revenue'].mean() - 1)\n",
    ")"
   ]
  },
  {
   "cell_type": "markdown",
   "id": "ad4fd7eb",
   "metadata": {},
   "source": [
    "**Вывод:**\n",
    "\n",
    "P-value значительно больше 0.05 - не отвергаем гипотезу о равенстве средних чеков групп. Но относительный прирост среднего чека группы B к группе A по сырым данным равен 25.9% - такая существенная разница при отсутствии статистической значимости указывает на сильное влияние аномальных данных, ниже рассмотрим метрики без них."
   ]
  },
  {
   "cell_type": "markdown",
   "id": "3e661452",
   "metadata": {},
   "source": [
    "### Статистическая значимость различий в среднем количестве заказов на посетителя между группами по «очищенным» данным"
   ]
  },
  {
   "cell_type": "markdown",
   "id": "549280ad",
   "metadata": {},
   "source": [
    "Посчитаем статистическую значимость различий в среднем количестве заказов на посетителя между группами по «очищенным» данным.\n",
    "\n",
    "Для начала выделим пользователей с количеством заказов больше 4 (99-й перцентиль) и стоимостью заказов выше 28000 рублей (95-й перцентиль)."
   ]
  },
  {
   "cell_type": "code",
   "execution_count": 44,
   "id": "729f681c",
   "metadata": {},
   "outputs": [
    {
     "data": {
      "text/plain": [
       "1099    148427295\n",
       "928     204675465\n",
       "684     358944393\n",
       "648     382846391\n",
       "1189    393266494\n",
       "Name: visitor_id, dtype: int64"
      ]
     },
     "execution_count": 44,
     "metadata": {},
     "output_type": "execute_result"
    }
   ],
   "source": [
    "# выделяем пользователей с большим количеством заказов\n",
    "usersWithManyOrders = pd.concat(\n",
    "    [\n",
    "        ordersByUsersA[ordersByUsersA['orders'] > ordersByUsers_limit]['visitor_id'],\n",
    "        ordersByUsersB[ordersByUsersB['orders'] > ordersByUsers_limit]['visitor_id']\n",
    "    ],\n",
    "    axis=0\n",
    ")\n",
    "\n",
    "# выделяем пользователей с дорогими заказами\n",
    "usersWithExpensiveOrders = orders[orders['revenue'] > revenue_limit]['visitor_id']\n",
    "\n",
    "# объединяем аномальных пользователей, удаляем дубликаты и сортируем по возрастанию\n",
    "abnormalUsers = (\n",
    "    pd.concat([usersWithManyOrders, usersWithExpensiveOrders], axis=0)\n",
    "    .drop_duplicates()\n",
    "    .sort_values()\n",
    ")\n",
    "abnormalUsers.head(5)"
   ]
  },
  {
   "cell_type": "code",
   "execution_count": 45,
   "id": "301505e2",
   "metadata": {},
   "outputs": [
    {
     "data": {
      "text/plain": [
       "59"
      ]
     },
     "execution_count": 45,
     "metadata": {},
     "output_type": "execute_result"
    }
   ],
   "source": [
    "# количество пользователей с аномальным количеством заказов или аномальной суммой заказа\n",
    "abnormalUsers.shape[0]"
   ]
  },
  {
   "cell_type": "code",
   "execution_count": 46,
   "id": "761db1a9",
   "metadata": {
    "scrolled": true
   },
   "outputs": [
    {
     "data": {
      "text/plain": [
       "5.722599418040737"
      ]
     },
     "execution_count": 46,
     "metadata": {},
     "output_type": "execute_result"
    }
   ],
   "source": [
    "# доля аномальных пользователей в сырых данных\n",
    "abnormalUsers.shape[0] / orders['visitor_id'].nunique() * 100"
   ]
  },
  {
   "cell_type": "markdown",
   "id": "772a3753",
   "metadata": {},
   "source": [
    "Аномальные пользователи составляют 5.7% от общего числа. Это допустимое значение, поэтому смело можно исключить их."
   ]
  },
  {
   "cell_type": "code",
   "execution_count": 47,
   "id": "1610a9a5",
   "metadata": {
    "scrolled": true
   },
   "outputs": [],
   "source": [
    "# исключаем аномальных пользователей группы A из сырых данных о количестве заказов на пользователя\n",
    "sampleAFiltered = pd.concat(\n",
    "    [\n",
    "        ordersByUsersA[\n",
    "            np.logical_not(ordersByUsersA['visitor_id'].isin(abnormalUsers))\n",
    "        ]['orders'],\n",
    "        pd.Series(\n",
    "            0,\n",
    "            index=np.arange(\n",
    "                visitorsADaily['visitorsPerDateA'].sum() - len(ordersByUsersA['orders'])\n",
    "            ),\n",
    "            name='orders'\n",
    "        )\n",
    "    ],\n",
    "    axis=0\n",
    ")\n",
    "\n",
    "# исключаем аномальных пользователей группы B из сырых данных о количестве заказов на пользователя\n",
    "sampleBFiltered = pd.concat(\n",
    "    [\n",
    "        ordersByUsersB[\n",
    "            np.logical_not(ordersByUsersB['visitor_id'].isin(abnormalUsers))\n",
    "        ]['orders'],\n",
    "        pd.Series(\n",
    "            0,\n",
    "            index=np.arange(\n",
    "                visitorsBDaily['visitorsPerDateB'].sum() - len(ordersByUsersB['orders'])\n",
    "            ),\n",
    "            name='orders'\n",
    "        )\n",
    "    ],\n",
    "    axis=0\n",
    ")"
   ]
  },
  {
   "cell_type": "markdown",
   "id": "25459f05",
   "metadata": {},
   "source": [
    "Сформулируем нулевую и альтернативную гипотезы:\n",
    "\n",
    "```\n",
    "H_0: Среднее количество заказов на посетителя в группе B по «очищенным» данным = среднее количество заказов на посетителя в группе A по «очищенным» данным\n",
    "H_a: Среднее количество заказов на посетителя в группе B по «очищенным» данным ≠ среднее количество заказов на посетителя в группе A по «очищенным» данным\n",
    "alpha = 0.05\n",
    "```"
   ]
  },
  {
   "cell_type": "code",
   "execution_count": 48,
   "id": "0d3b96a0",
   "metadata": {},
   "outputs": [
    {
     "data": {
      "text/plain": [
       "'p-value: 0.018'"
      ]
     },
     "metadata": {},
     "output_type": "display_data"
    },
    {
     "data": {
      "text/plain": [
       "'Относительный прирост среднего количества заказов на посетителя между очищенными группами: 0.145'"
      ]
     },
     "metadata": {},
     "output_type": "display_data"
    }
   ],
   "source": [
    "display('p-value: {0:.3f}'.format(stats.mannwhitneyu(sampleAFiltered, sampleBFiltered)[1]))\n",
    "display(\n",
    "    'Относительный прирост среднего количества заказов на посетителя между очищенными группами: {0:.3f}'\n",
    "    .format(sampleBFiltered.mean()/sampleAFiltered.mean() - 1)\n",
    ")"
   ]
  },
  {
   "cell_type": "markdown",
   "id": "c06cae8e",
   "metadata": {},
   "source": [
    "**Вывод:**\n",
    "\n",
    "P-value ниже 0.05, поэтому нулевую гипотезу о том, что статистически значимых различий в среднем числе заказов между группами нет, отвергаем. Относительный прирост среднего числа заказов на посетителя группы B к группе A после очистки данных от аномальных значений увеличился на 0.7 процентных пунктов и составил 14.5%."
   ]
  },
  {
   "cell_type": "markdown",
   "id": "4d51c88a",
   "metadata": {},
   "source": [
    "### Статистическая значимость различий в среднем чеке заказа между группами по «очищенным» данным"
   ]
  },
  {
   "cell_type": "markdown",
   "id": "6cfe2531",
   "metadata": {},
   "source": [
    "Посчитаем статистическую значимость различий в среднем чеке заказа между группами по «очищенным» данным.\n",
    "\n",
    "Сформулируем нулевую и альтернативную гипотезы:\n",
    "```\n",
    "H_0: Средний чек заказа в группе B по «очищенным» данным = средний чек заказа в группе A по «очищенным» данным\n",
    "H_a: Средний чек заказа в группе B по «очищенным» данным ≠ средний чек заказа в группе A по «очищенным» данным\n",
    "alpha = 0.05\n",
    "```"
   ]
  },
  {
   "cell_type": "code",
   "execution_count": 49,
   "id": "cd5a7100",
   "metadata": {},
   "outputs": [
    {
     "data": {
      "text/plain": [
       "'p-value: 0.961'"
      ]
     },
     "metadata": {},
     "output_type": "display_data"
    },
    {
     "data": {
      "text/plain": [
       "'Относительный прирост среднего чека очищенной группы B: -0.014'"
      ]
     },
     "metadata": {},
     "output_type": "display_data"
    }
   ],
   "source": [
    "# отфильтруем данные по заказам для групп A и B от аномальных пользователей\n",
    "ordersAFiltered = orders[\n",
    "    np.logical_and(\n",
    "        orders['group'] == 'A',\n",
    "        np.logical_not(orders['visitor_id'].isin(abnormalUsers))\n",
    "    )\n",
    "]\n",
    "\n",
    "ordersBFiltered = orders[\n",
    "    np.logical_and(\n",
    "        orders['group'] == 'B',\n",
    "        np.logical_not(orders['visitor_id'].isin(abnormalUsers))\n",
    "    )\n",
    "]\n",
    "\n",
    "display(\n",
    "    'p-value: {0:.3f}'.format(\n",
    "        stats.mannwhitneyu(\n",
    "            ordersAFiltered['revenue'],\n",
    "            ordersBFiltered['revenue']\n",
    "        )[1]\n",
    "    )\n",
    ")\n",
    "\n",
    "display(\n",
    "    'Относительный прирост среднего чека очищенной группы B: {0:.3f}'.format(\n",
    "        ordersBFiltered['revenue'].mean() / ordersAFiltered['revenue'].mean() - 1\n",
    "    )\n",
    ")"
   ]
  },
  {
   "cell_type": "markdown",
   "id": "1e6a2b29",
   "metadata": {},
   "source": [
    "**Вывод:**\n",
    "P-value значительно больше 0.05 - не отвергаем гипотезу о равенстве средних чеков групп. Относительный прирост среднего чека группы B к группе A составляет -1.4%. После устранения аномалий явно видно, что сильного изменения среднего чека не наблюдается."
   ]
  },
  {
   "cell_type": "markdown",
   "id": "986d25b9",
   "metadata": {},
   "source": [
    "## Вывод"
   ]
  },
  {
   "cell_type": "markdown",
   "id": "be8f4a18",
   "metadata": {},
   "source": [
    "Результаты A/B-теста:\n",
    "\n",
    "- График различия в среднем количестве заказов на посетителя между группами сообщает, что результаты группы B лучше группы A: прирост выровнялся на уровне примерно 14% и имеет тенденцию к росту.\n",
    "- График различия среднего чека сильно скачет, что говорит об аномалиях.\n",
    "- По сырым данным средний чек группы B выше группы A на 25.9%, но после удаления аномалий средние чеки групп сравнялись.\n",
    "- Есть статистически значимое различие в среднем количестве заказов на посетителя между группами как по сырым данным (13.8%), так и после фильтрации аномалий (14.5%).\n",
    "\n",
    "Исходя из результатов принимаем решение `остановить тест и зафиксировать победу группы B` - среднее количество заказов на посетителя увеличилось на 14.5% при том же среднем чеке, что может привести к увеличению выручки интернет-магазина."
   ]
  }
 ],
 "metadata": {
  "ExecuteTimeLog": [
   {
    "duration": 1159,
    "start_time": "2023-01-26T14:55:16.215Z"
   },
   {
    "duration": 272,
    "start_time": "2023-01-26T14:55:17.376Z"
   },
   {
    "duration": 4,
    "start_time": "2023-01-26T14:55:17.649Z"
   },
   {
    "duration": 15,
    "start_time": "2023-01-26T14:55:17.655Z"
   },
   {
    "duration": 33,
    "start_time": "2023-01-26T14:55:17.672Z"
   },
   {
    "duration": 77,
    "start_time": "2023-01-26T14:55:17.706Z"
   },
   {
    "duration": 39,
    "start_time": "2023-01-26T14:55:17.784Z"
   },
   {
    "duration": 27,
    "start_time": "2023-01-26T14:55:17.825Z"
   },
   {
    "duration": 23,
    "start_time": "2023-01-26T14:55:17.853Z"
   },
   {
    "duration": 24,
    "start_time": "2023-01-26T14:55:17.877Z"
   },
   {
    "duration": 21,
    "start_time": "2023-01-26T14:55:17.904Z"
   },
   {
    "duration": 16,
    "start_time": "2023-01-26T14:55:17.927Z"
   },
   {
    "duration": 11,
    "start_time": "2023-01-26T14:55:17.945Z"
   },
   {
    "duration": 20,
    "start_time": "2023-01-26T14:55:17.960Z"
   },
   {
    "duration": 15,
    "start_time": "2023-01-26T14:55:17.982Z"
   },
   {
    "duration": 14,
    "start_time": "2023-01-26T14:55:17.999Z"
   },
   {
    "duration": 18,
    "start_time": "2023-01-26T14:55:18.015Z"
   },
   {
    "duration": 7,
    "start_time": "2023-01-26T14:55:18.035Z"
   },
   {
    "duration": 62,
    "start_time": "2023-01-26T14:55:18.043Z"
   },
   {
    "duration": 23,
    "start_time": "2023-01-26T14:55:18.107Z"
   },
   {
    "duration": 22,
    "start_time": "2023-01-26T14:55:18.131Z"
   },
   {
    "duration": 39,
    "start_time": "2023-01-26T14:55:18.155Z"
   },
   {
    "duration": 22,
    "start_time": "2023-01-26T14:55:18.196Z"
   },
   {
    "duration": 15,
    "start_time": "2023-01-26T14:55:18.219Z"
   },
   {
    "duration": 16,
    "start_time": "2023-01-26T14:55:18.235Z"
   },
   {
    "duration": 12,
    "start_time": "2023-01-26T14:55:18.252Z"
   },
   {
    "duration": 614,
    "start_time": "2023-01-26T14:55:18.265Z"
   },
   {
    "duration": 257,
    "start_time": "2023-01-26T14:55:18.881Z"
   },
   {
    "duration": 340,
    "start_time": "2023-01-26T14:55:19.140Z"
   },
   {
    "duration": 4,
    "start_time": "2023-01-26T14:55:19.481Z"
   },
   {
    "duration": 253,
    "start_time": "2023-01-26T14:55:19.487Z"
   },
   {
    "duration": 320,
    "start_time": "2023-01-26T14:55:19.742Z"
   },
   {
    "duration": 12,
    "start_time": "2023-01-26T14:55:20.065Z"
   },
   {
    "duration": 156,
    "start_time": "2023-01-26T14:55:20.079Z"
   },
   {
    "duration": 5,
    "start_time": "2023-01-26T14:55:20.238Z"
   },
   {
    "duration": 29,
    "start_time": "2023-01-26T14:55:20.245Z"
   },
   {
    "duration": 31,
    "start_time": "2023-01-26T14:55:20.276Z"
   },
   {
    "duration": 166,
    "start_time": "2023-01-26T14:55:20.309Z"
   },
   {
    "duration": 160,
    "start_time": "2023-01-26T14:55:20.477Z"
   },
   {
    "duration": 5,
    "start_time": "2023-01-26T14:55:20.640Z"
   },
   {
    "duration": 29,
    "start_time": "2023-01-26T14:55:20.649Z"
   },
   {
    "duration": 196,
    "start_time": "2023-01-26T14:55:20.679Z"
   },
   {
    "duration": 15,
    "start_time": "2023-01-26T14:55:20.877Z"
   },
   {
    "duration": 28,
    "start_time": "2023-01-26T14:55:20.894Z"
   },
   {
    "duration": 34,
    "start_time": "2023-01-26T14:55:20.924Z"
   },
   {
    "duration": 36,
    "start_time": "2023-01-26T14:55:20.959Z"
   },
   {
    "duration": 76,
    "start_time": "2023-01-26T14:55:20.998Z"
   },
   {
    "duration": 13,
    "start_time": "2023-01-26T14:55:21.076Z"
   },
   {
    "duration": 1162,
    "start_time": "2023-01-26T15:19:44.884Z"
   },
   {
    "duration": 227,
    "start_time": "2023-01-26T15:19:46.048Z"
   },
   {
    "duration": 3,
    "start_time": "2023-01-26T15:19:46.277Z"
   },
   {
    "duration": 28,
    "start_time": "2023-01-26T15:19:46.282Z"
   },
   {
    "duration": 34,
    "start_time": "2023-01-26T15:19:46.312Z"
   },
   {
    "duration": 31,
    "start_time": "2023-01-26T15:19:46.348Z"
   },
   {
    "duration": 28,
    "start_time": "2023-01-26T15:19:46.381Z"
   },
   {
    "duration": 20,
    "start_time": "2023-01-26T15:19:46.410Z"
   },
   {
    "duration": 24,
    "start_time": "2023-01-26T15:19:46.431Z"
   },
   {
    "duration": 13,
    "start_time": "2023-01-26T15:19:46.458Z"
   },
   {
    "duration": 47,
    "start_time": "2023-01-26T15:19:46.473Z"
   },
   {
    "duration": 51,
    "start_time": "2023-01-26T15:19:46.522Z"
   },
   {
    "duration": 42,
    "start_time": "2023-01-26T15:19:46.575Z"
   },
   {
    "duration": 51,
    "start_time": "2023-01-26T15:19:46.618Z"
   },
   {
    "duration": 66,
    "start_time": "2023-01-26T15:19:46.671Z"
   },
   {
    "duration": 43,
    "start_time": "2023-01-26T15:19:46.740Z"
   },
   {
    "duration": 28,
    "start_time": "2023-01-26T15:19:46.785Z"
   },
   {
    "duration": 29,
    "start_time": "2023-01-26T15:19:46.815Z"
   },
   {
    "duration": 21,
    "start_time": "2023-01-26T15:19:46.846Z"
   },
   {
    "duration": 36,
    "start_time": "2023-01-26T15:19:46.868Z"
   },
   {
    "duration": 14,
    "start_time": "2023-01-26T15:19:46.905Z"
   },
   {
    "duration": 19,
    "start_time": "2023-01-26T15:19:46.920Z"
   },
   {
    "duration": 38,
    "start_time": "2023-01-26T15:19:46.941Z"
   },
   {
    "duration": 35,
    "start_time": "2023-01-26T15:19:46.980Z"
   },
   {
    "duration": 21,
    "start_time": "2023-01-26T15:19:47.016Z"
   },
   {
    "duration": 53,
    "start_time": "2023-01-26T15:19:47.039Z"
   },
   {
    "duration": 518,
    "start_time": "2023-01-26T15:19:47.094Z"
   },
   {
    "duration": 190,
    "start_time": "2023-01-26T15:19:47.615Z"
   },
   {
    "duration": 360,
    "start_time": "2023-01-26T15:19:47.806Z"
   },
   {
    "duration": 3,
    "start_time": "2023-01-26T15:19:48.168Z"
   },
   {
    "duration": 221,
    "start_time": "2023-01-26T15:19:48.173Z"
   },
   {
    "duration": 262,
    "start_time": "2023-01-26T15:19:48.396Z"
   },
   {
    "duration": 10,
    "start_time": "2023-01-26T15:19:48.659Z"
   },
   {
    "duration": 126,
    "start_time": "2023-01-26T15:19:48.671Z"
   },
   {
    "duration": 5,
    "start_time": "2023-01-26T15:19:48.798Z"
   },
   {
    "duration": 24,
    "start_time": "2023-01-26T15:19:48.805Z"
   },
   {
    "duration": 68,
    "start_time": "2023-01-26T15:19:48.831Z"
   },
   {
    "duration": 155,
    "start_time": "2023-01-26T15:19:48.901Z"
   },
   {
    "duration": 125,
    "start_time": "2023-01-26T15:19:49.058Z"
   },
   {
    "duration": 5,
    "start_time": "2023-01-26T15:19:49.184Z"
   },
   {
    "duration": 33,
    "start_time": "2023-01-26T15:19:49.191Z"
   },
   {
    "duration": 150,
    "start_time": "2023-01-26T15:19:49.226Z"
   },
   {
    "duration": 13,
    "start_time": "2023-01-26T15:19:49.378Z"
   },
   {
    "duration": 36,
    "start_time": "2023-01-26T15:19:49.392Z"
   },
   {
    "duration": 32,
    "start_time": "2023-01-26T15:19:49.430Z"
   },
   {
    "duration": 29,
    "start_time": "2023-01-26T15:19:49.464Z"
   },
   {
    "duration": 48,
    "start_time": "2023-01-26T15:19:49.494Z"
   },
   {
    "duration": 10,
    "start_time": "2023-01-26T15:19:49.543Z"
   },
   {
    "duration": 10,
    "start_time": "2023-01-26T15:23:16.057Z"
   },
   {
    "duration": 10,
    "start_time": "2023-01-26T15:23:29.852Z"
   },
   {
    "duration": 11,
    "start_time": "2023-01-26T15:25:29.957Z"
   },
   {
    "duration": 10,
    "start_time": "2023-01-26T15:25:38.437Z"
   },
   {
    "duration": 44,
    "start_time": "2023-01-26T18:27:52.229Z"
   },
   {
    "duration": 1239,
    "start_time": "2023-01-26T18:27:57.174Z"
   },
   {
    "duration": 293,
    "start_time": "2023-01-26T18:27:58.416Z"
   },
   {
    "duration": 3,
    "start_time": "2023-01-26T18:27:58.711Z"
   },
   {
    "duration": 14,
    "start_time": "2023-01-26T18:27:58.716Z"
   },
   {
    "duration": 13,
    "start_time": "2023-01-26T18:27:58.731Z"
   },
   {
    "duration": 9,
    "start_time": "2023-01-26T18:27:58.746Z"
   },
   {
    "duration": 12,
    "start_time": "2023-01-26T18:27:58.757Z"
   },
   {
    "duration": 7,
    "start_time": "2023-01-26T18:27:58.770Z"
   },
   {
    "duration": 7,
    "start_time": "2023-01-26T18:27:58.779Z"
   },
   {
    "duration": 5,
    "start_time": "2023-01-26T18:27:58.788Z"
   },
   {
    "duration": 4,
    "start_time": "2023-01-26T18:27:58.795Z"
   },
   {
    "duration": 5,
    "start_time": "2023-01-26T18:27:58.800Z"
   },
   {
    "duration": 5,
    "start_time": "2023-01-26T18:27:58.807Z"
   },
   {
    "duration": 6,
    "start_time": "2023-01-26T18:27:58.813Z"
   },
   {
    "duration": 4,
    "start_time": "2023-01-26T18:27:58.821Z"
   },
   {
    "duration": 44,
    "start_time": "2023-01-26T18:27:58.826Z"
   },
   {
    "duration": 14,
    "start_time": "2023-01-26T18:27:58.872Z"
   },
   {
    "duration": 4,
    "start_time": "2023-01-26T18:27:58.888Z"
   },
   {
    "duration": 7,
    "start_time": "2023-01-26T18:27:58.894Z"
   },
   {
    "duration": 7,
    "start_time": "2023-01-26T18:27:58.902Z"
   },
   {
    "duration": 9,
    "start_time": "2023-01-26T18:27:58.910Z"
   },
   {
    "duration": 15,
    "start_time": "2023-01-26T18:27:58.921Z"
   },
   {
    "duration": 40,
    "start_time": "2023-01-26T18:27:58.937Z"
   },
   {
    "duration": 11,
    "start_time": "2023-01-26T18:27:58.978Z"
   },
   {
    "duration": 9,
    "start_time": "2023-01-26T18:27:58.991Z"
   },
   {
    "duration": 13,
    "start_time": "2023-01-26T18:27:59.001Z"
   },
   {
    "duration": 578,
    "start_time": "2023-01-26T18:27:59.016Z"
   },
   {
    "duration": 223,
    "start_time": "2023-01-26T18:27:59.597Z"
   },
   {
    "duration": 389,
    "start_time": "2023-01-26T18:27:59.822Z"
   },
   {
    "duration": 3,
    "start_time": "2023-01-26T18:28:00.213Z"
   },
   {
    "duration": 252,
    "start_time": "2023-01-26T18:28:00.218Z"
   },
   {
    "duration": 304,
    "start_time": "2023-01-26T18:28:00.472Z"
   },
   {
    "duration": 12,
    "start_time": "2023-01-26T18:28:00.778Z"
   },
   {
    "duration": 136,
    "start_time": "2023-01-26T18:28:00.791Z"
   },
   {
    "duration": 5,
    "start_time": "2023-01-26T18:28:00.928Z"
   },
   {
    "duration": 12,
    "start_time": "2023-01-26T18:28:00.935Z"
   },
   {
    "duration": 20,
    "start_time": "2023-01-26T18:28:00.949Z"
   },
   {
    "duration": 151,
    "start_time": "2023-01-26T18:28:00.971Z"
   },
   {
    "duration": 138,
    "start_time": "2023-01-26T18:28:01.124Z"
   },
   {
    "duration": 5,
    "start_time": "2023-01-26T18:28:01.266Z"
   },
   {
    "duration": 19,
    "start_time": "2023-01-26T18:28:01.272Z"
   },
   {
    "duration": 160,
    "start_time": "2023-01-26T18:28:01.292Z"
   },
   {
    "duration": 16,
    "start_time": "2023-01-26T18:28:01.455Z"
   },
   {
    "duration": 10,
    "start_time": "2023-01-26T18:28:01.473Z"
   },
   {
    "duration": 31,
    "start_time": "2023-01-26T18:28:01.485Z"
   },
   {
    "duration": 16,
    "start_time": "2023-01-26T18:28:01.518Z"
   },
   {
    "duration": 32,
    "start_time": "2023-01-26T18:28:01.536Z"
   },
   {
    "duration": 11,
    "start_time": "2023-01-26T18:28:01.570Z"
   },
   {
    "duration": 151,
    "start_time": "2023-01-26T18:28:58.145Z"
   },
   {
    "duration": 24,
    "start_time": "2023-01-26T18:30:24.686Z"
   },
   {
    "duration": 9,
    "start_time": "2023-01-26T18:30:34.836Z"
   }
  ],
  "kernelspec": {
   "display_name": "Python 3 (ipykernel)",
   "language": "python",
   "name": "python3"
  },
  "language_info": {
   "codemirror_mode": {
    "name": "ipython",
    "version": 3
   },
   "file_extension": ".py",
   "mimetype": "text/x-python",
   "name": "python",
   "nbconvert_exporter": "python",
   "pygments_lexer": "ipython3",
   "version": "3.9.13"
  },
  "toc": {
   "base_numbering": 1,
   "nav_menu": {},
   "number_sections": true,
   "sideBar": true,
   "skip_h1_title": true,
   "title_cell": "Принятие решений в бизнесе",
   "title_sidebar": "Contents",
   "toc_cell": false,
   "toc_position": {
    "height": "calc(100% - 180px)",
    "left": "10px",
    "top": "150px",
    "width": "419px"
   },
   "toc_section_display": true,
   "toc_window_display": true
  }
 },
 "nbformat": 4,
 "nbformat_minor": 5
}
