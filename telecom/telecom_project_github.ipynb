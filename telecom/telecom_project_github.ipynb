{
 "cells": [
  {
   "cell_type": "markdown",
   "id": "de2d01b5",
   "metadata": {},
   "source": [
    "# Определение неэффективных операторов"
   ]
  },
  {
   "cell_type": "markdown",
   "id": "469f86eb",
   "metadata": {},
   "source": [
    "**Заказчик:** продуктовый менеджер отдела продуктовой разработки провайдера \"Нупозвони\".\n",
    "\n",
    "\"Нупозвони\" - провайдер виртуальной телефонии. Клиентами провайдера являются колл-центры, которые распределеяют входящие вызовы на операторов (техподдержка, горячая линия и т.п.) или совершают исходящие вызовы силами операторов (маркетинг, соцопросы и т.п.). Также операторы колл-центров могут совершать внутренние звонки между собой внутри сети виртуальной телефонии.\n",
    "\n",
    "**Запрос заказчика:** Заказчик хочет разработать программу для определения неэффективных операторов. Программу планируется продавать колл-центрам. Перед этим заказчик хочет прощупать почву - определить, насколько эта услуга будет востребована и каким колл-центрам можно её предложить.\n",
    "\n",
    "**Цель исследования:** провести исследовательский анализ данных, выявить потенциальных клиентов новой услуги по определению неэффективных операторов.\n",
    "\n",
    "Признаки неэффективности операторов колл-центров:\n",
    "- много пропущенных входящих звонков;\n",
    "- долгое ожидание ответа при входящих вызовах;\n",
    "- мало исходящих звонков - для колл-центров, специализирующихся на обзвонах.\n",
    "\n",
    "**План исследования:**\n",
    "- Изучение общей информации о данных.\n",
    "- Обработка данных: устранение дубликатов, работа с пропусками и типами данных, добавление новых столбцов (столбец с временем ожидания).\n",
    "- Определить временной период данных - найти минимальную и максимальную даты.\n",
    "- Разделение колл-центров на обзванивающие и принимающие. Для этого необходимо сгруппировать данные по id клиентов и посчитать количество входящих и исходящих звонков (либо их процент от общего кличества вызовов).\n",
    "- Провести исследовательский анализ данных о количестве пропущенных, исходящих, входящих звонках, длительности вызова и времени ожидания.\n",
    "- Определить пороги эффективности - количество пропущенных звонков, длительность ожидания ответа и количество исходящих вызовов, при которых оператора можно считать неэффективным.\n",
    "- Сформировать список колл-центров с большим количеством неэффективных сотрудников.\n",
    "- Сформировать нулевые и альтернативные статистические гипотезы и проверить их.\n",
    "- Сделать выводы, дать рекомендации заказчику.\n",
    "- Подготовить перезнтацию после создания дашборда."
   ]
  },
  {
   "cell_type": "markdown",
   "id": "d46899a9",
   "metadata": {},
   "source": [
    "## Общая информация о данных"
   ]
  },
  {
   "cell_type": "markdown",
   "id": "d7214958",
   "metadata": {},
   "source": [
    "Перед исследованием необходимо загрузить необходимые билиотеки и ознакомиться с данными."
   ]
  },
  {
   "cell_type": "code",
   "execution_count": 1,
   "id": "53a8e7af",
   "metadata": {},
   "outputs": [],
   "source": [
    "# импорт необходимых библиотек\n",
    "import pandas as pd\n",
    "import datetime as dt\n",
    "import matplotlib.pyplot as plt\n",
    "import numpy as np\n",
    "from scipy import stats as st\n",
    "import warnings; warnings.filterwarnings(action = 'ignore')"
   ]
  },
  {
   "cell_type": "code",
   "execution_count": 2,
   "id": "1bc045d0",
   "metadata": {},
   "outputs": [],
   "source": [
    "# загрузка данных\n",
    "try:\n",
    "    data = pd.read_csv('telecom_dataset.csv')\n",
    "    clients = pd.read_csv('telecom_clients.csv')\n",
    "except:\n",
    "    data = pd.read_csv('/datasets/telecom_dataset.csv')\n",
    "    clients = pd.read_csv('/datasets/telecom_clients.csv')"
   ]
  },
  {
   "cell_type": "markdown",
   "id": "1fff7297",
   "metadata": {},
   "source": [
    "### Журнал звонков"
   ]
  },
  {
   "cell_type": "code",
   "execution_count": 3,
   "id": "314edcff",
   "metadata": {
    "scrolled": true
   },
   "outputs": [
    {
     "data": {
      "text/html": [
       "<div>\n",
       "<style scoped>\n",
       "    .dataframe tbody tr th:only-of-type {\n",
       "        vertical-align: middle;\n",
       "    }\n",
       "\n",
       "    .dataframe tbody tr th {\n",
       "        vertical-align: top;\n",
       "    }\n",
       "\n",
       "    .dataframe thead th {\n",
       "        text-align: right;\n",
       "    }\n",
       "</style>\n",
       "<table border=\"1\" class=\"dataframe\">\n",
       "  <thead>\n",
       "    <tr style=\"text-align: right;\">\n",
       "      <th></th>\n",
       "      <th>user_id</th>\n",
       "      <th>date</th>\n",
       "      <th>direction</th>\n",
       "      <th>internal</th>\n",
       "      <th>operator_id</th>\n",
       "      <th>is_missed_call</th>\n",
       "      <th>calls_count</th>\n",
       "      <th>call_duration</th>\n",
       "      <th>total_call_duration</th>\n",
       "    </tr>\n",
       "  </thead>\n",
       "  <tbody>\n",
       "    <tr>\n",
       "      <th>0</th>\n",
       "      <td>166377</td>\n",
       "      <td>2019-08-04 00:00:00+03:00</td>\n",
       "      <td>in</td>\n",
       "      <td>False</td>\n",
       "      <td>NaN</td>\n",
       "      <td>True</td>\n",
       "      <td>2</td>\n",
       "      <td>0</td>\n",
       "      <td>4</td>\n",
       "    </tr>\n",
       "    <tr>\n",
       "      <th>1</th>\n",
       "      <td>166377</td>\n",
       "      <td>2019-08-05 00:00:00+03:00</td>\n",
       "      <td>out</td>\n",
       "      <td>True</td>\n",
       "      <td>880022.0</td>\n",
       "      <td>True</td>\n",
       "      <td>3</td>\n",
       "      <td>0</td>\n",
       "      <td>5</td>\n",
       "    </tr>\n",
       "    <tr>\n",
       "      <th>2</th>\n",
       "      <td>166377</td>\n",
       "      <td>2019-08-05 00:00:00+03:00</td>\n",
       "      <td>out</td>\n",
       "      <td>True</td>\n",
       "      <td>880020.0</td>\n",
       "      <td>True</td>\n",
       "      <td>1</td>\n",
       "      <td>0</td>\n",
       "      <td>1</td>\n",
       "    </tr>\n",
       "    <tr>\n",
       "      <th>3</th>\n",
       "      <td>166377</td>\n",
       "      <td>2019-08-05 00:00:00+03:00</td>\n",
       "      <td>out</td>\n",
       "      <td>True</td>\n",
       "      <td>880020.0</td>\n",
       "      <td>False</td>\n",
       "      <td>1</td>\n",
       "      <td>10</td>\n",
       "      <td>18</td>\n",
       "    </tr>\n",
       "    <tr>\n",
       "      <th>4</th>\n",
       "      <td>166377</td>\n",
       "      <td>2019-08-05 00:00:00+03:00</td>\n",
       "      <td>out</td>\n",
       "      <td>False</td>\n",
       "      <td>880022.0</td>\n",
       "      <td>True</td>\n",
       "      <td>3</td>\n",
       "      <td>0</td>\n",
       "      <td>25</td>\n",
       "    </tr>\n",
       "  </tbody>\n",
       "</table>\n",
       "</div>"
      ],
      "text/plain": [
       "   user_id                       date direction internal  operator_id  \\\n",
       "0   166377  2019-08-04 00:00:00+03:00        in    False          NaN   \n",
       "1   166377  2019-08-05 00:00:00+03:00       out     True     880022.0   \n",
       "2   166377  2019-08-05 00:00:00+03:00       out     True     880020.0   \n",
       "3   166377  2019-08-05 00:00:00+03:00       out     True     880020.0   \n",
       "4   166377  2019-08-05 00:00:00+03:00       out    False     880022.0   \n",
       "\n",
       "   is_missed_call  calls_count  call_duration  total_call_duration  \n",
       "0            True            2              0                    4  \n",
       "1            True            3              0                    5  \n",
       "2            True            1              0                    1  \n",
       "3           False            1             10                   18  \n",
       "4            True            3              0                   25  "
      ]
     },
     "execution_count": 3,
     "metadata": {},
     "output_type": "execute_result"
    }
   ],
   "source": [
    "data.head()"
   ]
  },
  {
   "cell_type": "code",
   "execution_count": 4,
   "id": "b6ccea82",
   "metadata": {
    "scrolled": true
   },
   "outputs": [
    {
     "name": "stdout",
     "output_type": "stream",
     "text": [
      "<class 'pandas.core.frame.DataFrame'>\n",
      "RangeIndex: 53902 entries, 0 to 53901\n",
      "Data columns (total 9 columns):\n",
      " #   Column               Non-Null Count  Dtype  \n",
      "---  ------               --------------  -----  \n",
      " 0   user_id              53902 non-null  int64  \n",
      " 1   date                 53902 non-null  object \n",
      " 2   direction            53902 non-null  object \n",
      " 3   internal             53785 non-null  object \n",
      " 4   operator_id          45730 non-null  float64\n",
      " 5   is_missed_call       53902 non-null  bool   \n",
      " 6   calls_count          53902 non-null  int64  \n",
      " 7   call_duration        53902 non-null  int64  \n",
      " 8   total_call_duration  53902 non-null  int64  \n",
      "dtypes: bool(1), float64(1), int64(4), object(3)\n",
      "memory usage: 3.3+ MB\n"
     ]
    }
   ],
   "source": [
    "data.info()"
   ]
  },
  {
   "cell_type": "markdown",
   "id": "45026bb6",
   "metadata": {},
   "source": [
    "Столбцы в `data` (журнале звонков):\n",
    "\n",
    "- `user_id` — Идентификатор клиентского аккаунта колл-центра в сервисе\n",
    "- `date` — Дата статистики\n",
    "- `direction` — Направление вызовов (out - исходящий вызов, in — входящий вызов)\n",
    "- `internal` — Является ли звонок внутренним звонком между операторами клиента\n",
    "- `operator_id` — Идентификатор оператора\n",
    "- `is_missed_call` — Является ли звонок пропущенным (для входящих) и непринятым (для исходящих), длительность таких звонков без времени ожидания равна нулю\n",
    "- `calls_count` — Количество звонков с определёнными характеристиками (например, входящий и пропущенный, исходящий и принятый) для каждого оператора за конкретный день\n",
    "- `call_duration` — Длительность звонка (без учета времени ожидания)\n",
    "- `total_call_duration` — Длительность звонка (с учетом времени ожидания).\n",
    "\n",
    "В датасете присутствуют пропуски с столбцах `internal` и `operator_id`. Также неверный тип данных в столбцах `date` и `internal` (из-за наличия пропусков)."
   ]
  },
  {
   "cell_type": "markdown",
   "id": "a6014e17",
   "metadata": {},
   "source": [
    "### Профили клиентов"
   ]
  },
  {
   "cell_type": "code",
   "execution_count": 5,
   "id": "ec85cb44",
   "metadata": {
    "scrolled": false
   },
   "outputs": [
    {
     "data": {
      "text/html": [
       "<div>\n",
       "<style scoped>\n",
       "    .dataframe tbody tr th:only-of-type {\n",
       "        vertical-align: middle;\n",
       "    }\n",
       "\n",
       "    .dataframe tbody tr th {\n",
       "        vertical-align: top;\n",
       "    }\n",
       "\n",
       "    .dataframe thead th {\n",
       "        text-align: right;\n",
       "    }\n",
       "</style>\n",
       "<table border=\"1\" class=\"dataframe\">\n",
       "  <thead>\n",
       "    <tr style=\"text-align: right;\">\n",
       "      <th></th>\n",
       "      <th>user_id</th>\n",
       "      <th>tariff_plan</th>\n",
       "      <th>date_start</th>\n",
       "    </tr>\n",
       "  </thead>\n",
       "  <tbody>\n",
       "    <tr>\n",
       "      <th>0</th>\n",
       "      <td>166713</td>\n",
       "      <td>A</td>\n",
       "      <td>2019-08-15</td>\n",
       "    </tr>\n",
       "    <tr>\n",
       "      <th>1</th>\n",
       "      <td>166901</td>\n",
       "      <td>A</td>\n",
       "      <td>2019-08-23</td>\n",
       "    </tr>\n",
       "    <tr>\n",
       "      <th>2</th>\n",
       "      <td>168527</td>\n",
       "      <td>A</td>\n",
       "      <td>2019-10-29</td>\n",
       "    </tr>\n",
       "    <tr>\n",
       "      <th>3</th>\n",
       "      <td>167097</td>\n",
       "      <td>A</td>\n",
       "      <td>2019-09-01</td>\n",
       "    </tr>\n",
       "    <tr>\n",
       "      <th>4</th>\n",
       "      <td>168193</td>\n",
       "      <td>A</td>\n",
       "      <td>2019-10-16</td>\n",
       "    </tr>\n",
       "  </tbody>\n",
       "</table>\n",
       "</div>"
      ],
      "text/plain": [
       "   user_id tariff_plan  date_start\n",
       "0   166713           A  2019-08-15\n",
       "1   166901           A  2019-08-23\n",
       "2   168527           A  2019-10-29\n",
       "3   167097           A  2019-09-01\n",
       "4   168193           A  2019-10-16"
      ]
     },
     "execution_count": 5,
     "metadata": {},
     "output_type": "execute_result"
    }
   ],
   "source": [
    "clients.head()"
   ]
  },
  {
   "cell_type": "code",
   "execution_count": 6,
   "id": "495d1ae7",
   "metadata": {},
   "outputs": [
    {
     "name": "stdout",
     "output_type": "stream",
     "text": [
      "<class 'pandas.core.frame.DataFrame'>\n",
      "RangeIndex: 732 entries, 0 to 731\n",
      "Data columns (total 3 columns):\n",
      " #   Column       Non-Null Count  Dtype \n",
      "---  ------       --------------  ----- \n",
      " 0   user_id      732 non-null    int64 \n",
      " 1   tariff_plan  732 non-null    object\n",
      " 2   date_start   732 non-null    object\n",
      "dtypes: int64(1), object(2)\n",
      "memory usage: 17.3+ KB\n"
     ]
    }
   ],
   "source": [
    "clients.info()"
   ]
  },
  {
   "cell_type": "markdown",
   "id": "6b92f8cc",
   "metadata": {},
   "source": [
    "Столбцы в `clients` (профилях клиентов):\n",
    "- `user_id` — Идентификатор клиентского аккаунта в сервисе\n",
    "- `tariff_plan` — Текущий тарифный план клиента\n",
    "- `date_start` — Дата регистрации клиентв в сервисе\n",
    "\n",
    "В датасете нет пропусков, но у столбца `date_start` неверный тип данных."
   ]
  },
  {
   "cell_type": "markdown",
   "id": "7c8ba842",
   "metadata": {},
   "source": [
    "## Предобработка данных"
   ]
  },
  {
   "cell_type": "markdown",
   "id": "8d75c1e2",
   "metadata": {},
   "source": [
    "Для дальнейшей работы с данными необходимо выполнить предобработку - обработать имеющиеся пропуски, дубликаты, заменить типы данных там, где это необходимо, создать новый столбец."
   ]
  },
  {
   "cell_type": "markdown",
   "id": "bec953e4",
   "metadata": {},
   "source": [
    "### Обработка дубликатов"
   ]
  },
  {
   "cell_type": "code",
   "execution_count": 7,
   "id": "aee9e74f",
   "metadata": {},
   "outputs": [
    {
     "name": "stdout",
     "output_type": "stream",
     "text": [
      "Количество явных дубликатов в data: 4900\n",
      "Процент явных дубликатов в data: 9.1%\n",
      "\n",
      "Количество явных дубликатов в clients: 0\n",
      "Процент явных дубликатов в clients: 0.0%\n"
     ]
    }
   ],
   "source": [
    "print('Количество явных дубликатов в data: {}'.format(data.duplicated().sum()))\n",
    "print('Процент явных дубликатов в data: {}%'.format(round(data.duplicated().sum() / data.shape[0] * 100, 1)))\n",
    "print()\n",
    "print('Количество явных дубликатов в clients: {}'.format(clients.duplicated().sum()))\n",
    "print('Процент явных дубликатов в clients: {}%'.format(round(clients.duplicated().sum() / clients.shape[0] * 100, 1)))"
   ]
  },
  {
   "cell_type": "markdown",
   "id": "2af497ac",
   "metadata": {},
   "source": [
    "Удалим из датасета `data` 4900 явных дубикатов (9.1% от всех данных)."
   ]
  },
  {
   "cell_type": "code",
   "execution_count": 8,
   "id": "2ef2a7a6",
   "metadata": {},
   "outputs": [
    {
     "name": "stdout",
     "output_type": "stream",
     "text": [
      "Количество явных дубликатов в data: 0\n",
      "Процент явных дубликатов в data: 0.0%\n"
     ]
    }
   ],
   "source": [
    "data = data.drop_duplicates()\n",
    "# проверка\n",
    "print('Количество явных дубликатов в data: {}'.format(data.duplicated().sum()))\n",
    "print('Процент явных дубликатов в data: {}%'.format(round(data.duplicated().sum() / data.shape[0] * 100, 1)))"
   ]
  },
  {
   "cell_type": "markdown",
   "id": "b0ec570b",
   "metadata": {},
   "source": [
    "### Обработка пропусков"
   ]
  },
  {
   "cell_type": "markdown",
   "id": "73758d2a",
   "metadata": {},
   "source": [
    "Составим таблицу с количеством пропусков в каждом столбце `data` и процентом пропусков от общего количества строк."
   ]
  },
  {
   "cell_type": "code",
   "execution_count": 9,
   "id": "e9357526",
   "metadata": {},
   "outputs": [
    {
     "data": {
      "text/html": [
       "<div>\n",
       "<style scoped>\n",
       "    .dataframe tbody tr th:only-of-type {\n",
       "        vertical-align: middle;\n",
       "    }\n",
       "\n",
       "    .dataframe tbody tr th {\n",
       "        vertical-align: top;\n",
       "    }\n",
       "\n",
       "    .dataframe thead th {\n",
       "        text-align: right;\n",
       "    }\n",
       "</style>\n",
       "<table border=\"1\" class=\"dataframe\">\n",
       "  <thead>\n",
       "    <tr style=\"text-align: right;\">\n",
       "      <th></th>\n",
       "      <th>isna</th>\n",
       "      <th>isna_perc</th>\n",
       "    </tr>\n",
       "  </thead>\n",
       "  <tbody>\n",
       "    <tr>\n",
       "      <th>user_id</th>\n",
       "      <td>0</td>\n",
       "      <td>0.0</td>\n",
       "    </tr>\n",
       "    <tr>\n",
       "      <th>date</th>\n",
       "      <td>0</td>\n",
       "      <td>0.0</td>\n",
       "    </tr>\n",
       "    <tr>\n",
       "      <th>direction</th>\n",
       "      <td>0</td>\n",
       "      <td>0.0</td>\n",
       "    </tr>\n",
       "    <tr>\n",
       "      <th>internal</th>\n",
       "      <td>110</td>\n",
       "      <td>0.2</td>\n",
       "    </tr>\n",
       "    <tr>\n",
       "      <th>operator_id</th>\n",
       "      <td>7456</td>\n",
       "      <td>15.2</td>\n",
       "    </tr>\n",
       "    <tr>\n",
       "      <th>is_missed_call</th>\n",
       "      <td>0</td>\n",
       "      <td>0.0</td>\n",
       "    </tr>\n",
       "    <tr>\n",
       "      <th>calls_count</th>\n",
       "      <td>0</td>\n",
       "      <td>0.0</td>\n",
       "    </tr>\n",
       "    <tr>\n",
       "      <th>call_duration</th>\n",
       "      <td>0</td>\n",
       "      <td>0.0</td>\n",
       "    </tr>\n",
       "    <tr>\n",
       "      <th>total_call_duration</th>\n",
       "      <td>0</td>\n",
       "      <td>0.0</td>\n",
       "    </tr>\n",
       "  </tbody>\n",
       "</table>\n",
       "</div>"
      ],
      "text/plain": [
       "                     isna  isna_perc\n",
       "user_id                 0        0.0\n",
       "date                    0        0.0\n",
       "direction               0        0.0\n",
       "internal              110        0.2\n",
       "operator_id          7456       15.2\n",
       "is_missed_call          0        0.0\n",
       "calls_count             0        0.0\n",
       "call_duration           0        0.0\n",
       "total_call_duration     0        0.0"
      ]
     },
     "execution_count": 9,
     "metadata": {},
     "output_type": "execute_result"
    }
   ],
   "source": [
    "data_isna = pd.DataFrame(data.isna().sum())\n",
    "data_isna.columns = ['isna']\n",
    "data_isna['isna_perc'] = round(data_isna['isna'] / data.shape[0] * 100, 1)\n",
    "data_isna"
   ]
  },
  {
   "cell_type": "markdown",
   "id": "d0478d50",
   "metadata": {},
   "source": [
    "Присутствует большое количество пропусков в столбце `operator_id` (15.2%) и 0.2% пропусков в столбце `internal`.\n",
    "\n",
    "Попробуем исследовать природу пропусков в `operator_id`."
   ]
  },
  {
   "cell_type": "code",
   "execution_count": 10,
   "id": "a35aa089",
   "metadata": {},
   "outputs": [
    {
     "data": {
      "text/html": [
       "<div>\n",
       "<style scoped>\n",
       "    .dataframe tbody tr th:only-of-type {\n",
       "        vertical-align: middle;\n",
       "    }\n",
       "\n",
       "    .dataframe tbody tr th {\n",
       "        vertical-align: top;\n",
       "    }\n",
       "\n",
       "    .dataframe thead th {\n",
       "        text-align: right;\n",
       "    }\n",
       "</style>\n",
       "<table border=\"1\" class=\"dataframe\">\n",
       "  <thead>\n",
       "    <tr style=\"text-align: right;\">\n",
       "      <th></th>\n",
       "      <th></th>\n",
       "      <th></th>\n",
       "      <th>user_id</th>\n",
       "    </tr>\n",
       "    <tr>\n",
       "      <th>direction</th>\n",
       "      <th>internal</th>\n",
       "      <th>is_missed_call</th>\n",
       "      <th></th>\n",
       "    </tr>\n",
       "  </thead>\n",
       "  <tbody>\n",
       "    <tr>\n",
       "      <th rowspan=\"2\" valign=\"top\">in</th>\n",
       "      <th>False</th>\n",
       "      <th>True</th>\n",
       "      <td>6870</td>\n",
       "    </tr>\n",
       "    <tr>\n",
       "      <th>True</th>\n",
       "      <th>True</th>\n",
       "      <td>279</td>\n",
       "    </tr>\n",
       "    <tr>\n",
       "      <th>out</th>\n",
       "      <th>False</th>\n",
       "      <th>True</th>\n",
       "      <td>108</td>\n",
       "    </tr>\n",
       "    <tr>\n",
       "      <th>in</th>\n",
       "      <th>False</th>\n",
       "      <th>False</th>\n",
       "      <td>62</td>\n",
       "    </tr>\n",
       "    <tr>\n",
       "      <th rowspan=\"3\" valign=\"top\">out</th>\n",
       "      <th>False</th>\n",
       "      <th>False</th>\n",
       "      <td>38</td>\n",
       "    </tr>\n",
       "    <tr>\n",
       "      <th rowspan=\"2\" valign=\"top\">True</th>\n",
       "      <th>True</th>\n",
       "      <td>31</td>\n",
       "    </tr>\n",
       "    <tr>\n",
       "      <th>False</th>\n",
       "      <td>7</td>\n",
       "    </tr>\n",
       "    <tr>\n",
       "      <th>in</th>\n",
       "      <th>True</th>\n",
       "      <th>False</th>\n",
       "      <td>6</td>\n",
       "    </tr>\n",
       "  </tbody>\n",
       "</table>\n",
       "</div>"
      ],
      "text/plain": [
       "                                   user_id\n",
       "direction internal is_missed_call         \n",
       "in        False    True               6870\n",
       "          True     True                279\n",
       "out       False    True                108\n",
       "in        False    False                62\n",
       "out       False    False                38\n",
       "          True     True                 31\n",
       "                   False                 7\n",
       "in        True     False                 6"
      ]
     },
     "execution_count": 10,
     "metadata": {},
     "output_type": "execute_result"
    }
   ],
   "source": [
    "(\n",
    "    data\n",
    "    .loc[data['operator_id'].isna()]\n",
    "    .groupby(['direction', 'internal', 'is_missed_call'])\n",
    "    .agg({'user_id': 'count'})\n",
    "    .sort_values('user_id', ascending=False)\n",
    ")"
   ]
  },
  {
   "cell_type": "markdown",
   "id": "9c86fd30",
   "metadata": {},
   "source": [
    "Большая часть пропусков в `oparator_id` - это внешние входящие пропущенные звонки. Можно предположить, что это входящие звонки, при которых абоненты не дождались ответа и сбросили звонок. Скорее всего звонок не был направлен на конкретного оператора, поэтому присутствует пропуск. Остальные пропуски - ошибки в записи данных.\n",
    "\n",
    "Попробуем исследовать природу пропусков в `internal`."
   ]
  },
  {
   "cell_type": "code",
   "execution_count": 11,
   "id": "328c3796",
   "metadata": {},
   "outputs": [
    {
     "data": {
      "text/html": [
       "<div>\n",
       "<style scoped>\n",
       "    .dataframe tbody tr th:only-of-type {\n",
       "        vertical-align: middle;\n",
       "    }\n",
       "\n",
       "    .dataframe tbody tr th {\n",
       "        vertical-align: top;\n",
       "    }\n",
       "\n",
       "    .dataframe thead th {\n",
       "        text-align: right;\n",
       "    }\n",
       "</style>\n",
       "<table border=\"1\" class=\"dataframe\">\n",
       "  <thead>\n",
       "    <tr style=\"text-align: right;\">\n",
       "      <th></th>\n",
       "      <th></th>\n",
       "      <th>user_id</th>\n",
       "    </tr>\n",
       "    <tr>\n",
       "      <th>direction</th>\n",
       "      <th>is_missed_call</th>\n",
       "      <th></th>\n",
       "    </tr>\n",
       "  </thead>\n",
       "  <tbody>\n",
       "    <tr>\n",
       "      <th rowspan=\"2\" valign=\"top\">in</th>\n",
       "      <th>False</th>\n",
       "      <td>54</td>\n",
       "    </tr>\n",
       "    <tr>\n",
       "      <th>True</th>\n",
       "      <td>54</td>\n",
       "    </tr>\n",
       "    <tr>\n",
       "      <th>out</th>\n",
       "      <th>True</th>\n",
       "      <td>2</td>\n",
       "    </tr>\n",
       "  </tbody>\n",
       "</table>\n",
       "</div>"
      ],
      "text/plain": [
       "                          user_id\n",
       "direction is_missed_call         \n",
       "in        False                54\n",
       "          True                 54\n",
       "out       True                  2"
      ]
     },
     "execution_count": 11,
     "metadata": {},
     "output_type": "execute_result"
    }
   ],
   "source": [
    "(\n",
    "    data\n",
    "    .loc[data['internal'].isna()]\n",
    "    .groupby(['direction', 'is_missed_call'])\n",
    "    .agg({'user_id': 'count'})\n",
    "    .sort_values('user_id', ascending=False)\n",
    ")"
   ]
  },
  {
   "cell_type": "markdown",
   "id": "93069582",
   "metadata": {},
   "source": [
    "В основном это входящие звонки, половина из которых пропущены. Возможно, произошла ошибка в фиксации номера абонента, совершающего звонок. Вероятнее всего это были внешние звонки.\n",
    "\n",
    "Заменим пропуски в столбце `operator_id` на значение 1, а пропуски в столбце `internal` в количестве 110 штук удалим."
   ]
  },
  {
   "cell_type": "code",
   "execution_count": 12,
   "id": "ff2a98dd",
   "metadata": {},
   "outputs": [
    {
     "data": {
      "text/html": [
       "<div>\n",
       "<style scoped>\n",
       "    .dataframe tbody tr th:only-of-type {\n",
       "        vertical-align: middle;\n",
       "    }\n",
       "\n",
       "    .dataframe tbody tr th {\n",
       "        vertical-align: top;\n",
       "    }\n",
       "\n",
       "    .dataframe thead th {\n",
       "        text-align: right;\n",
       "    }\n",
       "</style>\n",
       "<table border=\"1\" class=\"dataframe\">\n",
       "  <thead>\n",
       "    <tr style=\"text-align: right;\">\n",
       "      <th></th>\n",
       "      <th>isna</th>\n",
       "      <th>isna_perc</th>\n",
       "    </tr>\n",
       "  </thead>\n",
       "  <tbody>\n",
       "    <tr>\n",
       "      <th>user_id</th>\n",
       "      <td>0</td>\n",
       "      <td>0.0</td>\n",
       "    </tr>\n",
       "    <tr>\n",
       "      <th>date</th>\n",
       "      <td>0</td>\n",
       "      <td>0.0</td>\n",
       "    </tr>\n",
       "    <tr>\n",
       "      <th>direction</th>\n",
       "      <td>0</td>\n",
       "      <td>0.0</td>\n",
       "    </tr>\n",
       "    <tr>\n",
       "      <th>internal</th>\n",
       "      <td>0</td>\n",
       "      <td>0.0</td>\n",
       "    </tr>\n",
       "    <tr>\n",
       "      <th>operator_id</th>\n",
       "      <td>0</td>\n",
       "      <td>0.0</td>\n",
       "    </tr>\n",
       "    <tr>\n",
       "      <th>is_missed_call</th>\n",
       "      <td>0</td>\n",
       "      <td>0.0</td>\n",
       "    </tr>\n",
       "    <tr>\n",
       "      <th>calls_count</th>\n",
       "      <td>0</td>\n",
       "      <td>0.0</td>\n",
       "    </tr>\n",
       "    <tr>\n",
       "      <th>call_duration</th>\n",
       "      <td>0</td>\n",
       "      <td>0.0</td>\n",
       "    </tr>\n",
       "    <tr>\n",
       "      <th>total_call_duration</th>\n",
       "      <td>0</td>\n",
       "      <td>0.0</td>\n",
       "    </tr>\n",
       "  </tbody>\n",
       "</table>\n",
       "</div>"
      ],
      "text/plain": [
       "                     isna  isna_perc\n",
       "user_id                 0        0.0\n",
       "date                    0        0.0\n",
       "direction               0        0.0\n",
       "internal                0        0.0\n",
       "operator_id             0        0.0\n",
       "is_missed_call          0        0.0\n",
       "calls_count             0        0.0\n",
       "call_duration           0        0.0\n",
       "total_call_duration     0        0.0"
      ]
     },
     "execution_count": 12,
     "metadata": {},
     "output_type": "execute_result"
    }
   ],
   "source": [
    "data['operator_id'] = data['operator_id'].fillna(1)\n",
    "data = data.dropna()\n",
    "# проверка\n",
    "data_isna = pd.DataFrame(data.isna().sum())\n",
    "data_isna.columns = ['isna']\n",
    "data_isna['isna_perc'] = round(data_isna['isna'] / data.shape[0] * 100, 1)\n",
    "data_isna"
   ]
  },
  {
   "cell_type": "code",
   "execution_count": 13,
   "id": "44b57d67",
   "metadata": {},
   "outputs": [
    {
     "data": {
      "text/plain": [
       "(48892, 9)"
      ]
     },
     "execution_count": 13,
     "metadata": {},
     "output_type": "execute_result"
    }
   ],
   "source": [
    "data.shape"
   ]
  },
  {
   "cell_type": "markdown",
   "id": "c811a537",
   "metadata": {},
   "source": [
    "Рассмотрим пропуски в `clients`."
   ]
  },
  {
   "cell_type": "code",
   "execution_count": 14,
   "id": "0863deee",
   "metadata": {
    "scrolled": true
   },
   "outputs": [
    {
     "data": {
      "text/html": [
       "<div>\n",
       "<style scoped>\n",
       "    .dataframe tbody tr th:only-of-type {\n",
       "        vertical-align: middle;\n",
       "    }\n",
       "\n",
       "    .dataframe tbody tr th {\n",
       "        vertical-align: top;\n",
       "    }\n",
       "\n",
       "    .dataframe thead th {\n",
       "        text-align: right;\n",
       "    }\n",
       "</style>\n",
       "<table border=\"1\" class=\"dataframe\">\n",
       "  <thead>\n",
       "    <tr style=\"text-align: right;\">\n",
       "      <th></th>\n",
       "      <th>isna</th>\n",
       "      <th>isna_perc</th>\n",
       "    </tr>\n",
       "  </thead>\n",
       "  <tbody>\n",
       "    <tr>\n",
       "      <th>user_id</th>\n",
       "      <td>0</td>\n",
       "      <td>0.0</td>\n",
       "    </tr>\n",
       "    <tr>\n",
       "      <th>tariff_plan</th>\n",
       "      <td>0</td>\n",
       "      <td>0.0</td>\n",
       "    </tr>\n",
       "    <tr>\n",
       "      <th>date_start</th>\n",
       "      <td>0</td>\n",
       "      <td>0.0</td>\n",
       "    </tr>\n",
       "  </tbody>\n",
       "</table>\n",
       "</div>"
      ],
      "text/plain": [
       "             isna  isna_perc\n",
       "user_id         0        0.0\n",
       "tariff_plan     0        0.0\n",
       "date_start      0        0.0"
      ]
     },
     "execution_count": 14,
     "metadata": {},
     "output_type": "execute_result"
    }
   ],
   "source": [
    "clients_isna = pd.DataFrame(clients.isna().sum())\n",
    "clients_isna.columns = ['isna']\n",
    "clients_isna['isna_perc'] = round(clients_isna['isna'] / clients.shape[0] * 100, 1)\n",
    "clients_isna"
   ]
  },
  {
   "cell_type": "markdown",
   "id": "6929bf79",
   "metadata": {},
   "source": [
    "В `clients` пропуски отсутствуют."
   ]
  },
  {
   "cell_type": "markdown",
   "id": "706b48b3",
   "metadata": {},
   "source": [
    "**Вывод:** \n",
    "\n",
    "В столбце `operator_id` бОльшая часть пропусков - внешние входящие пропущенные звонки. Вероятнее всего такие звонки не были направлены на конкретных операторов, поэтому образовались пропуски. Заполнили пропуски значением 1.\n",
    "\n",
    "В столбце `internal` бОльшая часть пропусков - входящие вызовы. Есть предположение, что это были внешние вызовы, при которых произошла ошибка фиксации номера звонившего абонента (например, скрытый номер). Удалили пропуски.\n",
    "\n",
    "\n",
    "В `clients` пропуски отсутствуют."
   ]
  },
  {
   "cell_type": "markdown",
   "id": "b267ea67",
   "metadata": {},
   "source": [
    "### Типы данных"
   ]
  },
  {
   "cell_type": "code",
   "execution_count": 15,
   "id": "63217b7a",
   "metadata": {
    "scrolled": true
   },
   "outputs": [
    {
     "name": "stdout",
     "output_type": "stream",
     "text": [
      "<class 'pandas.core.frame.DataFrame'>\n",
      "Int64Index: 48892 entries, 0 to 53901\n",
      "Data columns (total 9 columns):\n",
      " #   Column               Non-Null Count  Dtype  \n",
      "---  ------               --------------  -----  \n",
      " 0   user_id              48892 non-null  int64  \n",
      " 1   date                 48892 non-null  object \n",
      " 2   direction            48892 non-null  object \n",
      " 3   internal             48892 non-null  object \n",
      " 4   operator_id          48892 non-null  float64\n",
      " 5   is_missed_call       48892 non-null  bool   \n",
      " 6   calls_count          48892 non-null  int64  \n",
      " 7   call_duration        48892 non-null  int64  \n",
      " 8   total_call_duration  48892 non-null  int64  \n",
      "dtypes: bool(1), float64(1), int64(4), object(3)\n",
      "memory usage: 3.4+ MB\n"
     ]
    }
   ],
   "source": [
    "data.info()"
   ]
  },
  {
   "cell_type": "markdown",
   "id": "4bc3f0f3",
   "metadata": {},
   "source": [
    "Необходимо привести данные столбца `date` к типу данных `datetime` и оставить только дату, а также данные столбца `internal` к типу `bool` и данные столбца `operator_id` к типу `int`."
   ]
  },
  {
   "cell_type": "code",
   "execution_count": 16,
   "id": "c2b9e591",
   "metadata": {
    "scrolled": false
   },
   "outputs": [
    {
     "name": "stdout",
     "output_type": "stream",
     "text": [
      "<class 'pandas.core.frame.DataFrame'>\n",
      "Int64Index: 48892 entries, 0 to 53901\n",
      "Data columns (total 9 columns):\n",
      " #   Column               Non-Null Count  Dtype         \n",
      "---  ------               --------------  -----         \n",
      " 0   user_id              48892 non-null  int64         \n",
      " 1   date                 48892 non-null  datetime64[ns]\n",
      " 2   direction            48892 non-null  object        \n",
      " 3   internal             48892 non-null  bool          \n",
      " 4   operator_id          48892 non-null  int32         \n",
      " 5   is_missed_call       48892 non-null  bool          \n",
      " 6   calls_count          48892 non-null  int64         \n",
      " 7   call_duration        48892 non-null  int64         \n",
      " 8   total_call_duration  48892 non-null  int64         \n",
      "dtypes: bool(2), datetime64[ns](1), int32(1), int64(4), object(1)\n",
      "memory usage: 2.9+ MB\n"
     ]
    }
   ],
   "source": [
    "data['date'] = pd.to_datetime(pd.to_datetime(data['date']).dt.date)\n",
    "data['internal'] = data['internal'].astype(bool)\n",
    "data['operator_id'] = data['operator_id'].astype('int')\n",
    "# проверка\n",
    "data.info()"
   ]
  },
  {
   "cell_type": "code",
   "execution_count": 17,
   "id": "73834801",
   "metadata": {},
   "outputs": [
    {
     "name": "stdout",
     "output_type": "stream",
     "text": [
      "<class 'pandas.core.frame.DataFrame'>\n",
      "RangeIndex: 732 entries, 0 to 731\n",
      "Data columns (total 3 columns):\n",
      " #   Column       Non-Null Count  Dtype \n",
      "---  ------       --------------  ----- \n",
      " 0   user_id      732 non-null    int64 \n",
      " 1   tariff_plan  732 non-null    object\n",
      " 2   date_start   732 non-null    object\n",
      "dtypes: int64(1), object(2)\n",
      "memory usage: 17.3+ KB\n"
     ]
    }
   ],
   "source": [
    "clients.info()"
   ]
  },
  {
   "cell_type": "markdown",
   "id": "aaaf1700",
   "metadata": {},
   "source": [
    "Изменим тип данных столбца `date_start` на `datetime`."
   ]
  },
  {
   "cell_type": "code",
   "execution_count": 18,
   "id": "c68c4338",
   "metadata": {},
   "outputs": [
    {
     "name": "stdout",
     "output_type": "stream",
     "text": [
      "<class 'pandas.core.frame.DataFrame'>\n",
      "RangeIndex: 732 entries, 0 to 731\n",
      "Data columns (total 3 columns):\n",
      " #   Column       Non-Null Count  Dtype         \n",
      "---  ------       --------------  -----         \n",
      " 0   user_id      732 non-null    int64         \n",
      " 1   tariff_plan  732 non-null    object        \n",
      " 2   date_start   732 non-null    datetime64[ns]\n",
      "dtypes: datetime64[ns](1), int64(1), object(1)\n",
      "memory usage: 17.3+ KB\n"
     ]
    }
   ],
   "source": [
    "clients['date_start'] = pd.to_datetime(pd.to_datetime(clients['date_start']).dt.date)\n",
    "# проверка\n",
    "clients.info()"
   ]
  },
  {
   "cell_type": "markdown",
   "id": "9444d232",
   "metadata": {},
   "source": [
    "### Время ожидания"
   ]
  },
  {
   "cell_type": "markdown",
   "id": "3423143c",
   "metadata": {},
   "source": [
    "Для дальнейшего исследования и определения порогов критериев эффективности необходимо создать столбец с временем ожидания."
   ]
  },
  {
   "cell_type": "code",
   "execution_count": 19,
   "id": "36446f80",
   "metadata": {
    "scrolled": true
   },
   "outputs": [
    {
     "data": {
      "text/html": [
       "<div>\n",
       "<style scoped>\n",
       "    .dataframe tbody tr th:only-of-type {\n",
       "        vertical-align: middle;\n",
       "    }\n",
       "\n",
       "    .dataframe tbody tr th {\n",
       "        vertical-align: top;\n",
       "    }\n",
       "\n",
       "    .dataframe thead th {\n",
       "        text-align: right;\n",
       "    }\n",
       "</style>\n",
       "<table border=\"1\" class=\"dataframe\">\n",
       "  <thead>\n",
       "    <tr style=\"text-align: right;\">\n",
       "      <th></th>\n",
       "      <th>user_id</th>\n",
       "      <th>date</th>\n",
       "      <th>direction</th>\n",
       "      <th>internal</th>\n",
       "      <th>operator_id</th>\n",
       "      <th>is_missed_call</th>\n",
       "      <th>calls_count</th>\n",
       "      <th>call_duration</th>\n",
       "      <th>total_call_duration</th>\n",
       "      <th>waiting</th>\n",
       "    </tr>\n",
       "  </thead>\n",
       "  <tbody>\n",
       "    <tr>\n",
       "      <th>0</th>\n",
       "      <td>166377</td>\n",
       "      <td>2019-08-04</td>\n",
       "      <td>in</td>\n",
       "      <td>False</td>\n",
       "      <td>1</td>\n",
       "      <td>True</td>\n",
       "      <td>2</td>\n",
       "      <td>0</td>\n",
       "      <td>4</td>\n",
       "      <td>4</td>\n",
       "    </tr>\n",
       "    <tr>\n",
       "      <th>1</th>\n",
       "      <td>166377</td>\n",
       "      <td>2019-08-05</td>\n",
       "      <td>out</td>\n",
       "      <td>True</td>\n",
       "      <td>880022</td>\n",
       "      <td>True</td>\n",
       "      <td>3</td>\n",
       "      <td>0</td>\n",
       "      <td>5</td>\n",
       "      <td>5</td>\n",
       "    </tr>\n",
       "    <tr>\n",
       "      <th>2</th>\n",
       "      <td>166377</td>\n",
       "      <td>2019-08-05</td>\n",
       "      <td>out</td>\n",
       "      <td>True</td>\n",
       "      <td>880020</td>\n",
       "      <td>True</td>\n",
       "      <td>1</td>\n",
       "      <td>0</td>\n",
       "      <td>1</td>\n",
       "      <td>1</td>\n",
       "    </tr>\n",
       "    <tr>\n",
       "      <th>3</th>\n",
       "      <td>166377</td>\n",
       "      <td>2019-08-05</td>\n",
       "      <td>out</td>\n",
       "      <td>True</td>\n",
       "      <td>880020</td>\n",
       "      <td>False</td>\n",
       "      <td>1</td>\n",
       "      <td>10</td>\n",
       "      <td>18</td>\n",
       "      <td>8</td>\n",
       "    </tr>\n",
       "    <tr>\n",
       "      <th>4</th>\n",
       "      <td>166377</td>\n",
       "      <td>2019-08-05</td>\n",
       "      <td>out</td>\n",
       "      <td>False</td>\n",
       "      <td>880022</td>\n",
       "      <td>True</td>\n",
       "      <td>3</td>\n",
       "      <td>0</td>\n",
       "      <td>25</td>\n",
       "      <td>25</td>\n",
       "    </tr>\n",
       "  </tbody>\n",
       "</table>\n",
       "</div>"
      ],
      "text/plain": [
       "   user_id       date direction  internal  operator_id  is_missed_call  \\\n",
       "0   166377 2019-08-04        in     False            1            True   \n",
       "1   166377 2019-08-05       out      True       880022            True   \n",
       "2   166377 2019-08-05       out      True       880020            True   \n",
       "3   166377 2019-08-05       out      True       880020           False   \n",
       "4   166377 2019-08-05       out     False       880022            True   \n",
       "\n",
       "   calls_count  call_duration  total_call_duration  waiting  \n",
       "0            2              0                    4        4  \n",
       "1            3              0                    5        5  \n",
       "2            1              0                    1        1  \n",
       "3            1             10                   18        8  \n",
       "4            3              0                   25       25  "
      ]
     },
     "execution_count": 19,
     "metadata": {},
     "output_type": "execute_result"
    }
   ],
   "source": [
    "data['waiting'] = data['total_call_duration'] - data['call_duration']\n",
    "# проверка\n",
    "data.head()"
   ]
  },
  {
   "cell_type": "markdown",
   "id": "22f53d7d",
   "metadata": {},
   "source": [
    "**Вывод:** Проведена предобработка данных:\n",
    "- удалены явные дубликаты\n",
    "- удалили 0.2% пропусков в `internal`\n",
    "- пропуски в `operator_id` заполнили 1\n",
    "- изменили типы данных, где необходимо\n",
    "- создан столбец с временем ожидания.\n",
    "\n",
    "Данные готовы к дальнейшему исследованию."
   ]
  },
  {
   "cell_type": "markdown",
   "id": "9b3cf127",
   "metadata": {},
   "source": [
    "## Исследовательский анализ"
   ]
  },
  {
   "cell_type": "markdown",
   "id": "8bd864ab",
   "metadata": {},
   "source": [
    "### Временной период"
   ]
  },
  {
   "cell_type": "markdown",
   "id": "eae4aaca",
   "metadata": {},
   "source": [
    "Определим период, за который имеются данные в `data`. Для этого найдём минимальную и максимальную даты в столбце `date`."
   ]
  },
  {
   "cell_type": "code",
   "execution_count": 20,
   "id": "54d5c9b5",
   "metadata": {},
   "outputs": [
    {
     "name": "stdout",
     "output_type": "stream",
     "text": [
      "Период данных: с 2019-08-02 по 2019-11-28\n"
     ]
    }
   ],
   "source": [
    "print('Период данных: с {} по {}'.format(data['date'].dt.date.min(), data['date'].dt.date.max()))"
   ]
  },
  {
   "cell_type": "markdown",
   "id": "d0861597",
   "metadata": {},
   "source": [
    "**Вывод:** Итого у нас имеются данные за 4 неполных месяца со 2 августа по 28 ноября 2019 года."
   ]
  },
  {
   "cell_type": "markdown",
   "id": "f149a6d5",
   "metadata": {},
   "source": [
    "### Длительность вызовов и единицы измерения"
   ]
  },
  {
   "cell_type": "code",
   "execution_count": 21,
   "id": "9bdabe3f",
   "metadata": {
    "scrolled": false
   },
   "outputs": [
    {
     "data": {
      "image/png": "[encoded data removed]",
      "text/plain": [
       "<Figure size 1000x500 with 1 Axes>"
      ]
     },
     "metadata": {},
     "output_type": "display_data"
    }
   ],
   "source": [
    "data['call_duration'].hist(bins=50, figsize=(10, 5))\n",
    "plt.title('Распределение длительности звонков')\n",
    "plt.xlabel('Длительность звонков')\n",
    "plt.show()"
   ]
  },
  {
   "cell_type": "markdown",
   "id": "acb34fb2",
   "metadata": {},
   "source": [
    "Разброс длительности звонков очень большой, имеются выбросы."
   ]
  },
  {
   "cell_type": "code",
   "execution_count": 22,
   "id": "460e3cbb",
   "metadata": {
    "scrolled": true
   },
   "outputs": [
    {
     "data": {
      "text/plain": [
       "count     48892.000000\n",
       "mean        868.088788\n",
       "std        3779.549967\n",
       "min           0.000000\n",
       "25%           0.000000\n",
       "50%          37.000000\n",
       "75%         573.000000\n",
       "max      144395.000000\n",
       "Name: call_duration, dtype: float64"
      ]
     },
     "execution_count": 22,
     "metadata": {},
     "output_type": "execute_result"
    }
   ],
   "source": [
    "data['call_duration'].describe()"
   ]
  },
  {
   "cell_type": "markdown",
   "id": "5a0087fc",
   "metadata": {},
   "source": [
    "Возьмём средннее значение - 868 единиц времени и предположим, что это минуты или секунды."
   ]
  },
  {
   "cell_type": "code",
   "execution_count": 23,
   "id": "c8cd21d6",
   "metadata": {},
   "outputs": [
    {
     "name": "stdout",
     "output_type": "stream",
     "text": [
      "868 секунд это 0.24 часов\n",
      "868 минут это 14.4 часов\n"
     ]
    }
   ],
   "source": [
    "print('868 секунд это {} часов'.format(round(866/3600, 2)))\n",
    "print('868 минут это {} часов'.format(round(866/60, 1)))"
   ]
  },
  {
   "cell_type": "markdown",
   "id": "a21ae09b",
   "metadata": {},
   "source": [
    "Средняя длительность звонков ~15 минут (0.24 часа) - не правдоподобно.\n",
    "\n",
    "14.4 часа выглядит более реальным, значит, **временные значения в датафрейме представлены в минутах**.\n",
    "\n",
    "В данных присутствуют выбросы. Например, максимальная длительность составляет 144395 минут, это 2406 часов, что явно не может являться длительностью всех звонков одного оператора за один день, даже если это суточная смена.\n",
    "\n",
    "Допустим, суточные смены для операторов имеют место быть. Стоит учесть, что у работника должен быть перерыв на обед, а также оператор не может абсолютно каждую минуту говорить по телефону. Принимая во внимание эти факторы, отнимем от 24 часов 2 часа на обед и перерывы, итого получаем 22 часа полного рабочего времени, или 1320 минут. Срежем строки с длительностью звонков выше 1320 минут."
   ]
  },
  {
   "cell_type": "code",
   "execution_count": 24,
   "id": "82d76587",
   "metadata": {},
   "outputs": [
    {
     "data": {
      "text/plain": [
       "48892"
      ]
     },
     "execution_count": 24,
     "metadata": {},
     "output_type": "execute_result"
    }
   ],
   "source": [
    "data.shape[0]"
   ]
  },
  {
   "cell_type": "code",
   "execution_count": 25,
   "id": "04f68dda",
   "metadata": {},
   "outputs": [
    {
     "name": "stdout",
     "output_type": "stream",
     "text": [
      "Удалили 7303 строк (14.9%)\n"
     ]
    }
   ],
   "source": [
    "data = data.query('call_duration < 1320')\n",
    "print('Удалили {} строк ({}%)'.format((48892-data.shape[0]), round((48892-data.shape[0])/48892*100, 1)))"
   ]
  },
  {
   "cell_type": "markdown",
   "id": "28d1d9c1",
   "metadata": {},
   "source": [
    "Для исходящих вызовов время ожидания принятия звонка также входит в рабочее время. Рассмотрим распределение полной длительности исходящих вызовов."
   ]
  },
  {
   "cell_type": "code",
   "execution_count": 26,
   "id": "47cc23d0",
   "metadata": {},
   "outputs": [
    {
     "data": {
      "image/png": "[encoded data removed]",
      "text/plain": [
       "<Figure size 1000x500 with 1 Axes>"
      ]
     },
     "metadata": {},
     "output_type": "display_data"
    }
   ],
   "source": [
    "data.query('direction == \"out\"')['total_call_duration'].hist(bins=50, figsize=(10, 5))\n",
    "plt.title('Распределение полной длительности исходящих звонков')\n",
    "plt.xlabel('Полная длительность исходящих звонков')\n",
    "plt.show()"
   ]
  },
  {
   "cell_type": "code",
   "execution_count": 27,
   "id": "1103003e",
   "metadata": {},
   "outputs": [
    {
     "data": {
      "text/plain": [
       "count    23735.000000\n",
       "mean       457.907226\n",
       "std       1222.199335\n",
       "min          0.000000\n",
       "25%         40.000000\n",
       "50%        163.000000\n",
       "75%        534.000000\n",
       "max      45312.000000\n",
       "Name: total_call_duration, dtype: float64"
      ]
     },
     "execution_count": 27,
     "metadata": {},
     "output_type": "execute_result"
    }
   ],
   "source": [
    "data.query('direction == \"out\"')['total_call_duration'].describe()"
   ]
  },
  {
   "cell_type": "markdown",
   "id": "566b25dc",
   "metadata": {},
   "source": [
    "Имеются выбросы. Также отбросим данные с полной длительностью исходящих вызовов выше 1320 минут."
   ]
  },
  {
   "cell_type": "code",
   "execution_count": 28,
   "id": "1fac0774",
   "metadata": {
    "scrolled": true
   },
   "outputs": [
    {
     "data": {
      "text/plain": [
       "41589"
      ]
     },
     "execution_count": 28,
     "metadata": {},
     "output_type": "execute_result"
    }
   ],
   "source": [
    "data.shape[0]"
   ]
  },
  {
   "cell_type": "code",
   "execution_count": 29,
   "id": "07f98a55",
   "metadata": {},
   "outputs": [
    {
     "name": "stdout",
     "output_type": "stream",
     "text": [
      "Удалили 1529 строк (3.7%)\n"
     ]
    }
   ],
   "source": [
    "data = data.loc[((data['total_call_duration'] < 1320) & (data['direction'] == \"out\")) | (data['direction'] == \"in\")]\n",
    "print('Удалили {} строк ({}%)'.format((41589-data.shape[0]), round((41589-data.shape[0])/41589*100, 1)))"
   ]
  },
  {
   "cell_type": "markdown",
   "id": "d6748438",
   "metadata": {},
   "source": [
    "**Вывод:** Почистили данные от аномально длинных звонков за день. Определили, что данные о длительности звонков представлены в минутах."
   ]
  },
  {
   "cell_type": "markdown",
   "id": "fe9784fc",
   "metadata": {},
   "source": [
    "### Количество клиентов и операторов"
   ]
  },
  {
   "cell_type": "code",
   "execution_count": 30,
   "id": "b460b19e",
   "metadata": {
    "scrolled": false
   },
   "outputs": [
    {
     "name": "stdout",
     "output_type": "stream",
     "text": [
      "Количество уникальных колл-центров: 307\n",
      "Количество уникальных операторов: 1088\n"
     ]
    }
   ],
   "source": [
    "print('Количество уникальных колл-центров: {}'.format(data['user_id'].nunique()))\n",
    "print('Количество уникальных операторов: {}'.format(data['operator_id'].nunique()))"
   ]
  },
  {
   "cell_type": "markdown",
   "id": "622049b8",
   "metadata": {},
   "source": [
    "Посмотрим на рапределение количества операторов по колл-центрам."
   ]
  },
  {
   "cell_type": "code",
   "execution_count": 31,
   "id": "80534f9a",
   "metadata": {},
   "outputs": [
    {
     "data": {
      "image/png": "[encoded data removed]",
      "text/plain": [
       "<Figure size 1000x500 with 1 Axes>"
      ]
     },
     "metadata": {},
     "output_type": "display_data"
    }
   ],
   "source": [
    "(\n",
    "    data\n",
    "    .groupby('user_id')\n",
    "    .agg({'operator_id': 'nunique'})\n",
    "    .hist(bins=51, figsize=(10, 5))\n",
    ")\n",
    "plt.title('Распределение количества операторов в колл-центрах')\n",
    "plt.xlabel('Количество операторов')\n",
    "plt.ylabel('Частота')\n",
    "plt.show()"
   ]
  },
  {
   "cell_type": "code",
   "execution_count": 32,
   "id": "1c027d58",
   "metadata": {},
   "outputs": [
    {
     "data": {
      "text/html": [
       "<div>\n",
       "<style scoped>\n",
       "    .dataframe tbody tr th:only-of-type {\n",
       "        vertical-align: middle;\n",
       "    }\n",
       "\n",
       "    .dataframe tbody tr th {\n",
       "        vertical-align: top;\n",
       "    }\n",
       "\n",
       "    .dataframe thead th {\n",
       "        text-align: right;\n",
       "    }\n",
       "</style>\n",
       "<table border=\"1\" class=\"dataframe\">\n",
       "  <thead>\n",
       "    <tr style=\"text-align: right;\">\n",
       "      <th></th>\n",
       "      <th>operator_id</th>\n",
       "    </tr>\n",
       "  </thead>\n",
       "  <tbody>\n",
       "    <tr>\n",
       "      <th>count</th>\n",
       "      <td>307.000000</td>\n",
       "    </tr>\n",
       "    <tr>\n",
       "      <th>mean</th>\n",
       "      <td>4.534202</td>\n",
       "    </tr>\n",
       "    <tr>\n",
       "      <th>std</th>\n",
       "      <td>5.576676</td>\n",
       "    </tr>\n",
       "    <tr>\n",
       "      <th>min</th>\n",
       "      <td>1.000000</td>\n",
       "    </tr>\n",
       "    <tr>\n",
       "      <th>25%</th>\n",
       "      <td>2.000000</td>\n",
       "    </tr>\n",
       "    <tr>\n",
       "      <th>50%</th>\n",
       "      <td>3.000000</td>\n",
       "    </tr>\n",
       "    <tr>\n",
       "      <th>75%</th>\n",
       "      <td>5.000000</td>\n",
       "    </tr>\n",
       "    <tr>\n",
       "      <th>max</th>\n",
       "      <td>51.000000</td>\n",
       "    </tr>\n",
       "  </tbody>\n",
       "</table>\n",
       "</div>"
      ],
      "text/plain": [
       "       operator_id\n",
       "count   307.000000\n",
       "mean      4.534202\n",
       "std       5.576676\n",
       "min       1.000000\n",
       "25%       2.000000\n",
       "50%       3.000000\n",
       "75%       5.000000\n",
       "max      51.000000"
      ]
     },
     "execution_count": 32,
     "metadata": {},
     "output_type": "execute_result"
    }
   ],
   "source": [
    "data.groupby('user_id').agg({'operator_id': 'nunique'}).describe()"
   ]
  },
  {
   "cell_type": "markdown",
   "id": "54f22900",
   "metadata": {},
   "source": [
    "**Вывод:** Половина колл-центров имеет в штате не более трёх операторов, 75% колл-центров - не более пяти операторов. Максимальное количество - 51."
   ]
  },
  {
   "cell_type": "markdown",
   "id": "55db4d73",
   "metadata": {},
   "source": [
    "### Количество звонков по дням"
   ]
  },
  {
   "cell_type": "code",
   "execution_count": 33,
   "id": "ec188c7a",
   "metadata": {},
   "outputs": [
    {
     "data": {
      "image/png": "[encoded data removed]",
      "text/plain": [
       "<Figure size 1100x500 with 1 Axes>"
      ]
     },
     "metadata": {},
     "output_type": "display_data"
    }
   ],
   "source": [
    "daily_calls = (\n",
    "    data\n",
    "    .groupby('date')\n",
    "    .agg({'calls_count': 'sum'})\n",
    "    .reset_index()\n",
    ")\n",
    "daily_calls.columns = ['date', 'all']\n",
    "plt.figure(figsize=(11, 5))\n",
    "plt.title('Количество звонков по дням')\n",
    "plt.bar(x=daily_calls['date'], height=daily_calls['all'])\n",
    "plt.xticks(rotation=45)\n",
    "plt.show()"
   ]
  },
  {
   "cell_type": "markdown",
   "id": "e95f64fd",
   "metadata": {},
   "source": [
    "Наблюдается постепенный рост количества звонков. Возможно, в начале периода собирались не все данные.\n",
    "\n",
    "Также на графиках наблюдаются резкие спады количества звонков в определённые дни. Предположим, что это происходит в выходные дни. Добавим в датафрейм столбец с номером дня недели и посмотрим на распределение звонков."
   ]
  },
  {
   "cell_type": "code",
   "execution_count": 34,
   "id": "fb206fd6",
   "metadata": {
    "scrolled": false
   },
   "outputs": [
    {
     "data": {
      "image/png": "[encoded data removed]",
      "text/plain": [
       "<Figure size 1100x500 with 1 Axes>"
      ]
     },
     "metadata": {},
     "output_type": "display_data"
    }
   ],
   "source": [
    "data['wd'] = data['date'].dt.weekday\n",
    "wd_calls = (\n",
    "    data\n",
    "    .groupby('wd')\n",
    "    .agg({'calls_count': 'sum'})\n",
    "    .reset_index()\n",
    ")\n",
    "plt.figure(figsize=(11, 5))\n",
    "plt.bar(x=wd_calls['wd'], height=wd_calls['calls_count'])\n",
    "plt.show()"
   ]
  },
  {
   "cell_type": "markdown",
   "id": "b63b81d7",
   "metadata": {},
   "source": [
    "**Вывод:** В субботу и воскресенье значительно меньше звонков. Значит, в выходные дни работает меньше операторов либо часть колл-центров полностью на пятидневке.\n",
    "\n",
    "Количество звонков в день постепенно растёт - возможно, в начале периода собирались не все данные."
   ]
  },
  {
   "cell_type": "markdown",
   "id": "e57e73e3",
   "metadata": {},
   "source": [
    "### Доля входящих и исходящих вызовов от общего количества звонков"
   ]
  },
  {
   "cell_type": "markdown",
   "id": "4194c951",
   "metadata": {},
   "source": [
    "Посмотрим на соотношение количества исходящих и входящих вызовов к общему числу ежедневных звонков."
   ]
  },
  {
   "cell_type": "code",
   "execution_count": 35,
   "id": "6064adee",
   "metadata": {
    "scrolled": false
   },
   "outputs": [
    {
     "data": {
      "image/png": "[encoded data removed]",
      "text/plain": [
       "<Figure size 1100x500 with 1 Axes>"
      ]
     },
     "metadata": {},
     "output_type": "display_data"
    }
   ],
   "source": [
    "# ежедневное количество входящих звонков\n",
    "daily_in_calls = (\n",
    "    data\n",
    "    .query('direction == \"in\"')\n",
    "    .groupby('date')\n",
    "    .agg({'calls_count': 'sum'})\n",
    "    .reset_index()\n",
    ")\n",
    "daily_in_calls.columns = ['date', 'in']\n",
    "\n",
    "# ежедневное количество исходящих звонков\n",
    "daily_out_calls = (\n",
    "    data\n",
    "    .query('direction == \"out\"')\n",
    "    .groupby('date')\n",
    "    .agg({'calls_count': 'sum'})\n",
    "    .reset_index()\n",
    ")\n",
    "daily_out_calls.columns = ['date', 'out']\n",
    "\n",
    "# объединение двух таблиц с общим числом звонков и числом входящих\n",
    "daily_calls = daily_calls.merge(daily_in_calls, how='left', left_on='date', right_on='date')\n",
    "daily_calls = daily_calls.fillna(0)\n",
    "# процент входящих от общего количества звонков\n",
    "daily_calls['in_perc'] = round(daily_calls['in'] / daily_calls['all'] * 100, 1)\n",
    "\n",
    "# присоединяем табоицу с исходящими звонками\n",
    "daily_calls = daily_calls.merge(daily_out_calls, how='left', left_on='date', right_on='date')\n",
    "daily_calls = daily_calls.fillna(0)\n",
    "# процент исходящих\n",
    "daily_calls['out_perc'] = round(daily_calls['out'] / daily_calls['all'] * 100, 1)\n",
    "daily_calls = daily_calls.set_index('date')\n",
    "\n",
    "# график процентов исходящих и входящих по дням\n",
    "daily_calls[['in_perc', 'out_perc']].plot(figsize=(11, 5))\n",
    "plt.axhline(y=70, color='red', linestyle='--')\n",
    "plt.axhline(y=30, color='blue', linestyle='--')\n",
    "plt.title('Процент исходящих и входящих вызовов от общего количества по дням')\n",
    "plt.xlabel('Дата')\n",
    "plt.show();"
   ]
  },
  {
   "cell_type": "markdown",
   "id": "9b840aae",
   "metadata": {},
   "source": [
    "**Вывод:** Доли исходящих и входящих вызовов колеблются в диапазоне 30-70%. Нет явного преобладания одного типа звонков."
   ]
  },
  {
   "cell_type": "markdown",
   "id": "36ba4dff",
   "metadata": {},
   "source": [
    "### Обзванивающие и принимающие колл-центры"
   ]
  },
  {
   "cell_type": "markdown",
   "id": "1dd00242",
   "metadata": {},
   "source": [
    "Для определения эффективности сотрудников необходимо разделить колл-центры на обзванивающие и принимающие. \n",
    "\n",
    "Для этого:\n",
    "- исключим внутренние звонки\n",
    "- сгруппируем данные по id клиента и посчитаем общее количество звонков, количество входящих и исходящих звонков и их процент относительно общего количества вызовов\n",
    "- примем, что для обзванивающих КЦ процент исходящих вызовов больше 50, а для принимающих процент входящих вызовов больше 50\n",
    "- разделим данные на два датафрейма с разными типами колл-центров."
   ]
  },
  {
   "cell_type": "code",
   "execution_count": 36,
   "id": "b46f865d",
   "metadata": {},
   "outputs": [],
   "source": [
    "# отфильтруем только входящие внешние звонки и посчитаем их количество для каждого колл-центра\n",
    "data_in = (\n",
    "    data\n",
    "    .query('internal == False and direction == \"in\"')\n",
    "    .groupby('user_id')\n",
    "    .agg({'calls_count': 'sum'})\n",
    "    .reset_index()\n",
    ")\n",
    "data_in.columns = ['user_id', 'in']\n",
    "\n",
    "# то же самое сделаем для внешних исходящих звонков\n",
    "data_out = (\n",
    "    data\n",
    "    .query('internal == False and direction == \"out\"')\n",
    "    .groupby('user_id')\n",
    "    .agg({'calls_count': 'sum'})\n",
    "    .reset_index()\n",
    ")\n",
    "data_out.columns = ['user_id', 'out']\n",
    "\n",
    "# посчитаем общее количество внешних звонков для всех колл-центров\n",
    "data_all = data.query('internal == False').groupby('user_id').agg({'calls_count': 'sum'}).reset_index()\n",
    "data_all.columns = ['user_id', 'all']\n",
    "\n",
    "# объединим все три таблицы и посчитаем процент входящих и исходящих звонков от общего числа\n",
    "data_cc_type = data_all.merge(data_in, how='left', left_on='user_id', right_on='user_id')\n",
    "data_cc_type = data_cc_type.fillna(0)\n",
    "data_cc_type['in_perc'] = round(data_cc_type['in'] / data_cc_type['all'] * 100, 1)\n",
    "\n",
    "data_cc_type = data_cc_type.merge(data_out, how='left', left_on='user_id', right_on='user_id')\n",
    "data_cc_type = data_cc_type.fillna(0)\n",
    "data_cc_type['out_perc'] = round(data_cc_type['out'] / data_cc_type['all'] * 100, 1)\n",
    "\n",
    "# примем, что для принимающих КЦ процент входящих звонков > 50, для обзванивающих КЦ процент исходящих звонков > 50\n",
    "# создадим списки с обзванивающими и принимающими КЦ\n",
    "cc_in = data_cc_type.query('in_perc > 50')['user_id']\n",
    "cc_out = data_cc_type.query('out_perc > 50')['user_id']\n",
    "\n",
    "# создадим два датафрейма для обзванивающих и принимающих КЦ\n",
    "data_cc_in = data.query('user_id in @cc_in')\n",
    "data_cc_out = data.query('user_id in @cc_out')"
   ]
  },
  {
   "cell_type": "markdown",
   "id": "bdfba090",
   "metadata": {},
   "source": [
    "### Количество и процент пропущенных звонков"
   ]
  },
  {
   "cell_type": "markdown",
   "id": "425ef259",
   "metadata": {},
   "source": [
    "Данная метрика важна для оценки эффективности операторов принимающих колл-центров, поэтому рассмотрим этот показатель только для этого типа колл-центров."
   ]
  },
  {
   "cell_type": "code",
   "execution_count": 37,
   "id": "2f64ec51",
   "metadata": {},
   "outputs": [
    {
     "name": "stdout",
     "output_type": "stream",
     "text": [
      "Общее количество пропущенных вызовов в принимающих колл-центрах: 86739\n",
      "Доля пропущенных вызовов от общего количества внешних входящих: 81.5%\n"
     ]
    }
   ],
   "source": [
    "print('Общее количество пропущенных вызовов в принимающих колл-центрах: {}'\n",
    "      .format(data_cc_in.query('is_missed_call == True and direction == \"in\"')['calls_count'].sum()))\n",
    "print('Доля пропущенных вызовов от общего количества внешних входящих: {}%'\n",
    "      .format(round(data_cc_in.query('is_missed_call == True and direction == \"in\"')['calls_count'].sum() / \n",
    "                    data_cc_in.query('direction == \"in\"')['calls_count'].sum() * 100, 1)))"
   ]
  },
  {
   "cell_type": "markdown",
   "id": "5993efc9",
   "metadata": {},
   "source": [
    "Более 80% вызовов пропущены.\n",
    "\n",
    "Рассмотрим распределение доли пропущенных вызовов по операторам."
   ]
  },
  {
   "cell_type": "code",
   "execution_count": 38,
   "id": "e87643c2",
   "metadata": {
    "scrolled": false
   },
   "outputs": [
    {
     "data": {
      "image/png": "[encoded data removed]",
      "text/plain": [
       "<Figure size 1000x500 with 1 Axes>"
      ]
     },
     "metadata": {},
     "output_type": "display_data"
    }
   ],
   "source": [
    "# количество пропущенных звонков по операторам\n",
    "op_missed_calls = (\n",
    "    data_cc_in\n",
    "    .query('is_missed_call == True and direction == \"in\"')\n",
    "    .groupby('operator_id')\n",
    "    .agg({'calls_count': 'sum'})\n",
    "    .reset_index()\n",
    ")\n",
    "op_missed_calls.columns = ['operator_id', 'missed_calls']\n",
    "\n",
    "# общее количество входящих звонков по операторам\n",
    "op_all_calls = (\n",
    "    data_cc_in\n",
    "    .query('direction == \"in\"')\n",
    "    .groupby('operator_id')\n",
    "    .agg({'calls_count': 'sum'})\n",
    "    .reset_index()\n",
    ")\n",
    "op_all_calls.columns = ['operator_id', 'all_calls']\n",
    "\n",
    "# объединение двух таблиц\n",
    "op_in_calls = op_all_calls.merge(op_missed_calls, how='left', left_on='operator_id', right_on='operator_id')\n",
    "op_in_calls = op_in_calls.fillna(0)\n",
    "# рассчёт процента пропущенных\n",
    "op_in_calls['missed_perc'] = round(op_in_calls['missed_calls'] / op_in_calls['all_calls'] * 100, 1)\n",
    "\n",
    "# распределение процента пропущенных\n",
    "op_in_calls['missed_perc'].hist(bins=100, figsize=(10, 5))\n",
    "plt.title('Распределение процента пропущенных внешних вызовов от общего числа входящих для принимающих колл-центров')\n",
    "plt.xlabel('Процент пропущенных вызовов')\n",
    "plt.show()"
   ]
  },
  {
   "cell_type": "code",
   "execution_count": 39,
   "id": "0da712f1",
   "metadata": {},
   "outputs": [
    {
     "data": {
      "text/plain": [
       "count    403.000000\n",
       "mean       3.814144\n",
       "std       12.062772\n",
       "min        0.000000\n",
       "25%        0.000000\n",
       "50%        0.000000\n",
       "75%        1.850000\n",
       "max      100.000000\n",
       "Name: missed_perc, dtype: float64"
      ]
     },
     "execution_count": 39,
     "metadata": {},
     "output_type": "execute_result"
    }
   ],
   "source": [
    "op_in_calls['missed_perc'].describe()"
   ]
  },
  {
   "cell_type": "code",
   "execution_count": 40,
   "id": "a9f8a540",
   "metadata": {},
   "outputs": [
    {
     "data": {
      "text/html": [
       "<div>\n",
       "<style scoped>\n",
       "    .dataframe tbody tr th:only-of-type {\n",
       "        vertical-align: middle;\n",
       "    }\n",
       "\n",
       "    .dataframe tbody tr th {\n",
       "        vertical-align: top;\n",
       "    }\n",
       "\n",
       "    .dataframe thead th {\n",
       "        text-align: right;\n",
       "    }\n",
       "</style>\n",
       "<table border=\"1\" class=\"dataframe\">\n",
       "  <thead>\n",
       "    <tr style=\"text-align: right;\">\n",
       "      <th></th>\n",
       "      <th>operator_id</th>\n",
       "      <th>all_calls</th>\n",
       "      <th>missed_calls</th>\n",
       "      <th>missed_perc</th>\n",
       "    </tr>\n",
       "  </thead>\n",
       "  <tbody>\n",
       "    <tr>\n",
       "      <th>0</th>\n",
       "      <td>1</td>\n",
       "      <td>86152</td>\n",
       "      <td>86112.0</td>\n",
       "      <td>100.0</td>\n",
       "    </tr>\n",
       "    <tr>\n",
       "      <th>183</th>\n",
       "      <td>919204</td>\n",
       "      <td>9</td>\n",
       "      <td>9.0</td>\n",
       "      <td>100.0</td>\n",
       "    </tr>\n",
       "    <tr>\n",
       "      <th>184</th>\n",
       "      <td>919206</td>\n",
       "      <td>9</td>\n",
       "      <td>9.0</td>\n",
       "      <td>100.0</td>\n",
       "    </tr>\n",
       "  </tbody>\n",
       "</table>\n",
       "</div>"
      ],
      "text/plain": [
       "     operator_id  all_calls  missed_calls  missed_perc\n",
       "0              1      86152       86112.0        100.0\n",
       "183       919204          9           9.0        100.0\n",
       "184       919206          9           9.0        100.0"
      ]
     },
     "execution_count": 40,
     "metadata": {},
     "output_type": "execute_result"
    }
   ],
   "source": [
    "op_in_calls.query('missed_perc == 100')"
   ]
  },
  {
   "cell_type": "markdown",
   "id": "9d1a35da",
   "metadata": {},
   "source": [
    "Больше половины операторов не имеет пропущенных вызовов. Есть два оператора, пропустивших все звонки, а также неопределённые операторы."
   ]
  },
  {
   "cell_type": "markdown",
   "id": "4ddc4524",
   "metadata": {},
   "source": [
    "**Вывод:**\n",
    "Более 80% всех внешних входящих вызовов в принимающих колл-центрах пропущены.\n",
    "\n",
    "Больше половины операторов не имеет пропущенных вызовов. Есть два оператора, пропустивших все звонки, а также неопределённые операторы. Кто-то явно портит статистику."
   ]
  },
  {
   "cell_type": "markdown",
   "id": "7bd97052",
   "metadata": {},
   "source": [
    "### Количество исходящих звонков"
   ]
  },
  {
   "cell_type": "markdown",
   "id": "edf5bbd0",
   "metadata": {},
   "source": [
    "Данная метрика важна для оценки эффективности операторов обзванивающих колл-центров, поэтому проведём рассчёты для этого типа.\n",
    "\n",
    "Возьмём данные об исходящих внешних вызовах."
   ]
  },
  {
   "cell_type": "code",
   "execution_count": 41,
   "id": "f326e9fa",
   "metadata": {},
   "outputs": [
    {
     "name": "stdout",
     "output_type": "stream",
     "text": [
      "Общее количество исходящих внешних вызовов в обзванивающих колл-центрах: 104557\n"
     ]
    }
   ],
   "source": [
    "print('Общее количество исходящих внешних вызовов в обзванивающих колл-центрах: {}'\n",
    "      .format(data_cc_out.query('direction == \"out\" and internal == False')['calls_count'].sum()))"
   ]
  },
  {
   "cell_type": "markdown",
   "id": "763fd31d",
   "metadata": {},
   "source": [
    "Посмотрим распределение количества исходящих звонков в обзванивающих колл-центрах."
   ]
  },
  {
   "cell_type": "code",
   "execution_count": 42,
   "id": "bf2876d4",
   "metadata": {
    "scrolled": false
   },
   "outputs": [
    {
     "data": {
      "image/png": "[encoded data removed]",
      "text/plain": [
       "<Figure size 1000x500 with 1 Axes>"
      ]
     },
     "metadata": {},
     "output_type": "display_data"
    }
   ],
   "source": [
    "data_cc_out.query('direction == \"out\" and internal == False')['calls_count'].hist(bins=50, figsize=(10, 5))\n",
    "plt.title('Распределение количества исходящих звонков в обзванивающих колл-центрах')\n",
    "plt.xlabel('Количество исходящих вызовов')\n",
    "plt.show()"
   ]
  },
  {
   "cell_type": "code",
   "execution_count": 43,
   "id": "9c0777d2",
   "metadata": {},
   "outputs": [
    {
     "data": {
      "text/plain": [
       "count    12619.000000\n",
       "mean         8.285680\n",
       "std         10.306882\n",
       "min          1.000000\n",
       "25%          2.000000\n",
       "50%          5.000000\n",
       "75%         10.000000\n",
       "max        155.000000\n",
       "Name: calls_count, dtype: float64"
      ]
     },
     "execution_count": 43,
     "metadata": {},
     "output_type": "execute_result"
    }
   ],
   "source": [
    "data_cc_out.query('direction == \"out\" and internal == False')['calls_count'].describe()"
   ]
  },
  {
   "cell_type": "markdown",
   "id": "1a2982b2",
   "metadata": {},
   "source": [
    "**Вывод:** Половина работников делает не более 5 исходящих внешних вызовов в день!"
   ]
  },
  {
   "cell_type": "markdown",
   "id": "27143d35",
   "metadata": {},
   "source": [
    "### Время ожидания"
   ]
  },
  {
   "cell_type": "markdown",
   "id": "f8c04e51",
   "metadata": {},
   "source": [
    "Данная метрика важна для принимающих колл-центров."
   ]
  },
  {
   "cell_type": "code",
   "execution_count": 44,
   "id": "7cfa2c95",
   "metadata": {
    "scrolled": false
   },
   "outputs": [
    {
     "data": {
      "image/png": "[encoded data removed]",
      "text/plain": [
       "<Figure size 1000x500 with 1 Axes>"
      ]
     },
     "metadata": {},
     "output_type": "display_data"
    }
   ],
   "source": [
    "data_cc_in['waiting'].hist(bins=50, figsize=(10, 5))\n",
    "plt.title('Распределение времени ожидания в принимающих колл-центрах')\n",
    "plt.xlabel('Длительность времени ожидания')\n",
    "plt.show()"
   ]
  },
  {
   "cell_type": "code",
   "execution_count": 45,
   "id": "b4dbb694",
   "metadata": {
    "scrolled": true
   },
   "outputs": [
    {
     "data": {
      "text/plain": [
       "count    15527.000000\n",
       "mean       134.219038\n",
       "std        591.834388\n",
       "min          0.000000\n",
       "25%         12.000000\n",
       "50%         32.000000\n",
       "75%         93.000000\n",
       "max      42667.000000\n",
       "Name: waiting, dtype: float64"
      ]
     },
     "execution_count": 45,
     "metadata": {},
     "output_type": "execute_result"
    }
   ],
   "source": [
    "data_cc_in['waiting'].describe()"
   ]
  },
  {
   "cell_type": "markdown",
   "id": "e8a7200a",
   "metadata": {},
   "source": [
    "**Вывод:** Здесь есть аномальные значения, но звонки на ожидании могут идти одновременно и время ожидания накладывается друг на друга."
   ]
  },
  {
   "cell_type": "markdown",
   "id": "ead29f6b",
   "metadata": {},
   "source": [
    "## Определение неэффективных операторов"
   ]
  },
  {
   "cell_type": "markdown",
   "id": "55a45dd0",
   "metadata": {},
   "source": [
    "Признаки неэффективности операторов колл-центров:\n",
    "- много пропущенных входящих звонков;\n",
    "- долгое ожидание ответа при входящих вызовах;\n",
    "- мало исходящих звонков - для колл-центров, специализирующихся на обзвонах.\n",
    "    \n",
    "Определим пороги эффективности - количество (процент) пропущенных звонков, длительность ожидания ответа и количество исходящих вызовов, при которых оператора можно считать неэффективным.\n",
    "\n",
    "Для процента пропущенных звонков примем, что для КЦ допустимо 5% пропущенных вызовов. Поделим 5% на количество операторов КЦ - это и будет порог эффективности для операторов данного КЦ.\n",
    "\n",
    "Для длительности ожидания ответа в качестве порога возьмём среднее значение времени ожидания одного пропущенного звонка.\n",
    "\n",
    "Для количества исходящих вызовов категоризуем КЦ по длительности рабочего дня и по длительности одного звонка. Исходя из этих данных определим для каждого КЦ необходимое количество звонков - это и будет порогом критерия эффективности.\n",
    "\n",
    "Далее сформируем список колл-центров с большим количеством неэффективных сотрудников."
   ]
  },
  {
   "cell_type": "markdown",
   "id": "5452a0f4",
   "metadata": {},
   "source": [
    "### Принимающие КЦ"
   ]
  },
  {
   "cell_type": "markdown",
   "id": "c513c668",
   "metadata": {},
   "source": [
    "Для принимающих КЦ важны два показателя - процент пропущенных входящих вызовов и длительность времени ожидания. Определим списки неэффективных операторов для каждого показателя, а затем выделим неуспешных операторов одновременно для двух показателей."
   ]
  },
  {
   "cell_type": "markdown",
   "id": "540b892f",
   "metadata": {},
   "source": [
    "#### Пропущенные входящие вызовы"
   ]
  },
  {
   "cell_type": "markdown",
   "id": "6932d343",
   "metadata": {},
   "source": [
    "Установим, что для принимающих КЦ допустимо 5% пропущенных звонков. Исходя из этого определим неэффективных операторов по этому показателю.\n",
    "\n",
    "Для начала посчитаем допустимый процент пропущенных вызовов для каждого оператора принимающего КЦ - допустимые для всего колл-центра 5% разделим на количество операторов в нём."
   ]
  },
  {
   "cell_type": "code",
   "execution_count": 46,
   "id": "ea882b7d",
   "metadata": {},
   "outputs": [],
   "source": [
    "# количество операторов в КЦ\n",
    "cc_in_all_calls = (\n",
    "    data_cc_in\n",
    "    .query('direction == \"in\"')\n",
    "    .groupby('user_id')\n",
    "    .agg({'operator_id': 'nunique'})\n",
    "    .reset_index()\n",
    ")\n",
    "cc_in_all_calls.columns = ['user_id', 'op_count']\n",
    "\n",
    "# вычислим допустимый процент пропущенных на каждого оператора: 5% на каждый КЦ поделим на количество операторов\n",
    "cc_in_all_calls['allowed_missed_perc'] = round(5 / cc_in_all_calls['op_count'], 2)"
   ]
  },
  {
   "cell_type": "markdown",
   "id": "ae247004",
   "metadata": {},
   "source": [
    "Далее для каждого оператора каждого колл-центра вычислим процент пропущенных вызовов."
   ]
  },
  {
   "cell_type": "code",
   "execution_count": 47,
   "id": "646f7f11",
   "metadata": {
    "scrolled": true
   },
   "outputs": [],
   "source": [
    "# общее количество звонков по операторам колл-центров\n",
    "cc_in_op_all_calls = (\n",
    "    data_cc_in\n",
    "    .query('direction == \"in\"')\n",
    "    .groupby(['user_id', 'operator_id'])\n",
    "    .agg({'calls_count': 'sum'})\n",
    "    .reset_index()\n",
    ")\n",
    "cc_in_op_all_calls.columns = ['user_id', 'operator_id', 'op_all_calls']\n",
    "\n",
    "# количество пропущенных по операторам колл-центров\n",
    "cc_in_op_missed_calls = (\n",
    "    data_cc_in\n",
    "    .query('direction == \"in\" and is_missed_call == True')\n",
    "    .groupby(['user_id', 'operator_id'])\n",
    "    .agg({'calls_count': 'sum'})\n",
    "    .reset_index()\n",
    ")\n",
    "cc_in_op_missed_calls.columns = ['user_id', 'operator_id', 'op_missed_calls']\n",
    "\n",
    "# объединение\n",
    "cc_in_op_missed_perc = (\n",
    "    cc_in_op_all_calls\n",
    "    .merge(cc_in_op_missed_calls, how='left', left_on=['user_id', 'operator_id'], right_on=['user_id', 'operator_id'])\n",
    ")\n",
    "cc_in_op_missed_perc = cc_in_op_missed_perc.fillna(0)\n",
    "\n",
    "# вычисление процента пропущенных вызовов на каждого оператора колл-центра\n",
    "cc_in_op_missed_perc['op_missed_perc'] = round(\n",
    "    cc_in_op_missed_perc['op_missed_calls'] / cc_in_op_missed_perc['op_all_calls'] * 100, 1\n",
    ")"
   ]
  },
  {
   "cell_type": "markdown",
   "id": "654bbf6f",
   "metadata": {},
   "source": [
    "Объединим две таблицы с допустимыми значениями доли пропущенных вызовов и реальными значениями доли пропущенных вызовов по операторам. После этого сравним допустимые и реальные значения и выделим неэффективных по пропущенным вызовам операторов."
   ]
  },
  {
   "cell_type": "code",
   "execution_count": 48,
   "id": "559f1605",
   "metadata": {
    "scrolled": false
   },
   "outputs": [],
   "source": [
    "# объединим таблицы со статистикой по КЦ и по операторам КЦ\n",
    "cc_in_fin = cc_in_op_missed_perc.merge(cc_in_all_calls, how='left', left_on='user_id', right_on='user_id')\n",
    "# список неэффективных по пропущенным вызовам операторов\n",
    "op_many_missed_calls = cc_in_fin.query('op_missed_perc > allowed_missed_perc')['operator_id'].unique()"
   ]
  },
  {
   "cell_type": "code",
   "execution_count": 49,
   "id": "ed16a761",
   "metadata": {},
   "outputs": [
    {
     "name": "stdout",
     "output_type": "stream",
     "text": [
      "Выявили 111 неэффективных операторов (27.5%)\n"
     ]
    }
   ],
   "source": [
    "print('Выявили {} неэффективных операторов ({}%)'\n",
    "      .format(len(op_many_missed_calls), \n",
    "              round(len(op_many_missed_calls) / cc_in_fin['operator_id'].nunique() * 100, 1))\n",
    "     )"
   ]
  },
  {
   "cell_type": "markdown",
   "id": "3fad181b",
   "metadata": {},
   "source": [
    "#### Время ожидания"
   ]
  },
  {
   "cell_type": "markdown",
   "id": "de80f84a",
   "metadata": {},
   "source": [
    "Для принимающих колл-центров важно. чтобы время ожидания звонящих не было слишком долгим. Для определения порога эффективности операторов по времени ожидания определим, при каком времени ожидания звонящие кладут трубку - разделим дневное время ожидания на количество звонков в день."
   ]
  },
  {
   "cell_type": "code",
   "execution_count": 50,
   "id": "d3d7f49d",
   "metadata": {},
   "outputs": [
    {
     "data": {
      "image/png": "[encoded data removed]",
      "text/plain": [
       "<Figure size 1000x500 with 1 Axes>"
      ]
     },
     "metadata": {},
     "output_type": "display_data"
    }
   ],
   "source": [
    "waiting = (\n",
    "    data_cc_in.query('direction == \"in\" and internal == False and is_missed_call == True')['waiting'] / \n",
    "    data_cc_in.query('direction == \"in\" and internal == False and is_missed_call == True')['calls_count']\n",
    ")\n",
    "waiting.hist(bins=50, figsize=(10, 5))\n",
    "plt.title('Распределение времени ожидания в принимающих колл-центрах')\n",
    "plt.xlabel('Время ожидания')\n",
    "plt.show()"
   ]
  },
  {
   "cell_type": "code",
   "execution_count": 51,
   "id": "5f8c6a70",
   "metadata": {
    "scrolled": false
   },
   "outputs": [
    {
     "data": {
      "text/plain": [
       "count    4160.000000\n",
       "mean       18.124359\n",
       "std        19.235718\n",
       "min         0.000000\n",
       "25%         2.250000\n",
       "50%        14.000000\n",
       "75%        27.257812\n",
       "max       294.000000\n",
       "dtype: float64"
      ]
     },
     "execution_count": 51,
     "metadata": {},
     "output_type": "execute_result"
    }
   ],
   "source": [
    "waiting.describe()"
   ]
  },
  {
   "cell_type": "markdown",
   "id": "76452ad5",
   "metadata": {},
   "source": [
    "**В качестве порога времени ожидания одного вызова возьмём среднее значение - 18.1 минуты**. Исходя из этого составим список неэффективных по времени ожидания операторов принимающих колл-центров.\n",
    "\n",
    "В отличие от перцентилей и медианы среднее значение в качестве порога не будет отсекать определённый процент данных при любых условиях работы операторов."
   ]
  },
  {
   "cell_type": "code",
   "execution_count": 52,
   "id": "e1b3f9c8",
   "metadata": {},
   "outputs": [
    {
     "name": "stdout",
     "output_type": "stream",
     "text": [
      "Выявлено 407 неэффективных по времени ожидания операторов принимающих КЦ (77.5%)\n"
     ]
    }
   ],
   "source": [
    "waiting_uneffective = (\n",
    "    data_cc_in\n",
    "    .loc[(data_cc_in['waiting'] / data_cc_in['calls_count']) > 18.1]['operator_id']\n",
    "    .unique()\n",
    "    .tolist()\n",
    ")\n",
    "print('Выявлено {} неэффективных по времени ожидания операторов принимающих КЦ ({}%)'\n",
    "      .format(len(waiting_uneffective), \n",
    "      round(len(waiting_uneffective) / data_cc_in['operator_id'].nunique() * 100, 1)))"
   ]
  },
  {
   "cell_type": "markdown",
   "id": "f1f33c03",
   "metadata": {},
   "source": [
    "Для создания итогового списка неэффективных операторов принимающих КЦ найдём совпадения по двум спискам с неэффективными операторами по двум критериям."
   ]
  },
  {
   "cell_type": "code",
   "execution_count": 53,
   "id": "4b2964a7",
   "metadata": {
    "scrolled": true
   },
   "outputs": [
    {
     "name": "stdout",
     "output_type": "stream",
     "text": [
      "Количество неэффективных операторов принимающих КЦ: 104 (19.8%)\n"
     ]
    }
   ],
   "source": [
    "def intersection_list(list1, list2):\n",
    "    list3 = [value for value in list1 if value in list2] \n",
    "    return list3 \n",
    " \n",
    "in_uneff_op = intersection_list(waiting_uneffective, op_many_missed_calls)\n",
    "print('Количество неэффективных операторов принимающих КЦ: {} ({}%)'\n",
    "      .format(len(in_uneff_op), round(len(in_uneff_op) / data_cc_in['operator_id'].nunique() * 100, 1)))"
   ]
  },
  {
   "cell_type": "markdown",
   "id": "096aece8",
   "metadata": {},
   "source": [
    "### Обзванивающие КЦ - количество исходящих вызовов"
   ]
  },
  {
   "cell_type": "markdown",
   "id": "1fc860cd",
   "metadata": {},
   "source": [
    "В разных КЦ могут быть рабочие смены разной длительности. Попробуем категоризовать кц по этому признаку. Сгруппируем данные по кц и определим среднее значение полного времени разговора."
   ]
  },
  {
   "cell_type": "code",
   "execution_count": 54,
   "id": "11da8da7",
   "metadata": {},
   "outputs": [
    {
     "data": {
      "image/png": "[encoded data removed]",
      "text/plain": [
       "<Figure size 1000x500 with 1 Axes>"
      ]
     },
     "metadata": {},
     "output_type": "display_data"
    }
   ],
   "source": [
    "cc_mean_time = (\n",
    "    data_cc_out\n",
    "    .query('direction == \"out\"')\n",
    "    .groupby('user_id')\n",
    "    .agg({'total_call_duration': 'mean'})\n",
    ")\n",
    "cc_mean_time.hist(bins=100, figsize=(10, 5))\n",
    "plt.title('Распределение среднего полного времени исходящих звонков')\n",
    "plt.xlabel('Среднее полное время исходящих звонков')\n",
    "plt.show()"
   ]
  },
  {
   "cell_type": "markdown",
   "id": "a071a9bc",
   "metadata": {},
   "source": [
    "Выделим следующие категории КЦ по среднему полному времени исходящего звонка:\n",
    "- от 0 до 180\n",
    "- от 180 до 290\n",
    "- от 290 до 400\n",
    "- выше 400."
   ]
  },
  {
   "cell_type": "code",
   "execution_count": 55,
   "id": "acc2847b",
   "metadata": {},
   "outputs": [],
   "source": [
    "cc_mean_time = cc_mean_time.reset_index()\n",
    "cc_mean_time.columns = ['user_id', 'mean_time']\n",
    "\n",
    "def cat_cc(row):\n",
    "    if row['mean_time'] <= 180:\n",
    "        return 'A'\n",
    "    elif row['mean_time'] <= 290:\n",
    "        return 'B'\n",
    "    elif row['mean_time'] <= 400:\n",
    "        return 'C'\n",
    "    elif row['mean_time'] > 400:\n",
    "        return 'D'\n",
    "    \n",
    "cc_mean_time['category'] = cc_mean_time.apply(cat_cc, axis=1)"
   ]
  },
  {
   "cell_type": "markdown",
   "id": "1c43d171",
   "metadata": {},
   "source": [
    "Определим для каждой категории среднее значение длительности рабочей смены - учтём 20% бездействия и 1 обеденный час."
   ]
  },
  {
   "cell_type": "code",
   "execution_count": 56,
   "id": "64e0c8b7",
   "metadata": {},
   "outputs": [],
   "source": [
    "cat_mean_work_day = (\n",
    "    cc_mean_time\n",
    "    .groupby('category')\n",
    "    .agg({'mean_time': 'mean'})\n",
    "    .reset_index()\n",
    ")\n",
    "cat_mean_work_day.columns = ['category', 'work_day']\n",
    "cat_mean_work_day['work_day'] = round(cat_mean_work_day['work_day'] / 0.8 + 60)"
   ]
  },
  {
   "cell_type": "markdown",
   "id": "f44eb08d",
   "metadata": {},
   "source": [
    "Объединим два датафрейма со средними значениями каждого КЦ и средними значениями по категориям."
   ]
  },
  {
   "cell_type": "code",
   "execution_count": 57,
   "id": "f5c0f7fd",
   "metadata": {
    "scrolled": true
   },
   "outputs": [
    {
     "data": {
      "text/html": [
       "<div>\n",
       "<style scoped>\n",
       "    .dataframe tbody tr th:only-of-type {\n",
       "        vertical-align: middle;\n",
       "    }\n",
       "\n",
       "    .dataframe tbody tr th {\n",
       "        vertical-align: top;\n",
       "    }\n",
       "\n",
       "    .dataframe thead th {\n",
       "        text-align: right;\n",
       "    }\n",
       "</style>\n",
       "<table border=\"1\" class=\"dataframe\">\n",
       "  <thead>\n",
       "    <tr style=\"text-align: right;\">\n",
       "      <th></th>\n",
       "      <th>user_id</th>\n",
       "      <th>mean_time</th>\n",
       "      <th>category</th>\n",
       "      <th>work_day</th>\n",
       "    </tr>\n",
       "  </thead>\n",
       "  <tbody>\n",
       "    <tr>\n",
       "      <th>0</th>\n",
       "      <td>166377</td>\n",
       "      <td>283.801444</td>\n",
       "      <td>B</td>\n",
       "      <td>351.0</td>\n",
       "    </tr>\n",
       "    <tr>\n",
       "      <th>1</th>\n",
       "      <td>166406</td>\n",
       "      <td>363.046632</td>\n",
       "      <td>C</td>\n",
       "      <td>490.0</td>\n",
       "    </tr>\n",
       "    <tr>\n",
       "      <th>2</th>\n",
       "      <td>166407</td>\n",
       "      <td>116.301136</td>\n",
       "      <td>A</td>\n",
       "      <td>216.0</td>\n",
       "    </tr>\n",
       "    <tr>\n",
       "      <th>3</th>\n",
       "      <td>166485</td>\n",
       "      <td>308.549161</td>\n",
       "      <td>C</td>\n",
       "      <td>490.0</td>\n",
       "    </tr>\n",
       "    <tr>\n",
       "      <th>4</th>\n",
       "      <td>166487</td>\n",
       "      <td>329.437500</td>\n",
       "      <td>C</td>\n",
       "      <td>490.0</td>\n",
       "    </tr>\n",
       "  </tbody>\n",
       "</table>\n",
       "</div>"
      ],
      "text/plain": [
       "   user_id   mean_time category  work_day\n",
       "0   166377  283.801444        B     351.0\n",
       "1   166406  363.046632        C     490.0\n",
       "2   166407  116.301136        A     216.0\n",
       "3   166485  308.549161        C     490.0\n",
       "4   166487  329.437500        C     490.0"
      ]
     },
     "execution_count": 57,
     "metadata": {},
     "output_type": "execute_result"
    }
   ],
   "source": [
    "cc_out_cat = cc_mean_time.merge(cat_mean_work_day, how='left', left_on='category', right_on='category')\n",
    "cc_out_cat.head()"
   ]
  },
  {
   "cell_type": "markdown",
   "id": "10fb0352",
   "metadata": {},
   "source": [
    "Надо разбить КЦ на категории по средней длительности одного звонка. Делим длительность звонков на их количество - получаем среднюю длительность звонка каждого кц. Далее категоризуем по диапазонам и выводим среднее среднего."
   ]
  },
  {
   "cell_type": "code",
   "execution_count": 58,
   "id": "3686980e",
   "metadata": {},
   "outputs": [
    {
     "data": {
      "image/png": "[encoded data removed]",
      "text/plain": [
       "<Figure size 1000x500 with 1 Axes>"
      ]
     },
     "metadata": {},
     "output_type": "display_data"
    }
   ],
   "source": [
    "data_cc_out['one_call_dur'] = round(data_cc_out['total_call_duration'] / data_cc_out['calls_count'])\n",
    "out_one_call = data_cc_out.groupby('user_id').agg({'one_call_dur': 'mean'}).reset_index()\n",
    "\n",
    "out_one_call['one_call_dur'].hist(bins=100, figsize=(10, 5))\n",
    "plt.title('Распределение средней длительности одного звонка по КЦ')\n",
    "plt.xlabel('Средняя длительность одного звонка')\n",
    "plt.show()"
   ]
  },
  {
   "cell_type": "markdown",
   "id": "2be4cb34",
   "metadata": {},
   "source": [
    "Разобьём КЦ на следующие категории по длительности одного звонка:\n",
    "- до 30\n",
    "- от 30 до 60\n",
    "- от 60 до 90\n",
    "- выше 90"
   ]
  },
  {
   "cell_type": "code",
   "execution_count": 59,
   "id": "bc5845a0",
   "metadata": {},
   "outputs": [],
   "source": [
    "def cat_cc_one_call(row):\n",
    "    if row['one_call_dur'] <= 30:\n",
    "        return 'W'\n",
    "    elif row['one_call_dur'] <= 60:\n",
    "        return 'X'\n",
    "    elif row['one_call_dur'] <= 90:\n",
    "        return 'Y'\n",
    "    elif row['one_call_dur'] > 90:\n",
    "        return 'Z'\n",
    "    \n",
    "out_one_call['cat_one_call'] = out_one_call.apply(cat_cc_one_call, axis=1)"
   ]
  },
  {
   "cell_type": "markdown",
   "id": "21f78006",
   "metadata": {},
   "source": [
    "Для каждой категории определим среднюю длительность одного вызова."
   ]
  },
  {
   "cell_type": "code",
   "execution_count": 60,
   "id": "19c53ab6",
   "metadata": {},
   "outputs": [
    {
     "data": {
      "text/html": [
       "<div>\n",
       "<style scoped>\n",
       "    .dataframe tbody tr th:only-of-type {\n",
       "        vertical-align: middle;\n",
       "    }\n",
       "\n",
       "    .dataframe tbody tr th {\n",
       "        vertical-align: top;\n",
       "    }\n",
       "\n",
       "    .dataframe thead th {\n",
       "        text-align: right;\n",
       "    }\n",
       "</style>\n",
       "<table border=\"1\" class=\"dataframe\">\n",
       "  <thead>\n",
       "    <tr style=\"text-align: right;\">\n",
       "      <th></th>\n",
       "      <th>cat_one_call</th>\n",
       "      <th>avg_cat_one_call_dur</th>\n",
       "    </tr>\n",
       "  </thead>\n",
       "  <tbody>\n",
       "    <tr>\n",
       "      <th>0</th>\n",
       "      <td>W</td>\n",
       "      <td>21.0</td>\n",
       "    </tr>\n",
       "    <tr>\n",
       "      <th>1</th>\n",
       "      <td>X</td>\n",
       "      <td>48.0</td>\n",
       "    </tr>\n",
       "    <tr>\n",
       "      <th>2</th>\n",
       "      <td>Y</td>\n",
       "      <td>73.0</td>\n",
       "    </tr>\n",
       "    <tr>\n",
       "      <th>3</th>\n",
       "      <td>Z</td>\n",
       "      <td>111.0</td>\n",
       "    </tr>\n",
       "  </tbody>\n",
       "</table>\n",
       "</div>"
      ],
      "text/plain": [
       "  cat_one_call  avg_cat_one_call_dur\n",
       "0            W                  21.0\n",
       "1            X                  48.0\n",
       "2            Y                  73.0\n",
       "3            Z                 111.0"
      ]
     },
     "execution_count": 60,
     "metadata": {},
     "output_type": "execute_result"
    }
   ],
   "source": [
    "cat_one_call_avg = (\n",
    "    out_one_call\n",
    "    .groupby('cat_one_call')\n",
    "    .agg({'one_call_dur': 'mean'})\n",
    "    .reset_index()\n",
    ")\n",
    "cat_one_call_avg.columns=['cat_one_call', 'avg_cat_one_call_dur']\n",
    "cat_one_call_avg['avg_cat_one_call_dur'] = round(cat_one_call_avg['avg_cat_one_call_dur'])\n",
    "cat_one_call_avg"
   ]
  },
  {
   "cell_type": "markdown",
   "id": "f5d3b150",
   "metadata": {},
   "source": [
    "Объединим два дф со средними значениями длительности по каждому кц и по категориям."
   ]
  },
  {
   "cell_type": "code",
   "execution_count": 61,
   "id": "c0725830",
   "metadata": {},
   "outputs": [
    {
     "data": {
      "text/html": [
       "<div>\n",
       "<style scoped>\n",
       "    .dataframe tbody tr th:only-of-type {\n",
       "        vertical-align: middle;\n",
       "    }\n",
       "\n",
       "    .dataframe tbody tr th {\n",
       "        vertical-align: top;\n",
       "    }\n",
       "\n",
       "    .dataframe thead th {\n",
       "        text-align: right;\n",
       "    }\n",
       "</style>\n",
       "<table border=\"1\" class=\"dataframe\">\n",
       "  <thead>\n",
       "    <tr style=\"text-align: right;\">\n",
       "      <th></th>\n",
       "      <th>user_id</th>\n",
       "      <th>one_call_dur</th>\n",
       "      <th>cat_one_call</th>\n",
       "      <th>avg_cat_one_call_dur</th>\n",
       "    </tr>\n",
       "  </thead>\n",
       "  <tbody>\n",
       "    <tr>\n",
       "      <th>0</th>\n",
       "      <td>166377</td>\n",
       "      <td>49.188630</td>\n",
       "      <td>X</td>\n",
       "      <td>48.0</td>\n",
       "    </tr>\n",
       "    <tr>\n",
       "      <th>1</th>\n",
       "      <td>166406</td>\n",
       "      <td>50.882353</td>\n",
       "      <td>X</td>\n",
       "      <td>48.0</td>\n",
       "    </tr>\n",
       "    <tr>\n",
       "      <th>2</th>\n",
       "      <td>166407</td>\n",
       "      <td>68.640449</td>\n",
       "      <td>Y</td>\n",
       "      <td>73.0</td>\n",
       "    </tr>\n",
       "    <tr>\n",
       "      <th>3</th>\n",
       "      <td>166485</td>\n",
       "      <td>73.474124</td>\n",
       "      <td>Y</td>\n",
       "      <td>73.0</td>\n",
       "    </tr>\n",
       "    <tr>\n",
       "      <th>4</th>\n",
       "      <td>166487</td>\n",
       "      <td>51.809524</td>\n",
       "      <td>X</td>\n",
       "      <td>48.0</td>\n",
       "    </tr>\n",
       "  </tbody>\n",
       "</table>\n",
       "</div>"
      ],
      "text/plain": [
       "   user_id  one_call_dur cat_one_call  avg_cat_one_call_dur\n",
       "0   166377     49.188630            X                  48.0\n",
       "1   166406     50.882353            X                  48.0\n",
       "2   166407     68.640449            Y                  73.0\n",
       "3   166485     73.474124            Y                  73.0\n",
       "4   166487     51.809524            X                  48.0"
      ]
     },
     "execution_count": 61,
     "metadata": {},
     "output_type": "execute_result"
    }
   ],
   "source": [
    "out_one_call_dur = out_one_call.merge(cat_one_call_avg, how='left', left_on='cat_one_call', right_on='cat_one_call')\n",
    "out_one_call_dur.head()"
   ]
  },
  {
   "cell_type": "markdown",
   "id": "dfc4e1d1",
   "metadata": {},
   "source": [
    "Объединим два дф со средними значениями длительности одного звонка и длительностью рабочего дня."
   ]
  },
  {
   "cell_type": "code",
   "execution_count": 62,
   "id": "9656bc96",
   "metadata": {},
   "outputs": [],
   "source": [
    "cc_out_2 = cc_out_cat.merge(out_one_call_dur, how='left', left_on='user_id', right_on='user_id')"
   ]
  },
  {
   "cell_type": "markdown",
   "id": "b62f6e9e",
   "metadata": {},
   "source": [
    "Определим необходимое количество звонков для разных категорий кц - разделим длину рабочей смены на среднюю длительность одного звонка."
   ]
  },
  {
   "cell_type": "code",
   "execution_count": 63,
   "id": "be309e96",
   "metadata": {},
   "outputs": [
    {
     "data": {
      "text/html": [
       "<div>\n",
       "<style scoped>\n",
       "    .dataframe tbody tr th:only-of-type {\n",
       "        vertical-align: middle;\n",
       "    }\n",
       "\n",
       "    .dataframe tbody tr th {\n",
       "        vertical-align: top;\n",
       "    }\n",
       "\n",
       "    .dataframe thead th {\n",
       "        text-align: right;\n",
       "    }\n",
       "</style>\n",
       "<table border=\"1\" class=\"dataframe\">\n",
       "  <thead>\n",
       "    <tr style=\"text-align: right;\">\n",
       "      <th></th>\n",
       "      <th>user_id</th>\n",
       "      <th>mean_time</th>\n",
       "      <th>category</th>\n",
       "      <th>work_day</th>\n",
       "      <th>one_call_dur</th>\n",
       "      <th>cat_one_call</th>\n",
       "      <th>avg_cat_one_call_dur</th>\n",
       "      <th>needed_calls</th>\n",
       "    </tr>\n",
       "  </thead>\n",
       "  <tbody>\n",
       "    <tr>\n",
       "      <th>0</th>\n",
       "      <td>166377</td>\n",
       "      <td>283.801444</td>\n",
       "      <td>B</td>\n",
       "      <td>351.0</td>\n",
       "      <td>49.188630</td>\n",
       "      <td>X</td>\n",
       "      <td>48.0</td>\n",
       "      <td>7.0</td>\n",
       "    </tr>\n",
       "    <tr>\n",
       "      <th>1</th>\n",
       "      <td>166406</td>\n",
       "      <td>363.046632</td>\n",
       "      <td>C</td>\n",
       "      <td>490.0</td>\n",
       "      <td>50.882353</td>\n",
       "      <td>X</td>\n",
       "      <td>48.0</td>\n",
       "      <td>10.0</td>\n",
       "    </tr>\n",
       "    <tr>\n",
       "      <th>2</th>\n",
       "      <td>166407</td>\n",
       "      <td>116.301136</td>\n",
       "      <td>A</td>\n",
       "      <td>216.0</td>\n",
       "      <td>68.640449</td>\n",
       "      <td>Y</td>\n",
       "      <td>73.0</td>\n",
       "      <td>3.0</td>\n",
       "    </tr>\n",
       "    <tr>\n",
       "      <th>3</th>\n",
       "      <td>166485</td>\n",
       "      <td>308.549161</td>\n",
       "      <td>C</td>\n",
       "      <td>490.0</td>\n",
       "      <td>73.474124</td>\n",
       "      <td>Y</td>\n",
       "      <td>73.0</td>\n",
       "      <td>7.0</td>\n",
       "    </tr>\n",
       "    <tr>\n",
       "      <th>4</th>\n",
       "      <td>166487</td>\n",
       "      <td>329.437500</td>\n",
       "      <td>C</td>\n",
       "      <td>490.0</td>\n",
       "      <td>51.809524</td>\n",
       "      <td>X</td>\n",
       "      <td>48.0</td>\n",
       "      <td>10.0</td>\n",
       "    </tr>\n",
       "  </tbody>\n",
       "</table>\n",
       "</div>"
      ],
      "text/plain": [
       "   user_id   mean_time category  work_day  one_call_dur cat_one_call  \\\n",
       "0   166377  283.801444        B     351.0     49.188630            X   \n",
       "1   166406  363.046632        C     490.0     50.882353            X   \n",
       "2   166407  116.301136        A     216.0     68.640449            Y   \n",
       "3   166485  308.549161        C     490.0     73.474124            Y   \n",
       "4   166487  329.437500        C     490.0     51.809524            X   \n",
       "\n",
       "   avg_cat_one_call_dur  needed_calls  \n",
       "0                  48.0           7.0  \n",
       "1                  48.0          10.0  \n",
       "2                  73.0           3.0  \n",
       "3                  73.0           7.0  \n",
       "4                  48.0          10.0  "
      ]
     },
     "execution_count": 63,
     "metadata": {},
     "output_type": "execute_result"
    }
   ],
   "source": [
    "cc_out_2['needed_calls'] = round(cc_out_2['work_day'] / cc_out_2['avg_cat_one_call_dur'])\n",
    "cc_out_2.head()"
   ]
  },
  {
   "cell_type": "markdown",
   "id": "b91b3c78",
   "metadata": {},
   "source": [
    "Объединим два дф с необходимым количеством звонков и с данными по звонкам всех операторов обзванивающих КЦ."
   ]
  },
  {
   "cell_type": "code",
   "execution_count": 64,
   "id": "9a31bb9b",
   "metadata": {},
   "outputs": [
    {
     "data": {
      "text/html": [
       "<div>\n",
       "<style scoped>\n",
       "    .dataframe tbody tr th:only-of-type {\n",
       "        vertical-align: middle;\n",
       "    }\n",
       "\n",
       "    .dataframe tbody tr th {\n",
       "        vertical-align: top;\n",
       "    }\n",
       "\n",
       "    .dataframe thead th {\n",
       "        text-align: right;\n",
       "    }\n",
       "</style>\n",
       "<table border=\"1\" class=\"dataframe\">\n",
       "  <thead>\n",
       "    <tr style=\"text-align: right;\">\n",
       "      <th></th>\n",
       "      <th>user_id</th>\n",
       "      <th>direction</th>\n",
       "      <th>operator_id</th>\n",
       "      <th>calls_count</th>\n",
       "      <th>needed_calls</th>\n",
       "    </tr>\n",
       "  </thead>\n",
       "  <tbody>\n",
       "    <tr>\n",
       "      <th>0</th>\n",
       "      <td>166377</td>\n",
       "      <td>in</td>\n",
       "      <td>1</td>\n",
       "      <td>2</td>\n",
       "      <td>7.0</td>\n",
       "    </tr>\n",
       "    <tr>\n",
       "      <th>1</th>\n",
       "      <td>166377</td>\n",
       "      <td>out</td>\n",
       "      <td>880022</td>\n",
       "      <td>3</td>\n",
       "      <td>7.0</td>\n",
       "    </tr>\n",
       "    <tr>\n",
       "      <th>2</th>\n",
       "      <td>166377</td>\n",
       "      <td>out</td>\n",
       "      <td>880020</td>\n",
       "      <td>1</td>\n",
       "      <td>7.0</td>\n",
       "    </tr>\n",
       "    <tr>\n",
       "      <th>3</th>\n",
       "      <td>166377</td>\n",
       "      <td>out</td>\n",
       "      <td>880020</td>\n",
       "      <td>1</td>\n",
       "      <td>7.0</td>\n",
       "    </tr>\n",
       "    <tr>\n",
       "      <th>4</th>\n",
       "      <td>166377</td>\n",
       "      <td>out</td>\n",
       "      <td>880022</td>\n",
       "      <td>3</td>\n",
       "      <td>7.0</td>\n",
       "    </tr>\n",
       "  </tbody>\n",
       "</table>\n",
       "</div>"
      ],
      "text/plain": [
       "   user_id direction  operator_id  calls_count  needed_calls\n",
       "0   166377        in            1            2           7.0\n",
       "1   166377       out       880022            3           7.0\n",
       "2   166377       out       880020            1           7.0\n",
       "3   166377       out       880020            1           7.0\n",
       "4   166377       out       880022            3           7.0"
      ]
     },
     "execution_count": 64,
     "metadata": {},
     "output_type": "execute_result"
    }
   ],
   "source": [
    "cc_out_3 = data_cc_out.merge(cc_out_2, how='left', left_on='user_id', right_on='user_id')\n",
    "cc_out_3 = cc_out_3[[\n",
    "    'user_id',\n",
    "    'direction',\n",
    "    'operator_id',\n",
    "    'calls_count',\n",
    "    'needed_calls'\n",
    "]]\n",
    "cc_out_3.head()"
   ]
  },
  {
   "cell_type": "markdown",
   "id": "1f874a6a",
   "metadata": {},
   "source": [
    "Сравним реальное и необходимое количество звонков и определим неэффективных операторов."
   ]
  },
  {
   "cell_type": "code",
   "execution_count": 65,
   "id": "9452c457",
   "metadata": {},
   "outputs": [
    {
     "name": "stdout",
     "output_type": "stream",
     "text": [
      "Выявили 502 неэффективных операторов обзванивающих КЦ (89.5%)\n"
     ]
    }
   ],
   "source": [
    "out_calls_uneffective_op = (\n",
    "    cc_out_3\n",
    "    .query('direction == \"out\" and calls_count < needed_calls')['operator_id']\n",
    "    .unique()\n",
    "    .tolist()\n",
    ")\n",
    "print('Выявили {} неэффективных операторов обзванивающих КЦ ({}%)'\n",
    "     .format(len(out_calls_uneffective_op), \n",
    "             round(len(out_calls_uneffective_op) / cc_out_3['operator_id'].nunique() * 100, 1)))"
   ]
  },
  {
   "cell_type": "markdown",
   "id": "14cdff49",
   "metadata": {},
   "source": [
    "**Вывод:** Получился очень высокий процент неэффективных операторов - лишь 10% сотрудников выполняют работу качественно."
   ]
  },
  {
   "cell_type": "markdown",
   "id": "86ca59e9",
   "metadata": {},
   "source": [
    "### КЦ с неэффективными операторами"
   ]
  },
  {
   "cell_type": "markdown",
   "id": "29204420",
   "metadata": {},
   "source": [
    "Отберём принимающие КЦ с неэффективными операторами.\n",
    "\n",
    "Посчитаем количество неэффективных операторов для каждого кц."
   ]
  },
  {
   "cell_type": "code",
   "execution_count": 66,
   "id": "ec1972c0",
   "metadata": {
    "scrolled": true
   },
   "outputs": [
    {
     "data": {
      "text/html": [
       "<div>\n",
       "<style scoped>\n",
       "    .dataframe tbody tr th:only-of-type {\n",
       "        vertical-align: middle;\n",
       "    }\n",
       "\n",
       "    .dataframe tbody tr th {\n",
       "        vertical-align: top;\n",
       "    }\n",
       "\n",
       "    .dataframe thead th {\n",
       "        text-align: right;\n",
       "    }\n",
       "</style>\n",
       "<table border=\"1\" class=\"dataframe\">\n",
       "  <thead>\n",
       "    <tr style=\"text-align: right;\">\n",
       "      <th></th>\n",
       "      <th>user_id</th>\n",
       "      <th>unef_op_count</th>\n",
       "    </tr>\n",
       "  </thead>\n",
       "  <tbody>\n",
       "    <tr>\n",
       "      <th>0</th>\n",
       "      <td>168252</td>\n",
       "      <td>11</td>\n",
       "    </tr>\n",
       "    <tr>\n",
       "      <th>1</th>\n",
       "      <td>166916</td>\n",
       "      <td>9</td>\n",
       "    </tr>\n",
       "    <tr>\n",
       "      <th>2</th>\n",
       "      <td>166405</td>\n",
       "      <td>8</td>\n",
       "    </tr>\n",
       "    <tr>\n",
       "      <th>3</th>\n",
       "      <td>167977</td>\n",
       "      <td>6</td>\n",
       "    </tr>\n",
       "    <tr>\n",
       "      <th>4</th>\n",
       "      <td>167445</td>\n",
       "      <td>6</td>\n",
       "    </tr>\n",
       "  </tbody>\n",
       "</table>\n",
       "</div>"
      ],
      "text/plain": [
       "   user_id  unef_op_count\n",
       "0   168252             11\n",
       "1   166916              9\n",
       "2   166405              8\n",
       "3   167977              6\n",
       "4   167445              6"
      ]
     },
     "execution_count": 66,
     "metadata": {},
     "output_type": "execute_result"
    }
   ],
   "source": [
    "in_cc_unef = (\n",
    "    data_cc_in\n",
    "    .query('operator_id in @in_uneff_op')\n",
    "    .groupby('user_id')\n",
    "    .agg({'operator_id': 'nunique'})\n",
    "    .sort_values('operator_id', ascending=False)\n",
    "    .reset_index()\n",
    ")\n",
    "in_cc_unef.columns = ['user_id', 'unef_op_count']\n",
    "in_cc_unef.head()"
   ]
  },
  {
   "cell_type": "markdown",
   "id": "d9921a32",
   "metadata": {},
   "source": [
    "Посчитаем количество всех операторов по КЦ."
   ]
  },
  {
   "cell_type": "code",
   "execution_count": 67,
   "id": "cc8faf33",
   "metadata": {},
   "outputs": [],
   "source": [
    "in_all_op = (\n",
    "    data_cc_in\n",
    "    .groupby('user_id')\n",
    "    .agg({'operator_id': 'nunique'})\n",
    "    .reset_index()\n",
    ")\n",
    "in_all_op.columns = ['user_id', 'all_op_count']"
   ]
  },
  {
   "cell_type": "markdown",
   "id": "b3d16c00",
   "metadata": {},
   "source": [
    "Объединим два датафрейма и посчитаем процент неэффективных операторов. Посмотрим на распределение процента неэффективных операторов."
   ]
  },
  {
   "cell_type": "code",
   "execution_count": 68,
   "id": "b4f4e7a8",
   "metadata": {
    "scrolled": false
   },
   "outputs": [
    {
     "data": {
      "image/png": "[encoded data removed]",
      "text/plain": [
       "<Figure size 1000x500 with 1 Axes>"
      ]
     },
     "metadata": {},
     "output_type": "display_data"
    }
   ],
   "source": [
    "in_unef_perc = in_all_op.merge(in_cc_unef, how='inner', left_on='user_id', right_on='user_id')\n",
    "in_unef_perc['unef_perc'] = round(in_unef_perc['unef_op_count'] / in_unef_perc['all_op_count'] * 100, 1)\n",
    "in_unef_perc['unef_perc'].hist(bins=100, figsize=(10, 5))\n",
    "plt.title('Распределение процента неэффективных операторов принимающих КЦ')\n",
    "plt.xlabel('Процент неэффективных операторов')\n",
    "plt.show()"
   ]
  },
  {
   "cell_type": "markdown",
   "id": "d1794e54",
   "metadata": {},
   "source": [
    "Примем, что обычный уровень неэффективности для КЦ 5-30%. Более высокий процент говорит о том. что операторы и аппаратура не справляются с нагрузкой и имеются технические неполадки. Сформируем список принимающих КЦ (с долей неэффективных операторов 5-30%), которым можно предложить услугу по установке программного обеспечения для определения неэффективных операторов."
   ]
  },
  {
   "cell_type": "code",
   "execution_count": 69,
   "id": "e3c64b8e",
   "metadata": {},
   "outputs": [
    {
     "name": "stdout",
     "output_type": "stream",
     "text": [
      "Количество возможных клиентов новой услуги: 32\n"
     ]
    }
   ],
   "source": [
    "cc_in_recommend = in_unef_perc.query('unef_perc >= 5 and unef_perc <= 30')['user_id'].unique().tolist()\n",
    "print('Количество возможных клиентов новой услуги: {}'.format(len(cc_in_recommend)))"
   ]
  },
  {
   "cell_type": "markdown",
   "id": "d94672f9",
   "metadata": {},
   "source": [
    "Отберём обзванивающие КЦ с неэффективными операторами.\n",
    "\n",
    "Посчитаем количество неэффективных операторов для каждого кц."
   ]
  },
  {
   "cell_type": "code",
   "execution_count": 70,
   "id": "21f1e940",
   "metadata": {
    "scrolled": true
   },
   "outputs": [
    {
     "data": {
      "text/html": [
       "<div>\n",
       "<style scoped>\n",
       "    .dataframe tbody tr th:only-of-type {\n",
       "        vertical-align: middle;\n",
       "    }\n",
       "\n",
       "    .dataframe tbody tr th {\n",
       "        vertical-align: top;\n",
       "    }\n",
       "\n",
       "    .dataframe thead th {\n",
       "        text-align: right;\n",
       "    }\n",
       "</style>\n",
       "<table border=\"1\" class=\"dataframe\">\n",
       "  <thead>\n",
       "    <tr style=\"text-align: right;\">\n",
       "      <th></th>\n",
       "      <th>user_id</th>\n",
       "      <th>unef_op_count</th>\n",
       "    </tr>\n",
       "  </thead>\n",
       "  <tbody>\n",
       "    <tr>\n",
       "      <th>0</th>\n",
       "      <td>168187</td>\n",
       "      <td>43</td>\n",
       "    </tr>\n",
       "    <tr>\n",
       "      <th>1</th>\n",
       "      <td>167497</td>\n",
       "      <td>29</td>\n",
       "    </tr>\n",
       "    <tr>\n",
       "      <th>2</th>\n",
       "      <td>168062</td>\n",
       "      <td>28</td>\n",
       "    </tr>\n",
       "    <tr>\n",
       "      <th>3</th>\n",
       "      <td>166680</td>\n",
       "      <td>19</td>\n",
       "    </tr>\n",
       "    <tr>\n",
       "      <th>4</th>\n",
       "      <td>168091</td>\n",
       "      <td>17</td>\n",
       "    </tr>\n",
       "  </tbody>\n",
       "</table>\n",
       "</div>"
      ],
      "text/plain": [
       "   user_id  unef_op_count\n",
       "0   168187             43\n",
       "1   167497             29\n",
       "2   168062             28\n",
       "3   166680             19\n",
       "4   168091             17"
      ]
     },
     "execution_count": 70,
     "metadata": {},
     "output_type": "execute_result"
    }
   ],
   "source": [
    "out_cc_unef = (\n",
    "    data_cc_out\n",
    "    .query('operator_id in @out_calls_uneffective_op')\n",
    "    .groupby('user_id')\n",
    "    .agg({'operator_id': 'nunique'})\n",
    "    .sort_values('operator_id', ascending=False)\n",
    "    .reset_index()\n",
    ")\n",
    "out_cc_unef.columns = ['user_id', 'unef_op_count']\n",
    "out_cc_unef.head()"
   ]
  },
  {
   "cell_type": "markdown",
   "id": "8c4a6e6a",
   "metadata": {},
   "source": [
    "Посчитаем количество всех операторов по КЦ."
   ]
  },
  {
   "cell_type": "code",
   "execution_count": 71,
   "id": "f3cdbb4f",
   "metadata": {},
   "outputs": [],
   "source": [
    "out_all_op = (\n",
    "    data_cc_out\n",
    "    .groupby('user_id')\n",
    "    .agg({'operator_id': 'nunique'})\n",
    "    .reset_index()\n",
    ")\n",
    "out_all_op.columns = ['user_id', 'all_op_count']"
   ]
  },
  {
   "cell_type": "markdown",
   "id": "befa7d8e",
   "metadata": {},
   "source": [
    "Объединим два датафрейма и посчитаем процент неэффективных операторов. Посмотрим на распределение процента неэффективных операторов."
   ]
  },
  {
   "cell_type": "code",
   "execution_count": 72,
   "id": "eec3ef71",
   "metadata": {
    "scrolled": false
   },
   "outputs": [
    {
     "data": {
      "image/png": "[encoded data removed]",
      "text/plain": [
       "<Figure size 1000x500 with 1 Axes>"
      ]
     },
     "metadata": {},
     "output_type": "display_data"
    }
   ],
   "source": [
    "out_unef_perc = out_all_op.merge(out_cc_unef, how='inner', left_on='user_id', right_on='user_id')\n",
    "out_unef_perc['unef_perc'] = round(out_unef_perc['unef_op_count'] / out_unef_perc['all_op_count'] * 100, 1)\n",
    "out_unef_perc['unef_perc'].hist(bins=100, figsize=(10, 5))\n",
    "plt.title('Распределение процента неэффективных операторов обзванивающих КЦ')\n",
    "plt.xlabel('Процент неэффективных операторов')\n",
    "plt.show()"
   ]
  },
  {
   "cell_type": "markdown",
   "id": "bfd1ce8c",
   "metadata": {},
   "source": [
    "Исходя из логики выше сформируем рекомендуемый список КЦ, но увеличим значение доли неэффективных операторов до 40, так как у большинства обзванивающих КЦ этот показатель очень высок."
   ]
  },
  {
   "cell_type": "code",
   "execution_count": 73,
   "id": "aac531fb",
   "metadata": {
    "scrolled": true
   },
   "outputs": [
    {
     "name": "stdout",
     "output_type": "stream",
     "text": [
      "Количество возможных клиентов новой услуги: 1\n"
     ]
    }
   ],
   "source": [
    "cc_out_recommend = out_unef_perc.query('unef_perc < 50')['user_id'].unique().tolist()\n",
    "print('Количество возможных клиентов новой услуги: {}'.format(len(cc_out_recommend)))"
   ]
  },
  {
   "cell_type": "markdown",
   "id": "b4999266",
   "metadata": {},
   "source": [
    "**Вывод:** Сформировали списки потенциальных клиентов новой услуги по определению неэффективных операторов - 32 принимающих КЦ и 1 обзванивающий КЦ."
   ]
  },
  {
   "cell_type": "markdown",
   "id": "509d545e",
   "metadata": {},
   "source": [
    "## Проверка статистических гипотез"
   ]
  },
  {
   "cell_type": "markdown",
   "id": "dbadb01d",
   "metadata": {},
   "source": [
    "### Гипотеза 1"
   ]
  },
  {
   "cell_type": "markdown",
   "id": "f7f18bd1",
   "metadata": {},
   "source": [
    "Сформируем нулевую и альтернативную статистические гипотезы:\n",
    "```\n",
    "H_0: Средний процент пропущенных маленьких КЦ = средний процент пропущенных больших КЦ\n",
    "H_a: Средний процент пропущенных маленьких КЦ ≠ средний процент пропущенных больших КЦ\n",
    "alpha = 0.05\n",
    "```\n",
    "\n",
    "и проведём проверку."
   ]
  },
  {
   "cell_type": "markdown",
   "id": "297b2f45",
   "metadata": {},
   "source": [
    "Разделим принимающие КЦ на большие и маленькие."
   ]
  },
  {
   "cell_type": "code",
   "execution_count": 74,
   "id": "66a97606",
   "metadata": {},
   "outputs": [
    {
     "data": {
      "image/png": "[encoded data removed]",
      "text/plain": [
       "<Figure size 1000x500 with 1 Axes>"
      ]
     },
     "metadata": {},
     "output_type": "display_data"
    }
   ],
   "source": [
    "in_op_count = data_cc_in.groupby('user_id').agg({'operator_id': 'nunique'})\n",
    "in_op_count.hist(bins=50, figsize=(10, 5))\n",
    "plt.title('Распределение количества операторов в КЦ')\n",
    "plt.xlabel('Количество операторов')\n",
    "plt.show()"
   ]
  },
  {
   "cell_type": "code",
   "execution_count": 75,
   "id": "b506a90a",
   "metadata": {},
   "outputs": [
    {
     "data": {
      "text/html": [
       "<div>\n",
       "<style scoped>\n",
       "    .dataframe tbody tr th:only-of-type {\n",
       "        vertical-align: middle;\n",
       "    }\n",
       "\n",
       "    .dataframe tbody tr th {\n",
       "        vertical-align: top;\n",
       "    }\n",
       "\n",
       "    .dataframe thead th {\n",
       "        text-align: right;\n",
       "    }\n",
       "</style>\n",
       "<table border=\"1\" class=\"dataframe\">\n",
       "  <thead>\n",
       "    <tr style=\"text-align: right;\">\n",
       "      <th></th>\n",
       "      <th>operator_id</th>\n",
       "    </tr>\n",
       "  </thead>\n",
       "  <tbody>\n",
       "    <tr>\n",
       "      <th>count</th>\n",
       "      <td>184.000000</td>\n",
       "    </tr>\n",
       "    <tr>\n",
       "      <th>mean</th>\n",
       "      <td>3.836957</td>\n",
       "    </tr>\n",
       "    <tr>\n",
       "      <th>std</th>\n",
       "      <td>4.848023</td>\n",
       "    </tr>\n",
       "    <tr>\n",
       "      <th>min</th>\n",
       "      <td>1.000000</td>\n",
       "    </tr>\n",
       "    <tr>\n",
       "      <th>25%</th>\n",
       "      <td>2.000000</td>\n",
       "    </tr>\n",
       "    <tr>\n",
       "      <th>50%</th>\n",
       "      <td>3.000000</td>\n",
       "    </tr>\n",
       "    <tr>\n",
       "      <th>75%</th>\n",
       "      <td>4.000000</td>\n",
       "    </tr>\n",
       "    <tr>\n",
       "      <th>max</th>\n",
       "      <td>48.000000</td>\n",
       "    </tr>\n",
       "  </tbody>\n",
       "</table>\n",
       "</div>"
      ],
      "text/plain": [
       "       operator_id\n",
       "count   184.000000\n",
       "mean      3.836957\n",
       "std       4.848023\n",
       "min       1.000000\n",
       "25%       2.000000\n",
       "50%       3.000000\n",
       "75%       4.000000\n",
       "max      48.000000"
      ]
     },
     "execution_count": 75,
     "metadata": {},
     "output_type": "execute_result"
    }
   ],
   "source": [
    "in_op_count.describe()"
   ]
  },
  {
   "cell_type": "markdown",
   "id": "09673217",
   "metadata": {},
   "source": [
    "Среднее число операторов в КЦ - 4. Примем, что в маленьких КЦ не больше 4 операторов, в больших - больше 4."
   ]
  },
  {
   "cell_type": "code",
   "execution_count": 76,
   "id": "787b2fd7",
   "metadata": {},
   "outputs": [],
   "source": [
    "in_op_count = in_op_count.reset_index()\n",
    "in_op_count.columns = ['user_id', 'op_count']\n",
    "\n",
    "small_cc_list = in_op_count.query('op_count <= 4')['user_id'].tolist()\n",
    "big_cc_list = in_op_count.query('op_count > 4')['user_id'].tolist()\n",
    "\n",
    "small_in_cc = cc_in_op_missed_perc.query('user_id in @small_cc_list')\n",
    "big_in_cc = cc_in_op_missed_perc.query('user_id in @big_cc_list')"
   ]
  },
  {
   "cell_type": "code",
   "execution_count": 77,
   "id": "b80b3252",
   "metadata": {},
   "outputs": [
    {
     "name": "stdout",
     "output_type": "stream",
     "text": [
      "p-значение:  5.2768438802780716e-06\n",
      "Отвергаем нулевую гипотезу: разница статистически значима\n"
     ]
    }
   ],
   "source": [
    "small_missed_perc = small_in_cc['op_missed_perc']\n",
    "big_missed_perc = big_in_cc['op_missed_perc']\n",
    "alpha = 0.05\n",
    "\n",
    "results = st.mannwhitneyu(small_missed_perc, big_missed_perc)\n",
    "print('p-значение: ', results.pvalue)\n",
    "\n",
    "if results.pvalue < alpha:\n",
    "    print('Отвергаем нулевую гипотезу: разница статистически значима')\n",
    "else:\n",
    "    print(\n",
    "        'Не получилось отвергнуть нулевую гипотезу, вывод о различии сделать нельзя'\n",
    "    ) "
   ]
  },
  {
   "cell_type": "markdown",
   "id": "62fd1a0b",
   "metadata": {},
   "source": [
    "**Вывод:** Есть существенное различие в среднем проценте пропущенных звонков в маленьких и больших КЦ. Значит, нужно более детально проработать пороги эффективности операторов по доле пропущенных вызовов - для больших и маленьких КЦ эти пороги будут отличаться."
   ]
  },
  {
   "cell_type": "markdown",
   "id": "93f79fe6",
   "metadata": {},
   "source": [
    "### Гипотеза 2"
   ]
  },
  {
   "cell_type": "markdown",
   "id": "8893ea2a",
   "metadata": {},
   "source": [
    "Сформируем нулевую и альтернативную статистические гипотезы:\n",
    "```\n",
    "H_0: Среднее время ожидания одного звонка маленьких КЦ = среднее время ожидания одного звонка больших КЦ\n",
    "H_a: Среднее время ожидания одного звонка маленьких КЦ ≠ среднее время ожидания одного звонка больших КЦ\n",
    "alpha = 0.05\n",
    "```\n",
    "\n",
    "и проведём проверку."
   ]
  },
  {
   "cell_type": "code",
   "execution_count": 78,
   "id": "97b9a4ce",
   "metadata": {},
   "outputs": [],
   "source": [
    "small_in_waiting_cc = data_cc_in.query('user_id in @small_cc_list')\n",
    "big_in_waiting_cc = data_cc_in.query('user_id in @big_cc_list')\n",
    "\n",
    "small_in_waiting_cc['one_waiting'] = small_in_waiting_cc['waiting'] / small_in_waiting_cc['calls_count']\n",
    "big_in_waiting_cc['one_waiting'] = big_in_waiting_cc['waiting'] / big_in_waiting_cc['calls_count']"
   ]
  },
  {
   "cell_type": "code",
   "execution_count": 79,
   "id": "ac7c2dfa",
   "metadata": {},
   "outputs": [
    {
     "name": "stdout",
     "output_type": "stream",
     "text": [
      "p-значение:  0.003885391017050764\n",
      "Отвергаем нулевую гипотезу: разница статистически значима\n"
     ]
    }
   ],
   "source": [
    "small_waiting = small_in_waiting_cc['one_waiting']\n",
    "big_waiting = big_in_waiting_cc['one_waiting']\n",
    "alpha = 0.05\n",
    "\n",
    "results = st.mannwhitneyu(small_waiting, big_waiting)\n",
    "print('p-значение: ', results.pvalue)\n",
    "\n",
    "if results.pvalue < alpha:\n",
    "    print('Отвергаем нулевую гипотезу: разница статистически значима')\n",
    "else:\n",
    "    print(\n",
    "        'Не получилось отвергнуть нулевую гипотезу, вывод о различии сделать нельзя'\n",
    "    ) "
   ]
  },
  {
   "cell_type": "markdown",
   "id": "431db195",
   "metadata": {},
   "source": [
    "**Вывод:** Есть существенное различие в среднем времени ожидания одного звонка в маленьких и больших КЦ. Значит, для маленьких и больших КЦ нужны будут разные пороги эффективности по времени ожидания."
   ]
  },
  {
   "cell_type": "markdown",
   "id": "36a43bd1",
   "metadata": {},
   "source": [
    "## Выводы и рекомендации"
   ]
  },
  {
   "cell_type": "markdown",
   "id": "ef2ea37a",
   "metadata": {},
   "source": [
    "В ходе исследования были сделаны следующие выводы:\n",
    "- Имеются данные за 4 неполных месяца со 2 августа по 28 ноября 2019 года.\n",
    "- Данные о длительности звонков представлены в минутах.\n",
    "- В субботу и воскресенье значительно меньше звонков. Значит, в выходные дни работает меньше операторов либо часть колл-центров полностью на пятидневке.\n",
    "- Количество звонков в день постепенно растёт - возможно, в начале периода собирались не все данные.\n",
    "- Доли исходящих и входящих вызовов колеблются в диапазоне 30-70%. Нет явного преобладания одного типа звонков.\n",
    "- Половина колл-центров имеет в штате не более трёх операторов, 75% колл-центров - не более пяти операторов. Максимальное количество - 51.\n",
    "- Данные поделены на принимающие и обзванивающие КЦ.\n",
    "- Более 80% всех внешних входящих вызовов в принимающих колл-центрах пропущены.\n",
    "- Половина работников делает не более 5 исходящих внешних вызовов в день.\n",
    "- Больше половины операторов не имеет пропущенных вызовов. \n",
    "- Есть два оператора, пропустивших все звонки, а также неопределённые операторы. Кто-то явно портит статистику.\n",
    "- Определены критерии эффективности операторов и их пороги:\n",
    "```\n",
    "Для процента пропущенных звонков примем, что для КЦ допустимо 5% пропущенных вызовов. Поделим 5% на количество операторов КЦ - это и будет порог эффективности для операторов данного КЦ.\n",
    "Для длительности ожидания ответа в качестве порога возьмём среднее значение времени ожидания одного пропущенного звонка.\n",
    "Для количества исходящих вызовов категоризуем КЦ по длительности рабочего дня и по длительности одного звонка. Исходя из этих данных определим для каждого КЦ необходимое количество звонков - это и будет порогом критерия эффективности.\n",
    "```\n",
    "- Выявили 111 неэффективных по проценту пропущенных вызовов операторов (27.5%).\n",
    "- Выявлено 407 неэффективных по времени ожидания операторов принимающих КЦ (77.5%).\n",
    "- Итого выявлено 104 неэффективных оператора принимающих КЦ (19.8%).\n",
    "- Выявлено 502 неэффективных по количеству исходящих звонков оператора обзванивающих КЦ (89.5%).\n",
    "- Сформировали списки потенциальных клиентов новой услуги по определению неэффективных операторов - 32 принимающих КЦ (`cc_in_recommend`) и 1 обзванивающий КЦ (`cc_out_recommend`).\n",
    "- Время ожидания одного звонка и процент пропущенных вызовов маленьких и больших принимающих КЦ сильно отличаются. Значит, для определения неэффективных операторов для маленьких и больших КЦ необходимы разные пороги неэффективности.\n",
    " \n",
    "**Рекомендации заказчику:**\n",
    "В ходе исследования были сформированы списки потенциальных клиентов новой услуги по определению неэффективных операторов - 32 принимающих КЦ (cc_in_recommend) и 1 обзванивающий КЦ (cc_out_recommend), рекомендуется предложить им возможную новую опцию.\n",
    "\n",
    "[Презентация к проекту](https://drive.google.com/file/d/1-fAPi1wFHKe50djMkkz_KqLGdkAzv0XF/view?usp=sharing)\n",
    "\n",
    "[Дашборд Tableau](https://public.tableau.com/app/profile/daria.georgieva/viz/call-centers/sheet0)"
   ]
  }
 ],
 "metadata": {
  "ExecuteTimeLog": [
   {
    "duration": 1128,
    "start_time": "2023-03-28T12:09:14.735Z"
   },
   {
    "duration": 226,
    "start_time": "2023-03-28T12:09:15.865Z"
   },
   {
    "duration": 14,
    "start_time": "2023-03-28T12:09:16.093Z"
   },
   {
    "duration": 19,
    "start_time": "2023-03-28T12:09:16.109Z"
   },
   {
    "duration": 12,
    "start_time": "2023-03-28T12:09:16.131Z"
   },
   {
    "duration": 11,
    "start_time": "2023-03-28T12:09:16.145Z"
   },
   {
    "duration": 41,
    "start_time": "2023-03-28T12:09:16.158Z"
   },
   {
    "duration": 55,
    "start_time": "2023-03-28T12:09:16.223Z"
   },
   {
    "duration": 17,
    "start_time": "2023-03-28T12:09:16.280Z"
   },
   {
    "duration": 38,
    "start_time": "2023-03-28T12:09:16.298Z"
   },
   {
    "duration": 14,
    "start_time": "2023-03-28T12:09:16.338Z"
   },
   {
    "duration": 30,
    "start_time": "2023-03-28T12:09:16.353Z"
   },
   {
    "duration": 3,
    "start_time": "2023-03-28T12:09:16.385Z"
   },
   {
    "duration": 40,
    "start_time": "2023-03-28T12:09:16.392Z"
   },
   {
    "duration": 32,
    "start_time": "2023-03-28T12:09:16.434Z"
   },
   {
    "duration": 41,
    "start_time": "2023-03-28T12:09:16.468Z"
   },
   {
    "duration": 20,
    "start_time": "2023-03-28T12:09:16.511Z"
   },
   {
    "duration": 18,
    "start_time": "2023-03-28T12:09:16.533Z"
   },
   {
    "duration": 25,
    "start_time": "2023-03-28T12:09:16.553Z"
   },
   {
    "duration": 51,
    "start_time": "2023-03-28T12:09:16.579Z"
   },
   {
    "duration": 225,
    "start_time": "2023-03-28T12:09:16.632Z"
   },
   {
    "duration": 10,
    "start_time": "2023-03-28T12:09:16.859Z"
   },
   {
    "duration": 3,
    "start_time": "2023-03-28T12:09:16.871Z"
   },
   {
    "duration": 5,
    "start_time": "2023-03-28T12:09:16.875Z"
   },
   {
    "duration": 13,
    "start_time": "2023-03-28T12:09:16.882Z"
   },
   {
    "duration": 243,
    "start_time": "2023-03-28T12:09:16.896Z"
   },
   {
    "duration": 15,
    "start_time": "2023-03-28T12:09:17.140Z"
   },
   {
    "duration": 5,
    "start_time": "2023-03-28T12:09:17.157Z"
   },
   {
    "duration": 15,
    "start_time": "2023-03-28T12:09:17.164Z"
   },
   {
    "duration": 6,
    "start_time": "2023-03-28T12:09:17.181Z"
   },
   {
    "duration": 242,
    "start_time": "2023-03-28T12:09:17.188Z"
   },
   {
    "duration": 17,
    "start_time": "2023-03-28T12:09:17.431Z"
   },
   {
    "duration": 407,
    "start_time": "2023-03-28T12:09:17.450Z"
   },
   {
    "duration": 152,
    "start_time": "2023-03-28T12:09:17.859Z"
   },
   {
    "duration": 387,
    "start_time": "2023-03-28T12:09:18.012Z"
   },
   {
    "duration": 131,
    "start_time": "2023-03-28T12:09:18.401Z"
   },
   {
    "duration": 18,
    "start_time": "2023-03-28T12:09:18.534Z"
   },
   {
    "duration": 10,
    "start_time": "2023-03-28T12:09:27.836Z"
   },
   {
    "duration": 8,
    "start_time": "2023-03-28T12:09:42.059Z"
   },
   {
    "duration": 6,
    "start_time": "2023-03-28T12:09:50.927Z"
   },
   {
    "duration": 18,
    "start_time": "2023-03-28T12:09:59.949Z"
   }
  ],
  "kernelspec": {
   "display_name": "Python 3 (ipykernel)",
   "language": "python",
   "name": "python3"
  },
  "language_info": {
   "codemirror_mode": {
    "name": "ipython",
    "version": 3
   },
   "file_extension": ".py",
   "mimetype": "text/x-python",
   "name": "python",
   "nbconvert_exporter": "python",
   "pygments_lexer": "ipython3",
   "version": "3.9.13"
  },
  "toc": {
   "base_numbering": 1,
   "nav_menu": {},
   "number_sections": true,
   "sideBar": true,
   "skip_h1_title": true,
   "title_cell": "Table of Contents",
   "title_sidebar": "Contents",
   "toc_cell": false,
   "toc_position": {
    "height": "698px",
    "left": "27px",
    "top": "111.133px",
    "width": "371.4px"
   },
   "toc_section_display": true,
   "toc_window_display": true
  }
 },
 "nbformat": 4,
 "nbformat_minor": 5
}
